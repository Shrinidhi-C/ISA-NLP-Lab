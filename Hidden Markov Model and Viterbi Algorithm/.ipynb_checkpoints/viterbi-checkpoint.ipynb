{
 "cells": [
  {
   "cell_type": "code",
   "execution_count": 4,
   "metadata": {
    "collapsed": false,
    "deletable": true,
    "editable": true
   },
   "outputs": [],
   "source": [
    "from math import log10\n",
    "from collections import Counter, defaultdict"
   ]
  },
  {
   "cell_type": "markdown",
   "metadata": {
    "deletable": true,
    "editable": true
   },
   "source": [
    "# 中文 Language Model"
   ]
  },
  {
   "cell_type": "code",
   "execution_count": 5,
   "metadata": {
    "collapsed": false,
    "deletable": true,
    "editable": true
   },
   "outputs": [],
   "source": [
    "filename = \"corpus.txt/corpus.txt\"\n",
    "V1 = 10000\n",
    "V2 = 10000**2\n",
    "k = 10\n",
    "\n",
    "def to_ngrams(unigrams, length):\n",
    "    return zip(*[unigrams[i:] for i in range(length)])\n",
    "\n",
    "unigram_counts, bigram_counts = Counter(), Counter()\n",
    "with open(filename, 'r') as text_file:\n",
    "    for line in text_file:\n",
    "        unigram_counts.update(line.decode(\"utf8\"))\n",
    "        bigram_counts.update(to_ngrams(line.decode(\"utf8\"), 2))"
   ]
  },
  {
   "cell_type": "code",
   "execution_count": 6,
   "metadata": {
    "collapsed": false
   },
   "outputs": [
    {
     "name": "stdout",
     "output_type": "stream",
     "text": [
      "， 410592\n",
      "的 257505\n",
      "。 161286\n",
      "一 92968\n",
      "是 88867\n"
     ]
    }
   ],
   "source": [
    "for word, count in unigram_counts.most_common(5):\n",
    "    print word, count"
   ]
  },
  {
   "cell_type": "code",
   "execution_count": 7,
   "metadata": {
    "collapsed": false
   },
   "outputs": [
    {
     "name": "stdout",
     "output_type": "stream",
     "text": [
      "我們 15613\n",
      "，我 13995\n",
      "一個 13063\n",
      "，但 9518\n",
      "，而 8847\n"
     ]
    }
   ],
   "source": [
    "for (first,second), count in bigram_counts.most_common(5):\n",
    "    print first+second, count"
   ]
  },
  {
   "cell_type": "code",
   "execution_count": 8,
   "metadata": {
    "collapsed": false
   },
   "outputs": [
    {
     "name": "stdout",
     "output_type": "stream",
     "text": [
      "(3991, 99313298)\n",
      "[0.10398396391881734, 1.3156626506024096, 2.340659340659341, 3.1737089201877935, 3.4023668639053253, 5.947826086956522, 6.078947368421052, 6.545454545454546, 8.444444444444445, 10.921052631578947]\n",
      "[0.0031815880286243238, 0.6897909321653047, 1.525573969057975, 2.5323901981305714, 3.4326635314236853, 4.47054427699589, 5.380955034267566, 6.408814149028704, 7.361563517915309, 8.57853982300885]\n",
      "(7672143, 7663643)\n",
      "(7672973, 7741193)\n",
      "(0.9998918281088699, 0.9899821642478104)\n"
     ]
    }
   ],
   "source": [
    "unigram_Nr = Counter(unigram_counts.values())\n",
    "bigram_Nr = Counter(bigram_counts.values())\n",
    "# compute N0\n",
    "unigram_Nr[0] = V1 - len(unigram_counts)\n",
    "bigram_Nr[0] = V2 - len(bigram_counts)\n",
    "print(unigram_Nr[0], bigram_Nr[0])\n",
    "\n",
    "# compute r\n",
    "unigram_r = [(i+1) * float(unigram_Nr[i+1]) / unigram_Nr[i] for i in range(k)]\n",
    "bigram_r = [(i+1) * float(bigram_Nr[i+1]) / bigram_Nr[i] for i in range(k)]\n",
    "print(unigram_r)\n",
    "print(bigram_r)\n",
    "\n",
    "# compute normalize factor\n",
    "# compute N\n",
    "unigram_N = sum(unigram_counts.values())\n",
    "bigram_N = sum(bigram_counts.values())\n",
    "print(unigram_N, bigram_N)\n",
    "\n",
    "# compute new probability sum\n",
    "unigram_N_ = unigram_N + k * unigram_Nr[k]\n",
    "bigram_N_ = bigram_N + k * bigram_Nr[k]\n",
    "print(unigram_N_, bigram_N_)\n",
    "\n",
    "unigram_norm_factor = float(unigram_N) / unigram_N_\n",
    "bigram_norm_factor = float(bigram_N) / bigram_N_\n",
    "print(unigram_norm_factor, bigram_norm_factor)\n",
    "\n",
    "# you can use log to speed up the calculation\n",
    "unicount_log = {k: log10(v) for k, v in unigram_counts.items()}\n",
    "bicount_log = {k: log10(v) for k, v in bigram_counts.items()}\n",
    "unigram_r_log = [log10(r) for r in unigram_r]\n",
    "bigram_r_log = [log10(r) for r in bigram_r]\n",
    "unigram_N_log = log10(unigram_N_)\n",
    "bigram_N_log = log10(bigram_N_)\n",
    "\n",
    "\n",
    "def prob_1word(unigram):\n",
    "    count = unigram_counts[unigram]\n",
    "    r = unigram_r_log[count] if count < k else unicount_log[unigram]\n",
    "    return r - unigram_N_log\n",
    "def prob_2words(text_front, text_rear):\n",
    "    count = bigram_counts[text_front, text_rear]\n",
    "    r = bigram_r_log[count] if count < k else bicount_log[text_front, text_rear]\n",
    "    return r - bigram_N_log\n",
    "#Estimating P(w) and P(w’|w)\n",
    "# def prob_1word(unigram):\n",
    "#     count = unigram_counts[unigram]\n",
    "#     r = unigram_r[count] if count < k else count\n",
    "#     return log10(float(r) / unigram_N_)\n",
    "# def prob_2words(text_front, text_rear):\n",
    "#     count = bigram_counts[text_front, text_rear]\n",
    "#     r = bigram_r[count] if count < k else count\n",
    "#     return log10(float(r) / bigram_N_)\n",
    "def prob_word_by_word(text_front, text_rear): #條件機率\n",
    "    return prob_2words(text_front, text_rear) - prob_1word(text_front)\n",
    "def prob_words(words):\n",
    "    return prob_1word(words[0]) + sum(prob_word_by_word(words[i-1], words[i]) for i in range(1, len(words)))\n",
    "def prob_text(text):\n",
    "    return prob_words(text.lower().split())"
   ]
  },
  {
   "cell_type": "raw",
   "metadata": {
    "collapsed": true,
    "deletable": true,
    "editable": true
   },
   "source": [
    "# your code here (probability of word sequences)\n",
    "# (you can use log to speed up the calculation)"
   ]
  },
  {
   "cell_type": "markdown",
   "metadata": {
    "deletable": true,
    "editable": true
   },
   "source": [
    "### 階段測試"
   ]
  },
  {
   "cell_type": "code",
   "execution_count": 9,
   "metadata": {
    "collapsed": false,
    "deletable": true,
    "editable": true
   },
   "outputs": [
    {
     "name": "stdout",
     "output_type": "stream",
     "text": [
      "-3.25200050182\n",
      "-3.24249914975\n",
      "-4.36636366172\n",
      "-1.1143631599\n",
      "-2.99594834492\n",
      "-1.60415640676\n",
      "-2.02220039874\n",
      "-3.6263568055\n",
      "-7.86799730106\n"
     ]
    },
    {
     "data": {
      "text/plain": [
       "u'\\u4e0d'"
      ]
     },
     "execution_count": 9,
     "metadata": {},
     "output_type": "execute_result"
    }
   ],
   "source": [
    "print(prob_1word(u'清'))\n",
    "print(prob_1word(u'華'))\n",
    "print(prob_2words(u'清', u'華'))\n",
    "print(prob_word_by_word(u'清',u'華'))\n",
    "print prob_word_by_word(u\"華\",u\"清\")\n",
    "print prob_word_by_word(u\"不\",u\"知\")\n",
    "print prob_1word(u'不')\n",
    "print prob_words(u\"不知\")\n",
    "print prob_text(u\"不知\")\n",
    "u\"不知\"[0]"
   ]
  },
  {
   "cell_type": "code",
   "execution_count": 10,
   "metadata": {
    "collapsed": false
   },
   "outputs": [
    {
     "name": "stdout",
     "output_type": "stream",
     "text": [
      "-2.02220039874\n",
      "-3.66537914377\n",
      "-3.39080907597\n"
     ]
    }
   ],
   "source": [
    "print prob_words(u\"不\")\n",
    "print prob_words(u\"補\")\n",
    "print prob_words(u\"半\")"
   ]
  },
  {
   "cell_type": "code",
   "execution_count": 11,
   "metadata": {
    "collapsed": false,
    "deletable": true,
    "editable": true
   },
   "outputs": [],
   "source": [
    "import pandas\n",
    "%matplotlib inline\n",
    "s = pandas.Series(prob_1word(unigram) for unigram in unigram_counts)"
   ]
  },
  {
   "cell_type": "code",
   "execution_count": 12,
   "metadata": {
    "collapsed": false
   },
   "outputs": [
    {
     "data": {
      "text/plain": [
       "<matplotlib.axes._subplots.AxesSubplot at 0x17c79438>"
      ]
     },
     "execution_count": 12,
     "metadata": {},
     "output_type": "execute_result"
    },
    {
     "data": {
      "image/png": "[encoded data removed]",
      "text/plain": [
       "<matplotlib.figure.Figure at 0x17c79668>"
      ]
     },
     "metadata": {},
     "output_type": "display_data"
    }
   ],
   "source": [
    "s.hist(bins=100)"
   ]
  },
  {
   "cell_type": "markdown",
   "metadata": {
    "deletable": true,
    "editable": true
   },
   "source": [
    "# 注音對應表"
   ]
  },
  {
   "cell_type": "code",
   "execution_count": 13,
   "metadata": {
    "collapsed": false,
    "deletable": true,
    "editable": true
   },
   "outputs": [],
   "source": [
    "import codecs\n",
    "\n",
    "bpmf1_to_chars = defaultdict(list)\n",
    "chars_to_phonic = defaultdict(str)\n",
    "phonics_list = []\n",
    "with codecs.open(\"bpmf.txt\", 'r', 'utf-8') as bpmf_file:\n",
    "    for line in bpmf_file:\n",
    "        first_spell, count, word, full_spell = line.split(\"\\t\")\n",
    "        bpmf1_to_chars[first_spell].append(word)\n",
    "        chars_to_phonic[word] = first_spell\n",
    "        phonics_list.append(first_spell)\n",
    "phonics_list = list(set(phonics_list))"
   ]
  },
  {
   "cell_type": "code",
   "execution_count": 14,
   "metadata": {
    "collapsed": false
   },
   "outputs": [
    {
     "name": "stdout",
     "output_type": "stream",
     "text": [
      "ㄑ\n"
     ]
    }
   ],
   "source": [
    "print chars_to_phonic[u\"請\"]"
   ]
  },
  {
   "cell_type": "code",
   "execution_count": 15,
   "metadata": {
    "collapsed": false
   },
   "outputs": [
    {
     "name": "stdout",
     "output_type": "stream",
     "text": [
      "ㄅ\n",
      "ㄇ\n",
      "ㄆ\n",
      "ㄉ\n",
      "ㄈ\n",
      "ㄋ\n",
      "ㄊ\n",
      "ㄍ\n",
      "ㄌ\n",
      "ㄏ\n",
      "ㄎ\n",
      "ㄑ\n",
      "ㄐ\n",
      "ㄓ\n",
      "ㄒ\n",
      "ㄕ\n",
      "ㄔ\n",
      "ㄗ\n",
      "ㄖ\n",
      "ㄙ\n",
      "ㄘ\n",
      "ㄛ\n",
      "ㄚ\n",
      "ㄜ\n",
      "ㄟ\n",
      "ㄞ\n",
      "ㄡ\n",
      "ㄠ\n",
      "ㄣ\n",
      "ㄢ\n",
      "ㄤ\n",
      "ㄧ\n",
      "ㄦ\n",
      "ㄩ\n",
      "ㄨ\n"
     ]
    }
   ],
   "source": [
    "for i in phonics_list:\n",
    "    print i"
   ]
  },
  {
   "cell_type": "code",
   "execution_count": 16,
   "metadata": {
    "collapsed": false
   },
   "outputs": [
    {
     "name": "stdout",
     "output_type": "stream",
     "text": [
      "唯\n",
      "玩\n",
      "臥\n",
      "悟\n",
      "悟\n",
      "無\n",
      "瘟\n",
      "霧\n",
      "娃\n",
      "襪\n"
     ]
    }
   ],
   "source": [
    "for i in bpmf1_to_chars[u'ㄨ'][:10]:\n",
    "    print i"
   ]
  },
  {
   "cell_type": "code",
   "execution_count": 17,
   "metadata": {
    "collapsed": false,
    "scrolled": true
   },
   "outputs": [
    {
     "data": {
      "text/plain": [
       "[u'\\u3105',\n",
       " u'\\u3107',\n",
       " u'\\u3106',\n",
       " u'\\u3109',\n",
       " u'\\u3108',\n",
       " u'\\u310b',\n",
       " u'\\u310a',\n",
       " u'\\u310d',\n",
       " u'\\u310c',\n",
       " u'\\u310f',\n",
       " u'\\u310e',\n",
       " u'\\u3111',\n",
       " u'\\u3110',\n",
       " u'\\u3113',\n",
       " u'\\u3112',\n",
       " u'\\u3115',\n",
       " u'\\u3114',\n",
       " u'\\u3117',\n",
       " u'\\u3116',\n",
       " u'\\u3119',\n",
       " u'\\u3118',\n",
       " u'\\u311b',\n",
       " u'\\u311a',\n",
       " u'\\u311c',\n",
       " u'\\u311f',\n",
       " u'\\u311e',\n",
       " u'\\u3121',\n",
       " u'\\u3120',\n",
       " u'\\u3123',\n",
       " u'\\u3122',\n",
       " u'\\u3124',\n",
       " u'\\u3127',\n",
       " u'\\u3126',\n",
       " u'\\u3129',\n",
       " u'\\u3128']"
      ]
     },
     "execution_count": 17,
     "metadata": {},
     "output_type": "execute_result"
    }
   ],
   "source": [
    "bpmf1_to_chars.keys()"
   ]
  },
  {
   "cell_type": "markdown",
   "metadata": {
    "deletable": true,
    "editable": true
   },
   "source": [
    "### 階段測試"
   ]
  },
  {
   "cell_type": "code",
   "execution_count": 18,
   "metadata": {
    "collapsed": false,
    "deletable": true,
    "editable": true
   },
   "outputs": [
    {
     "data": {
      "text/plain": [
       "[u'\\u552f',\n",
       " u'\\u73a9',\n",
       " u'\\u81e5',\n",
       " u'\\u609f',\n",
       " u'\\u609f',\n",
       " u'\\u7121',\n",
       " u'\\u761f',\n",
       " u'\\u9727',\n",
       " u'\\u5a03',\n",
       " u'\\u896a',\n",
       " u'\\u856a',\n",
       " u'\\u5c4b',\n",
       " u'\\u502d',\n",
       " u'\\u52d9',\n",
       " u'\\u738b',\n",
       " u'\\u6e2d',\n",
       " u'\\u5deb',\n",
       " u'\\u7f54',\n",
       " u'\\u5514',\n",
       " u'\\u8466',\n",
       " u'\\u6211',\n",
       " u'\\u6170',\n",
       " u'\\u570d',\n",
       " u'\\u8ac9',\n",
       " u'\\u7aa9',\n",
       " u'\\u8b02',\n",
       " u'\\u5f4e',\n",
       " u'\\u52ff',\n",
       " u'\\u821e',\n",
       " u'\\u6845',\n",
       " u'\\u9b4f',\n",
       " u'\\u8155',\n",
       " u'\\u868a',\n",
       " u'\\u73a9',\n",
       " u'\\u754f',\n",
       " u'\\u6c61',\n",
       " u'\\u6664',\n",
       " u'\\u507d',\n",
       " u'\\u9811',\n",
       " u'\\u520e',\n",
       " u'\\u5e44',\n",
       " u'\\u6e26',\n",
       " u'\\u54c7',\n",
       " u'\\u7a69',\n",
       " u'\\u885b',\n",
       " u'\\u6c6a',\n",
       " u'\\u7aaa',\n",
       " u'\\u7515',\n",
       " u'\\u504e',\n",
       " u'\\u671b',\n",
       " u'\\u6587',\n",
       " u'\\u7d08',\n",
       " u'\\u7269',\n",
       " u'\\u8f13',\n",
       " u'\\u70f7',\n",
       " u'\\u5dcd',\n",
       " u'\\u805e',\n",
       " u'\\u80c3',\n",
       " u'\\u851a',\n",
       " u'\\u6b66',\n",
       " u'\\u543e',\n",
       " u'\\u8c4c',\n",
       " u'\\u5916',\n",
       " u'\\u6587',\n",
       " u'\\u6b6a',\n",
       " u'\\u4f4d',\n",
       " u'\\u84ca',\n",
       " u'\\u6c83',\n",
       " u'\\u5b8c',\n",
       " u'\\u5984',\n",
       " u'\\u63e1',\n",
       " u'\\u8aa3',\n",
       " u'\\u4e94',\n",
       " u'\\u7063',\n",
       " u'\\u9a16',\n",
       " u'\\u8aa4',\n",
       " u'\\u5371',\n",
       " u'\\u8708',\n",
       " u'\\u60cb',\n",
       " u'\\u9055',\n",
       " u'\\u7d0b',\n",
       " u'\\u5a49',\n",
       " u'\\u5a01',\n",
       " u'\\u873f',\n",
       " u'\\u7dad',\n",
       " u'\\u9d61',\n",
       " u'\\u4f0d',\n",
       " u'\\u6440',\n",
       " u'\\u4ea1',\n",
       " u'\\u70ba',\n",
       " u'\\u70ba',\n",
       " u'\\u7d0a',\n",
       " u'\\u842c',\n",
       " u'\\u74e6',\n",
       " u'\\u5a13',\n",
       " u'\\u840e',\n",
       " u'\\u4ea1',\n",
       " u'\\u507d',\n",
       " u'\\u5594',\n",
       " u'\\u68a7',\n",
       " u'\\u5473',\n",
       " u'\\u86d9',\n",
       " u'\\u7def',\n",
       " u'\\u55da',\n",
       " u'\\u5a29',\n",
       " u'\\u7db2',\n",
       " u'\\u68a7',\n",
       " u'\\u5fae',\n",
       " u'\\u6c59',\n",
       " u'\\u9f2f',\n",
       " u'\\u5fd8',\n",
       " u'\\u6342',\n",
       " u'\\u60df',\n",
       " u'\\u7fc1',\n",
       " u'\\u665a',\n",
       " u'\\u7325',\n",
       " u'\\u672a',\n",
       " u'\\u8155',\n",
       " u'\\u60e1',\n",
       " u'\\u5fd8',\n",
       " u'\\u6eab',\n",
       " u'\\u633d',\n",
       " u'\\u97cb',\n",
       " u'\\u5433',\n",
       " u'\\u6e25',\n",
       " u'\\u5e37',\n",
       " u'\\u65fa',\n",
       " u'\\u5c09',\n",
       " u'\\u554f',\n",
       " u'\\u4e38',\n",
       " u'\\u504e',\n",
       " u'\\u6789',\n",
       " u'\\u59d4',\n",
       " u'\\u9935',\n",
       " u'\\u55e1',\n",
       " u'\\u5c3e',\n",
       " u'\\u5049',\n",
       " u'\\u8587',\n",
       " u'\\u543b',\n",
       " u'\\u5862',\n",
       " u'\\u65a1',\n",
       " u'\\u5140',\n",
       " u'\\u5348',\n",
       " u'\\u6bcb',\n",
       " u'\\u70cf',\n",
       " u'\\u5af5',\n",
       " u'\\u5a03',\n",
       " u'\\u5582',\n",
       " u'\\u4fae',\n",
       " u'\\u7897',\n",
       " u'\\u60d8',\n",
       " u'\\u839e',\n",
       " u'\\u5b9b',\n",
       " u'\\u6316',\n",
       " u'\\u5f80']"
      ]
     },
     "execution_count": 18,
     "metadata": {},
     "output_type": "execute_result"
    }
   ],
   "source": [
    "bpmf1_to_chars[u'ㄨ']"
   ]
  },
  {
   "cell_type": "markdown",
   "metadata": {
    "deletable": true,
    "editable": true
   },
   "source": [
    "# viterbi"
   ]
  },
  {
   "cell_type": "code",
   "execution_count": 19,
   "metadata": {
    "collapsed": false,
    "deletable": true,
    "editable": true
   },
   "outputs": [],
   "source": [
    "# Helps visualize the steps of Viterbi.\n",
    "def print_dptable(V):\n",
    "    print \"    \",\n",
    "    for i in range(len(V)):\n",
    "        print \"%7d\" % i,\n",
    "    print\n",
    "\n",
    "    for y in V[0].keys():\n",
    "        print\"%.5s: \" % y,\n",
    "        for t in range(len(V)):\n",
    "            print \"%.7s\" % (\"%f\" % V[t][y]),\n",
    "        print\n",
    "\n",
    "def viterbi(obs, states, start_p, trans_p, emit_p):\n",
    "    def get_states(bpmf):\n",
    "        return bpmf1_to_chars[bpmf]\n",
    "    V = [{}]\n",
    "    path = {}\n",
    "\n",
    "    # Initialize base cases (t == 0)\n",
    "    for y in states:\n",
    "        V[0][y] = start_p[y] + emit_p[y][obs[0]]\n",
    "        path[y] = [y]\n",
    "\n",
    "    # Run Viterbi for t > 0\n",
    "    for t in range(1,len(obs)):\n",
    "        V.append({})\n",
    "        newpath = {}\n",
    "        \n",
    "        for y in get_states(obs[t]):\n",
    "            (prob, state) = max([(V[t-1][y0] + trans_p[y0][y] + emit_p[y][obs[t]], y0) for y0 in get_states(obs[t-1])])\n",
    "            V[t][y] = prob\n",
    "            newpath[y] = path[state] + [y]\n",
    "\n",
    "        # Don't need to remember the old paths\n",
    "        path = newpath\n",
    "\n",
    "    #print_dptable(V)\n",
    "    (prob, state) = max([(V[len(obs) - 1][y], y) for y in get_states(obs[-1])])\n",
    "    return (prob, path[state])"
   ]
  },
  {
   "cell_type": "code",
   "execution_count": 20,
   "metadata": {
    "collapsed": false
   },
   "outputs": [
    {
     "data": {
      "text/plain": [
       "True"
      ]
     },
     "execution_count": 20,
     "metadata": {},
     "output_type": "execute_result"
    }
   ],
   "source": [
    "u\"書\" not in phonics_list"
   ]
  },
  {
   "cell_type": "code",
   "execution_count": 21,
   "metadata": {
    "collapsed": false
   },
   "outputs": [
    {
     "name": "stdout",
     "output_type": "stream",
     "text": [
      "-2.85659578629\n",
      "-3.22352961959\n",
      "-3.0990646416\n"
     ]
    }
   ],
   "source": [
    "print prob_words(u\"情\")\n",
    "print prob_words(u\"請\")\n",
    "print prob_words(u\"七\")"
   ]
  },
  {
   "cell_type": "code",
   "execution_count": 22,
   "metadata": {
    "collapsed": false
   },
   "outputs": [
    {
     "ename": "KeyError",
     "evalue": "'\\xe3\\x84\\x91'",
     "output_type": "error",
     "traceback": [
      "\u001b[1;31m---------------------------------------------------------------------------\u001b[0m",
      "\u001b[1;31mKeyError\u001b[0m                                  Traceback (most recent call last)",
      "\u001b[1;32m<ipython-input-22-def5ffc0c192>\u001b[0m in \u001b[0;36m<module>\u001b[1;34m()\u001b[0m\n\u001b[0;32m     20\u001b[0m                    \u001b[0mtransition_probability\u001b[0m\u001b[1;33m,\u001b[0m\u001b[1;33m\u001b[0m\u001b[0m\n\u001b[0;32m     21\u001b[0m                    emission_probability)\n\u001b[1;32m---> 22\u001b[1;33m \u001b[0mprob\u001b[0m\u001b[1;33m,\u001b[0m \u001b[0mpath\u001b[0m \u001b[1;33m=\u001b[0m \u001b[0mexample\u001b[0m\u001b[1;33m(\u001b[0m\u001b[1;33m)\u001b[0m\u001b[1;33m\u001b[0m\u001b[0m\n\u001b[0m\u001b[0;32m     23\u001b[0m \u001b[1;32mprint\u001b[0m \u001b[0mprob\u001b[0m\u001b[1;33m,\u001b[0m \u001b[0mpath\u001b[0m\u001b[1;33m\u001b[0m\u001b[0m\n",
      "\u001b[1;32m<ipython-input-22-def5ffc0c192>\u001b[0m in \u001b[0;36mexample\u001b[1;34m()\u001b[0m\n\u001b[0;32m     19\u001b[0m                    \u001b[0mstart_probability\u001b[0m\u001b[1;33m,\u001b[0m\u001b[1;33m\u001b[0m\u001b[0m\n\u001b[0;32m     20\u001b[0m                    \u001b[0mtransition_probability\u001b[0m\u001b[1;33m,\u001b[0m\u001b[1;33m\u001b[0m\u001b[0m\n\u001b[1;32m---> 21\u001b[1;33m                    emission_probability)\n\u001b[0m\u001b[0;32m     22\u001b[0m \u001b[0mprob\u001b[0m\u001b[1;33m,\u001b[0m \u001b[0mpath\u001b[0m \u001b[1;33m=\u001b[0m \u001b[0mexample\u001b[0m\u001b[1;33m(\u001b[0m\u001b[1;33m)\u001b[0m\u001b[1;33m\u001b[0m\u001b[0m\n\u001b[0;32m     23\u001b[0m \u001b[1;32mprint\u001b[0m \u001b[0mprob\u001b[0m\u001b[1;33m,\u001b[0m \u001b[0mpath\u001b[0m\u001b[1;33m\u001b[0m\u001b[0m\n",
      "\u001b[1;32m<ipython-input-19-9af1317ab206>\u001b[0m in \u001b[0;36mviterbi\u001b[1;34m(obs, states, start_p, trans_p, emit_p)\u001b[0m\n\u001b[0;32m     20\u001b[0m     \u001b[1;31m# Initialize base cases (t == 0)\u001b[0m\u001b[1;33m\u001b[0m\u001b[1;33m\u001b[0m\u001b[0m\n\u001b[0;32m     21\u001b[0m     \u001b[1;32mfor\u001b[0m \u001b[0my\u001b[0m \u001b[1;32min\u001b[0m \u001b[0mstates\u001b[0m\u001b[1;33m:\u001b[0m\u001b[1;33m\u001b[0m\u001b[0m\n\u001b[1;32m---> 22\u001b[1;33m         \u001b[0mV\u001b[0m\u001b[1;33m[\u001b[0m\u001b[1;36m0\u001b[0m\u001b[1;33m]\u001b[0m\u001b[1;33m[\u001b[0m\u001b[0my\u001b[0m\u001b[1;33m]\u001b[0m \u001b[1;33m=\u001b[0m \u001b[0mstart_p\u001b[0m\u001b[1;33m[\u001b[0m\u001b[0my\u001b[0m\u001b[1;33m]\u001b[0m \u001b[1;33m+\u001b[0m \u001b[0memit_p\u001b[0m\u001b[1;33m[\u001b[0m\u001b[0my\u001b[0m\u001b[1;33m]\u001b[0m\u001b[1;33m[\u001b[0m\u001b[0mobs\u001b[0m\u001b[1;33m[\u001b[0m\u001b[1;36m0\u001b[0m\u001b[1;33m]\u001b[0m\u001b[1;33m]\u001b[0m\u001b[1;33m\u001b[0m\u001b[0m\n\u001b[0m\u001b[0;32m     23\u001b[0m         \u001b[0mpath\u001b[0m\u001b[1;33m[\u001b[0m\u001b[0my\u001b[0m\u001b[1;33m]\u001b[0m \u001b[1;33m=\u001b[0m \u001b[1;33m[\u001b[0m\u001b[0my\u001b[0m\u001b[1;33m]\u001b[0m\u001b[1;33m\u001b[0m\u001b[0m\n\u001b[0;32m     24\u001b[0m \u001b[1;33m\u001b[0m\u001b[0m\n",
      "\u001b[1;31mKeyError\u001b[0m: '\\xe3\\x84\\x91'"
     ]
    }
   ],
   "source": [
    "states = ('Healthy', 'Fever') #產生所有跟注音有關的字\n",
    " \n",
    "observations = (\"ㄑ\",\"ㄅ\",\"ㄨ\") #輸入注音符號\n",
    " \n",
    "start_probability = {'Healthy': 0.6, 'Fever': 0.4} #第一個字的機率\n",
    " \n",
    "transition_probability = {\n",
    "   'Healthy' : {'Healthy': 0.7, 'Fever': 0.3},\n",
    "   'Fever' : {'Healthy': 0.4, 'Fever': 0.6},\n",
    "   }\n",
    " \n",
    "emission_probability = {\n",
    "   'Healthy' : {'normal': 0.5, 'cold': 0.4, 'dizzy': 0.1}, #注音轉中文 {國字:{注音:機率,注音:機率...}}\n",
    "   'Fever' : {'normal': 0.1, 'cold': 0.3, 'dizzy': 0.6},\n",
    "   }\n",
    "def example():\n",
    "    return viterbi(observations,\n",
    "                   states,\n",
    "                   start_probability,\n",
    "                   transition_probability,\n",
    "                   emission_probability)\n",
    "prob, path = example()\n",
    "print prob, path"
   ]
  },
  {
   "cell_type": "code",
   "execution_count": 26,
   "metadata": {
    "collapsed": false
   },
   "outputs": [
    {
     "name": "stdout",
     "output_type": "stream",
     "text": [
      "自 然 語 言 處 理\n"
     ]
    },
    {
     "data": {
      "image/png": "[encoded data removed]",
      "text/plain": [
       "<matplotlib.figure.Figure at 0x1a11f828>"
      ]
     },
     "metadata": {},
     "output_type": "display_data"
    }
   ],
   "source": [
    "def bpmf1s_to_chars(spell_string):\n",
    "    # phonetic to word\n",
    "    phonics = \"\"\n",
    "    for input_word in spell_string:\n",
    "        if input_word not in phonics_list:\n",
    "            phonics += chars_to_phonic[input_word]\n",
    "        else:\n",
    "            phonics += input_word\n",
    "#     phonics = spell_string\n",
    "    observation = tuple([pho for pho in phonics])\n",
    "    #generate all chinese word correspond to the input phonics\n",
    "    states = []\n",
    "    for pho in phonics:\n",
    "        # a list contain chinese character\n",
    "        chi_ch_list = bpmf1_to_chars[pho]\n",
    "        states += chi_ch_list\n",
    "    \n",
    "    start_probability = defaultdict(float)\n",
    "    emission_probability = defaultdict(lambda: defaultdict(lambda: 0.0))\n",
    "    for word in states:\n",
    "        start_probability[word] = prob_words(word)\n",
    "        emission_probability[word].update({chars_to_phonic[word]:1})\n",
    "    \n",
    "    transition_probability = defaultdict(lambda: defaultdict(lambda: 0.0))\n",
    "    for text_front in states:\n",
    "        for text_rear in states:\n",
    "            transition_probability[text_front][text_rear] = prob_word_by_word(text_front, text_rear)\n",
    "            \n",
    "    prob, path = viterbi(observation, states, start_probability, transition_probability, emission_probability)\n",
    "    def line_plot_object(series):\n",
    "        import pandas\n",
    "        %matplotlib inline\n",
    "        s = pandas.Series(series)\n",
    "        return s.transpose().plot()\n",
    "    \n",
    "    prob_path = [start_probability[path[0]]]\n",
    "    for t in range(1, len(path)):\n",
    "        prob_path.append(prob_path[t-1] + transition_probability[path[t-1]][path[t]] )\n",
    "    line_plot_object(prob_path)\n",
    "    \n",
    "    return prob,path,observation,states,start_probability,transition_probability,emission_probability\n",
    "\n",
    "#function test\n",
    "for i in bpmf1s_to_chars(u'ㄗㄖㄩㄧㄔㄌ')[1]:\n",
    "    print i,"
   ]
  },
  {
   "cell_type": "markdown",
   "metadata": {
    "deletable": true,
    "editable": true
   },
   "source": [
    "### 最終測試"
   ]
  },
  {
   "cell_type": "code",
   "execution_count": 31,
   "metadata": {
    "collapsed": false
   },
   "outputs": [
    {
     "name": "stdout",
     "output_type": "stream",
     "text": [
      "中 華 民 國 政 府\n"
     ]
    },
    {
     "data": {
      "image/png": "[encoded data removed]",
      "text/plain": [
       "<matplotlib.figure.Figure at 0x2454c048>"
      ]
     },
     "metadata": {},
     "output_type": "display_data"
    }
   ],
   "source": [
    "for i in bpmf1s_to_chars(u'ㄓㄏㄇㄍㄓㄈ')[1]:\n",
    "    print i,"
   ]
  },
  {
   "cell_type": "code",
   "execution_count": 32,
   "metadata": {
    "collapsed": false
   },
   "outputs": [
    {
     "name": "stdout",
     "output_type": "stream",
     "text": [
      "不 是\n"
     ]
    },
    {
     "data": {
      "image/png": "[encoded data removed]",
      "text/plain": [
       "<matplotlib.figure.Figure at 0x243dc908>"
      ]
     },
     "metadata": {},
     "output_type": "display_data"
    }
   ],
   "source": [
    "for i in bpmf1s_to_chars(u'ㄅㄕ')[1]:\n",
    "    print i,"
   ]
  },
  {
   "cell_type": "code",
   "execution_count": 57,
   "metadata": {
    "collapsed": false,
    "deletable": true,
    "editable": true
   },
   "outputs": [
    {
     "name": "stdout",
     "output_type": "stream",
     "text": [
      "ㄏ\n",
      "ㄉ\n",
      "ㄒ\n",
      "清 華 大 學\n"
     ]
    },
    {
     "data": {
      "image/png": "[encoded data removed]",
      "text/plain": [
       "<matplotlib.figure.Figure at 0x23c42908>"
      ]
     },
     "metadata": {},
     "output_type": "display_data"
    }
   ],
   "source": [
    "for i in bpmf1s_to_chars(u'ㄑㄏㄉㄒ')[1]:\n",
    "    print i,"
   ]
  },
  {
   "cell_type": "code",
   "execution_count": 56,
   "metadata": {
    "collapsed": false,
    "deletable": true,
    "editable": true
   },
   "outputs": [
    {
     "name": "stdout",
     "output_type": "stream",
     "text": [
      "ㄒ\n",
      "ㄍ\n",
      "ㄔ\n",
      "資 訊 工 程\n"
     ]
    },
    {
     "data": {
      "image/png": "[encoded data removed]",
      "text/plain": [
       "<matplotlib.figure.Figure at 0x2006c7f0>"
      ]
     },
     "metadata": {},
     "output_type": "display_data"
    }
   ],
   "source": [
    "for i in bpmf1s_to_chars(u'ㄗㄒㄍㄔ')[1]:\n",
    "    print i,"
   ]
  },
  {
   "cell_type": "code",
   "execution_count": 27,
   "metadata": {
    "collapsed": false,
    "deletable": true,
    "editable": true
   },
   "outputs": [
    {
     "name": "stdout",
     "output_type": "stream",
     "text": [
      "這 時 也 不 是\n"
     ]
    },
    {
     "data": {
      "image/png": "[encoded data removed]",
      "text/plain": [
       "<matplotlib.figure.Figure at 0x1a1567b8>"
      ]
     },
     "metadata": {},
     "output_type": "display_data"
    }
   ],
   "source": [
    "for i in bpmf1s_to_chars(u'ㄓㄕㄧㄅ書')[1]:\n",
    "    print i,"
   ]
  },
  {
   "cell_type": "code",
   "execution_count": 28,
   "metadata": {
    "collapsed": false,
    "deletable": true,
    "editable": true
   },
   "outputs": [
    {
     "name": "stdout",
     "output_type": "stream",
     "text": [
      "立 法 委 員 的 造 成 績\n"
     ]
    },
    {
     "data": {
      "image/png": "[encoded data removed]",
      "text/plain": [
       "<matplotlib.figure.Figure at 0x1a1cc6a0>"
      ]
     },
     "metadata": {},
     "output_type": "display_data"
    }
   ],
   "source": [
    "for i in bpmf1s_to_chars(u'ㄌㄈㄨㄩㄉㄗㄔ架')[1]:\n",
    "    print i,"
   ]
  },
  {
   "cell_type": "code",
   "execution_count": 29,
   "metadata": {
    "collapsed": false,
    "deletable": true,
    "editable": true
   },
   "outputs": [
    {
     "name": "stdout",
     "output_type": "stream",
     "text": [
      "外 銷 售 價\n"
     ]
    },
    {
     "data": {
      "image/png": "[encoded data removed]",
      "text/plain": [
       "<matplotlib.figure.Figure at 0x37ecfb38>"
      ]
     },
     "metadata": {},
     "output_type": "display_data"
    }
   ],
   "source": [
    "for i in bpmf1s_to_chars(u'ㄨㄒ睡ㄐ')[1]:\n",
    "    print i,"
   ]
  },
  {
   "cell_type": "code",
   "execution_count": 34,
   "metadata": {
    "collapsed": false,
    "deletable": true,
    "editable": true
   },
   "outputs": [
    {
     "name": "stdout",
     "output_type": "stream",
     "text": [
      "(-22.126938628228288,\n",
      " [u'肚',\n",
      "  u'子',\n",
      "  u'很',\n",
      "  u'餓',\n",
      "  u'，',\n",
      "  u'快',\n",
      "  u'點',\n",
      "  u'下',\n",
      "  u'課'],\n",
      " <matplotlib.axes.AxesSubplot object at 0x113a7ffd0>)\n"
     ]
    },
    {
     "data": {
      "image/png": "[encoded data removed]",
      "text/plain": [
       "<matplotlib.figure.Figure at 0x113ad7d50>"
      ]
     },
     "metadata": {},
     "output_type": "display_data"
    }
   ],
   "source": [
    "bpmf1s_to_chars(u'肚ㄗㄏㄜ，ㄎ點下ㄎ')"
   ]
  }
 ],
 "metadata": {
  "kernelspec": {
   "display_name": "Python 2",
   "language": "python",
   "name": "python2"
  },
  "language_info": {
   "codemirror_mode": {
    "name": "ipython",
    "version": 2
   },
   "file_extension": ".py",
   "mimetype": "text/x-python",
   "name": "python",
   "nbconvert_exporter": "python",
   "pygments_lexer": "ipython2",
   "version": "2.7.11"
  }
 },
 "nbformat": 4,
 "nbformat_minor": 0
}
