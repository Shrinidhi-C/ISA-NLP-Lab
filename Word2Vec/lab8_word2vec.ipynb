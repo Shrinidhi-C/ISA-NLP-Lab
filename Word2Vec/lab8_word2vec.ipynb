{
 "cells": [
  {
   "cell_type": "markdown",
   "metadata": {
    "deletable": true,
    "editable": true
   },
   "source": [
    "# Introduction to Word Representation"
   ]
  },
  {
   "cell_type": "code",
   "execution_count": 1,
   "metadata": {
    "collapsed": false
   },
   "outputs": [],
   "source": [
    "\"\"\" Import necessary packages we need. \"\"\"\n",
    "\n",
    "import re\n",
    "import json\n",
    "import numpy as np\n",
    "import pandas as pd\n",
    "import gensim\n",
    "import matplotlib.pyplot as plt\n",
    "\n",
    "from scipy.spatial.distance import cosine\n",
    "from sklearn.datasets import load_files\n",
    "from sklearn.cross_validation import train_test_split\n",
    "from sklearn.feature_extraction.text import CountVectorizer\n",
    "from sklearn.feature_extraction.text import TfidfVectorizer\n",
    "from sklearn.svm import LinearSVC, SVC\n",
    "from sklearn.metrics import accuracy_score, classification_report\n",
    "\n",
    "from IPython.display import display\n",
    "%matplotlib inline"
   ]
  },
  {
   "cell_type": "code",
   "execution_count": 2,
   "metadata": {
    "collapsed": true
   },
   "outputs": [],
   "source": [
    "\"\"\" Simple text cleaning \"\"\"\n",
    "\n",
    "# Read stopword list\n",
    "with open('stopwords.txt') as f:\n",
    "    stopwords = f.readlines()\n",
    "stopwords = [w.strip() for w in stopwords]\n",
    "\n",
    "# Read dictionary of abbreviation as key and its orginal form as value\n",
    "with open('abbreviations.json') as f:\n",
    "    abbr_dict = json.load(f)\n",
    "\n",
    "\"\"\" Preprocessing utility for later use. \"\"\"\n",
    "def clean_text(text):\n",
    "    text = str(text)\n",
    "    # Remove '\\n' and '\\'\n",
    "    text = text.lower().replace(\"\\\\n\", \"\").replace('\\\\', '')\n",
    "    # Replace abbreviation to its orginal form\n",
    "    for k, v in abbr_dict.items():\n",
    "        text = text.replace(k, v)\n",
    "    # Remove non-letters\n",
    "    text = re.sub(\"[^a-zA-Z]\", \" \", text)\n",
    "    # Remove stop words and join the words back into one string separated by space\n",
    "    text = \" \".join([w for w in text.split() if not w in stopwords])\n",
    "    return text"
   ]
  },
  {
   "cell_type": "markdown",
   "metadata": {},
   "source": [
    "## Discrete Representation\n",
    "- Use one-hot vectors in the context of machine learning/deep learning.\n",
    "    - For example, our vocabulary is: {'dog, 'cat', 'bark', 'meow'}\n",
    "    - Then each word represents in one-hot will be:\n",
    "        - vec('dog') : [1, 0, 0, 0]\n",
    "        - vec('cat') : [0, 1, 0, 0]\n",
    "        - vec('bark'): [0, 0, 1, 0]\n",
    "        - vec('meow'): [0, 0, 0, 1]\n",
    "- Problems: \n",
    "    - Hard to measure word similarity.\n",
    "    - Cannot handle missing words.\n",
    "    - Hard to compute semantic relationships (e.g. \"I am good at NLP\" v.s. \"I am a NLP expert\")\n",
    "    - Inefficent to compute when vocabulary size is large.\n",
    "\n",
    "## Distributional Representation\n",
    "\n",
    "- Motivation: Preserve semantic information while having relatively low dimensionality for machine learning/deep learning. \n",
    "- Idea: Distributional hypothesis, \"Words that occur in similar contexts (with the same neighboring words), tend to have similar meanings.\".\n",
    "- Two main approaches: count-based model and predictive model.\n",
    "\n",
    "### Count-based Model\n",
    "- Idea: Compute the statistics of how often some word co-occurs with its neighbor words in a large text corpus, sometimes further maps these count-statistics down to a small, dense vector for each word.\n",
    "- Adavantage: Capture co-occurrence statistics of the corpus (\"global\" information).\n",
    "- Problem: Sparse, matrix is very large to compute (need a lot of memory).\n",
    "- Let's see the following simple example. We basically do the following things:\n",
    "    - Use `CountVectorizer` to build document-term matrix.\n",
    "    - Build word co-occurence matrix from document-term matrix.\n",
    "    - Each row/col of word co-occurence matrix is our word distributional representation.\n",
    "    - Measure the word similarity using cosine similarity.\n",
    "    - Visualize word vectors using SVD."
   ]
  },
  {
   "cell_type": "code",
   "execution_count": 3,
   "metadata": {
    "collapsed": false
   },
   "outputs": [
    {
     "name": "stdout",
     "output_type": "stream",
     "text": [
      "Vocabulary: {u'fly': 4, u'run': 6, u'dog': 3, u'cat': 2, u'meows': 5, u'sleep': 7, u'bark': 0, u'bird': 1}\n",
      "Unordered columns: [u'fly', u'run', u'dog', u'cat', u'meows', u'sleep', u'bark', u'bird']\n",
      "Ordered columns: [u'bark', u'bird', u'cat', u'dog', u'fly', u'meows', u'run', u'sleep']\n",
      "\n",
      "Document-Term Matrix:\n"
     ]
    },
    {
     "data": {
      "text/html": [
       "<div>\n",
       "<table border=\"1\" class=\"dataframe\">\n",
       "  <thead>\n",
       "    <tr style=\"text-align: right;\">\n",
       "      <th></th>\n",
       "      <th>bark</th>\n",
       "      <th>bird</th>\n",
       "      <th>cat</th>\n",
       "      <th>dog</th>\n",
       "      <th>fly</th>\n",
       "      <th>meows</th>\n",
       "      <th>run</th>\n",
       "      <th>sleep</th>\n",
       "    </tr>\n",
       "  </thead>\n",
       "  <tbody>\n",
       "    <tr>\n",
       "      <th>the dog run.</th>\n",
       "      <td>0</td>\n",
       "      <td>0</td>\n",
       "      <td>0</td>\n",
       "      <td>1</td>\n",
       "      <td>0</td>\n",
       "      <td>0</td>\n",
       "      <td>1</td>\n",
       "      <td>0</td>\n",
       "    </tr>\n",
       "    <tr>\n",
       "      <th>the cat run.</th>\n",
       "      <td>0</td>\n",
       "      <td>0</td>\n",
       "      <td>1</td>\n",
       "      <td>0</td>\n",
       "      <td>0</td>\n",
       "      <td>0</td>\n",
       "      <td>1</td>\n",
       "      <td>0</td>\n",
       "    </tr>\n",
       "    <tr>\n",
       "      <th>the dog sleep.</th>\n",
       "      <td>0</td>\n",
       "      <td>0</td>\n",
       "      <td>0</td>\n",
       "      <td>1</td>\n",
       "      <td>0</td>\n",
       "      <td>0</td>\n",
       "      <td>0</td>\n",
       "      <td>1</td>\n",
       "    </tr>\n",
       "    <tr>\n",
       "      <th>the cat sleep.</th>\n",
       "      <td>0</td>\n",
       "      <td>0</td>\n",
       "      <td>1</td>\n",
       "      <td>0</td>\n",
       "      <td>0</td>\n",
       "      <td>0</td>\n",
       "      <td>0</td>\n",
       "      <td>1</td>\n",
       "    </tr>\n",
       "    <tr>\n",
       "      <th>the dog bark.</th>\n",
       "      <td>1</td>\n",
       "      <td>0</td>\n",
       "      <td>0</td>\n",
       "      <td>1</td>\n",
       "      <td>0</td>\n",
       "      <td>0</td>\n",
       "      <td>0</td>\n",
       "      <td>0</td>\n",
       "    </tr>\n",
       "    <tr>\n",
       "      <th>the cat meows.</th>\n",
       "      <td>0</td>\n",
       "      <td>0</td>\n",
       "      <td>1</td>\n",
       "      <td>0</td>\n",
       "      <td>0</td>\n",
       "      <td>1</td>\n",
       "      <td>0</td>\n",
       "      <td>0</td>\n",
       "    </tr>\n",
       "    <tr>\n",
       "      <th>the bird fly.</th>\n",
       "      <td>0</td>\n",
       "      <td>1</td>\n",
       "      <td>0</td>\n",
       "      <td>0</td>\n",
       "      <td>1</td>\n",
       "      <td>0</td>\n",
       "      <td>0</td>\n",
       "      <td>0</td>\n",
       "    </tr>\n",
       "    <tr>\n",
       "      <th>the bird sleep.</th>\n",
       "      <td>0</td>\n",
       "      <td>1</td>\n",
       "      <td>0</td>\n",
       "      <td>0</td>\n",
       "      <td>0</td>\n",
       "      <td>0</td>\n",
       "      <td>0</td>\n",
       "      <td>1</td>\n",
       "    </tr>\n",
       "  </tbody>\n",
       "</table>\n",
       "</div>"
      ],
      "text/plain": [
       "                 bark  bird  cat  dog  fly  meows  run  sleep\n",
       "the dog run.        0     0    0    1    0      0    1      0\n",
       "the cat run.        0     0    1    0    0      0    1      0\n",
       "the dog sleep.      0     0    0    1    0      0    0      1\n",
       "the cat sleep.      0     0    1    0    0      0    0      1\n",
       "the dog bark.       1     0    0    1    0      0    0      0\n",
       "the cat meows.      0     0    1    0    0      1    0      0\n",
       "the bird fly.       0     1    0    0    1      0    0      0\n",
       "the bird sleep.     0     1    0    0    0      0    0      1"
      ]
     },
     "metadata": {},
     "output_type": "display_data"
    },
    {
     "name": "stdout",
     "output_type": "stream",
     "text": [
      "\n",
      "Word Co-occurence Matrix:\n"
     ]
    },
    {
     "data": {
      "text/html": [
       "<div>\n",
       "<table border=\"1\" class=\"dataframe\">\n",
       "  <thead>\n",
       "    <tr style=\"text-align: right;\">\n",
       "      <th></th>\n",
       "      <th>bark</th>\n",
       "      <th>bird</th>\n",
       "      <th>cat</th>\n",
       "      <th>dog</th>\n",
       "      <th>fly</th>\n",
       "      <th>meows</th>\n",
       "      <th>run</th>\n",
       "      <th>sleep</th>\n",
       "    </tr>\n",
       "  </thead>\n",
       "  <tbody>\n",
       "    <tr>\n",
       "      <th>bark</th>\n",
       "      <td>1</td>\n",
       "      <td>0</td>\n",
       "      <td>0</td>\n",
       "      <td>1</td>\n",
       "      <td>0</td>\n",
       "      <td>0</td>\n",
       "      <td>0</td>\n",
       "      <td>0</td>\n",
       "    </tr>\n",
       "    <tr>\n",
       "      <th>bird</th>\n",
       "      <td>0</td>\n",
       "      <td>1</td>\n",
       "      <td>0</td>\n",
       "      <td>0</td>\n",
       "      <td>1</td>\n",
       "      <td>0</td>\n",
       "      <td>0</td>\n",
       "      <td>1</td>\n",
       "    </tr>\n",
       "    <tr>\n",
       "      <th>cat</th>\n",
       "      <td>0</td>\n",
       "      <td>0</td>\n",
       "      <td>1</td>\n",
       "      <td>0</td>\n",
       "      <td>0</td>\n",
       "      <td>1</td>\n",
       "      <td>1</td>\n",
       "      <td>1</td>\n",
       "    </tr>\n",
       "    <tr>\n",
       "      <th>dog</th>\n",
       "      <td>1</td>\n",
       "      <td>0</td>\n",
       "      <td>0</td>\n",
       "      <td>1</td>\n",
       "      <td>0</td>\n",
       "      <td>0</td>\n",
       "      <td>1</td>\n",
       "      <td>1</td>\n",
       "    </tr>\n",
       "    <tr>\n",
       "      <th>fly</th>\n",
       "      <td>0</td>\n",
       "      <td>1</td>\n",
       "      <td>0</td>\n",
       "      <td>0</td>\n",
       "      <td>1</td>\n",
       "      <td>0</td>\n",
       "      <td>0</td>\n",
       "      <td>0</td>\n",
       "    </tr>\n",
       "    <tr>\n",
       "      <th>meows</th>\n",
       "      <td>0</td>\n",
       "      <td>0</td>\n",
       "      <td>1</td>\n",
       "      <td>0</td>\n",
       "      <td>0</td>\n",
       "      <td>1</td>\n",
       "      <td>0</td>\n",
       "      <td>0</td>\n",
       "    </tr>\n",
       "    <tr>\n",
       "      <th>run</th>\n",
       "      <td>0</td>\n",
       "      <td>0</td>\n",
       "      <td>1</td>\n",
       "      <td>1</td>\n",
       "      <td>0</td>\n",
       "      <td>0</td>\n",
       "      <td>1</td>\n",
       "      <td>0</td>\n",
       "    </tr>\n",
       "    <tr>\n",
       "      <th>sleep</th>\n",
       "      <td>0</td>\n",
       "      <td>1</td>\n",
       "      <td>1</td>\n",
       "      <td>1</td>\n",
       "      <td>0</td>\n",
       "      <td>0</td>\n",
       "      <td>0</td>\n",
       "      <td>1</td>\n",
       "    </tr>\n",
       "  </tbody>\n",
       "</table>\n",
       "</div>"
      ],
      "text/plain": [
       "       bark  bird  cat  dog  fly  meows  run  sleep\n",
       "bark      1     0    0    1    0      0    0      0\n",
       "bird      0     1    0    0    1      0    0      1\n",
       "cat       0     0    1    0    0      1    1      1\n",
       "dog       1     0    0    1    0      0    1      1\n",
       "fly       0     1    0    0    1      0    0      0\n",
       "meows     0     0    1    0    0      1    0      0\n",
       "run       0     0    1    1    0      0    1      0\n",
       "sleep     0     1    1    1    0      0    0      1"
      ]
     },
     "metadata": {},
     "output_type": "display_data"
    },
    {
     "data": {
      "text/plain": [
       "'Word-to-ID dictionary'"
      ]
     },
     "metadata": {},
     "output_type": "display_data"
    },
    {
     "data": {
      "text/plain": [
       "{u'bark': 0,\n",
       " u'bird': 1,\n",
       " u'cat': 2,\n",
       " u'dog': 3,\n",
       " u'fly': 4,\n",
       " u'meows': 5,\n",
       " u'run': 6,\n",
       " u'sleep': 7}"
      ]
     },
     "metadata": {},
     "output_type": "display_data"
    },
    {
     "data": {
      "text/plain": [
       "'ID-to-Word dictionary'"
      ]
     },
     "metadata": {},
     "output_type": "display_data"
    },
    {
     "data": {
      "text/plain": [
       "{0: u'bark',\n",
       " 1: u'bird',\n",
       " 2: u'cat',\n",
       " 3: u'dog',\n",
       " 4: u'fly',\n",
       " 5: u'meows',\n",
       " 6: u'run',\n",
       " 7: u'sleep'}"
      ]
     },
     "metadata": {},
     "output_type": "display_data"
    },
    {
     "name": "stdout",
     "output_type": "stream",
     "text": [
      "dog vector: [1 0 0 1 0 0 1 1]\n",
      "cat vector: [0 0 1 0 0 1 1 1]\n",
      "bird vector: [0 1 0 0 1 0 0 1]\n",
      "bark vector: [1 0 0 1 0 0 0 0]\n",
      "\n",
      "dog v.s. cat: 0.5\n",
      "dog v.s. bird: 0.288675134595\n",
      "dog v.s. bark: 0.707106781187\n",
      "cat v.s. bark: 0.0\n"
     ]
    },
    {
     "data": {
      "image/png": "[encoded data removed]",
      "text/plain": [
       "<matplotlib.figure.Figure at 0x1e5bceb8>"
      ]
     },
     "metadata": {},
     "output_type": "display_data"
    }
   ],
   "source": [
    "# Assume this is our data.\n",
    "documents = [\n",
    "    'the dog run.',\n",
    "    'the cat run.',\n",
    "    'the dog sleep.',\n",
    "    'the cat sleep.',\n",
    "    'the dog bark.',\n",
    "    'the cat meows.',\n",
    "    'the bird fly.',\n",
    "    'the bird sleep.'\n",
    "]\n",
    "\n",
    "# Contruct document-term matrix\n",
    "vectorizer = CountVectorizer(preprocessor=clean_text, analyzer='word', ngram_range=(1, 1))\n",
    "\n",
    "# Or... you can try `TfidfVectorizer`\n",
    "# vectorizer = TfidfVectorizer(preprocessor=clean_text, analyzer='word', ngram_range=(1, 1))\n",
    "\n",
    "document_term_matrix = vectorizer.fit_transform(documents).toarray()\n",
    "\n",
    "# Contruct word-occurence matrix from document-term matrix\n",
    "word_cooccurence_matrix = np.dot(document_term_matrix.T, document_term_matrix)\n",
    "np.fill_diagonal(word_cooccurence_matrix, 1)\n",
    "\n",
    "# Print mapping of term and feature index\n",
    "print('Vocabulary: {}'.format(vectorizer.vocabulary_))\n",
    "\n",
    "# We need to sort key by its index in order to visualize feature index in correct order.\n",
    "ordered_columns = []\n",
    "for col, index in vectorizer.vocabulary_.items():\n",
    "    ordered_columns.append((col, index))\n",
    "ordered_columns.sort(key=lambda x: x[1])\n",
    "ordered_columns = [col for col, index in ordered_columns]\n",
    "\n",
    "# If you iterate dictionary, it won't preserve the order\n",
    "unordered_columns = [col for col, index in vectorizer.vocabulary_.items()]\n",
    "\n",
    "print('Unordered columns: {}'.format(unordered_columns))\n",
    "print('Ordered columns: {}'.format(ordered_columns))\n",
    "\n",
    "# Visualize our document-term matrix\n",
    "print('\\nDocument-Term Matrix:')\n",
    "display(pd.DataFrame(document_term_matrix, index=documents, columns=ordered_columns))\n",
    "# Visualize our word-occurence matrix\n",
    "print('\\nWord Co-occurence Matrix:')\n",
    "display(pd.DataFrame(word_cooccurence_matrix, index=ordered_columns, columns=ordered_columns))\n",
    "\n",
    "word2id = vectorizer.vocabulary_\n",
    "id2word = {x[1]: x[0] for x in word2id.items()}\n",
    "\n",
    "display('Word-to-ID dictionary')\n",
    "display(word2id)\n",
    "display('ID-to-Word dictionary')\n",
    "display(id2word)\n",
    "\n",
    "vector_dog = word_cooccurence_matrix[word2id['dog']]\n",
    "vector_cat = word_cooccurence_matrix[word2id['cat']]\n",
    "vector_bird = word_cooccurence_matrix[word2id['bird']]\n",
    "vector_bark = word_cooccurence_matrix[word2id['bark']]\n",
    "\n",
    "print('dog vector: {}'.format(vector_dog))\n",
    "print('cat vector: {}'.format(vector_cat))\n",
    "print('bird vector: {}'.format(vector_bird))\n",
    "print('bark vector: {}\\n'.format(vector_bark))\n",
    "\n",
    "print('dog v.s. cat: {}'.format(1 - cosine(vector_dog, vector_cat)))\n",
    "print('dog v.s. bird: {}'.format(1 - cosine(vector_dog, vector_bird)))\n",
    "print('dog v.s. bark: {}'.format(1 - cosine(vector_dog, vector_bark)))\n",
    "print('cat v.s. bark: {}'.format(1 - cosine(vector_cat, vector_bark)))\n",
    "\n",
    "# Visualize word vectors using SVD.\n",
    "# Hint: Using TF-IDF will looks better.\n",
    "fig = plt.figure()\n",
    "U, sigma, Vh = np.linalg.svd(word_cooccurence_matrix)\n",
    "ax = fig.add_subplot(111)\n",
    "ax.axis([-1, 1, -1, 1])\n",
    "for i in id2word:\n",
    "    ax.text(U[i, 0], U[i, 1], id2word[i], alpha=0.5, fontsize=20)\n",
    "plt.show()"
   ]
  },
  {
   "cell_type": "markdown",
   "metadata": {},
   "source": [
    "## Predictive Model\n",
    "- Idea: Directly try to predict a word from its neighbors in terms of learned small, dense embedding vectors (considered parameters of the model).\n",
    "- Word2vec: A neural-based(shallow neural network) efficient model (Widely used nowadays)\n",
    "- Adavantage: Scanning context windows across the entire corpus needs less memory than count-based model.\n",
    "- Problem: Need more time to compute.\n",
    "\n",
    "## Word2vec\n",
    "- Two different objectives:\n",
    "    - *Continuous Bag of Words (CBOW)*: Predict target word from context words.\n",
    "    - *Skip-grams*: Predict context words from target word.\n",
    "- Two efficient training algorithms: *Negative Sampling* and *Hierarchical Softmax*.\n",
    "![CBOW-SG](img/cbow-sg.png)\n",
    "- We only introduce *Skip-grams* and *Negative Sampling* here.\n",
    "\n",
    "### Skip-gram\n",
    "- Objective: Given a target word, maximize the probability of the context word (Maximum likelihood estimation). For mathimatical convenience, it's equivalent to **minimizing negative log probability** since product becomes sum.\n",
    "- Maximizing the objective $J(\\theta) = \\prod_{t=1}^{T} \\prod_{-m \\leq j \\leq m, j \\neq 0} p(w_{t+j} | w_t ; \\theta)$ turns to minimizing $J'(\\theta) = -\\frac{1}{T} \\sum_{t=1}^{T} \\sum_{-m \\leq j \\leq m, j \\neq 0} \\log p(w_{t+j} | w_t ; \\theta)$.\n",
    "- $t$ denotes the index of center word, $m$ denotes window size.\n",
    "- With probability defined as: $p(o|c) = \\frac{exp(u_o^T v_c)}{\\sum_{w=1}^W exp(u_w^T v_c)}$, where $o$ denotes output word index, $c$ denotes center(target) word index and $W$ is number of vocabulary.\n",
    "- Dot product $u^T v = u \\cdot v$: Bigger if $u$ and $v$ is similar!\n",
    "- Softmax $\\frac{exp(z_i)}{\\sum_j exp(z_j)}$: $exp(z_i)$ yields positive numbers; dividing $\\sum_j exp(z_j)$ normalizes the output to probability distribution.\n",
    "- Compute gradients of $\\theta$ w.r.t $v_c$ and update $\\theta$ by sochastic gradient descent: $\\theta^{new} = \\theta^{old} - \\alpha\\frac{\\partial}{\\partial\\theta^{old}}J'(\\theta)$, where $\\alpha$ is *learning rate*.\n",
    "- Problem of softmax function: For each training step, we need to do the gigantic sum ($\\sum_{w=1}^W exp(u_w^T v_c)$ term in softmax), which is very computationally expensive.\n",
    "![SG](img/sg.png)\n",
    "\n",
    "### Negative Sampling (Simplified Version of Noise Contrastive Estimation; NCE)\n",
    "- Idea: Instead of doing giganic sum in softmax function, we turn our previous objective into **maximizing probability of true pair (center word paired with word in its context window)** and **minimizing noise pairs (center word paired with a random word)**\n",
    "- New objective is defined as: $\\log\\sigma(u_o^T v_c) + \\sum_{i=1}^k \\mathbb{E}_{j~P(w)}[log \\sigma(-u_j^T v_c)]$, where there are $k$ negative samples for each data sample. $k$ in the range 5–20 are useful for small training datasets, while for large datasets the $k$ can be as\n",
    "small as 2–5.\n",
    "- $\\sigma(x) = \\frac{1}{1 + e^{-x}}$ maps $x$ to 0~1, which mimics the measurement of probability.\n",
    "\n",
    "## More popular word/sentence embeddings to use:\n",
    "- [GloVe: Global Vectors for Word Representation](https://nlp.stanford.edu/projects/glove/)\n",
    "- [FastText by Facebook](https://github.com/facebookresearch/fastText)\n",
    "- [Paragraph2vec/Doc2vec (Extenstion of word2vec)](https://radimrehurek.com/gensim/models/doc2vec.html)\n",
    "- [Skip-Thought Vectors](https://github.com/ryankiros/skip-thoughts)\n",
    "- [Sense2Vec](https://github.com/explosion/sense2vec)\n",
    "- https://github.com/Hironsan/awesome-embedding-models\n",
    "\n",
    "## Relative papers:\n",
    "- [Don’t count, predict! A systematic comparison ofcontext-counting vs. context-predicting semantic vectors](http://clic.cimec.unitn.it/marco/publications/acl2014/baroni-etal-countpredict-acl2014.pdf)\n",
    "- [Efficient Estimation of Word Representations in Vector Space](https://arxiv.org/pdf/1301.3781.pdf)\n",
    "- [Distributed Representations of Words and Phrases and their Compositionality](https://papers.nips.cc/paper/5021-distributed-representations-of-words-and-phrases-and-their-compositionality.pdf)\n",
    "- [word2vec Explained: Deriving Mikolov et al.’s Negative-Sampling Word-Embedding Method](https://arxiv.org/pdf/1402.3722v1.pdf)\n",
    "- [Neural Word Embedding as Implicit Matrix Factorization](https://arxiv.org/pdf/1402.3722v1.pdf)\n",
    "- [GloVe: Global Vectors for Word Representation](https://nlp.stanford.edu/pubs/glove.pdf)\n",
    "- [Improving Distributional Similarity with Lessons Learned from Word Embeddings](http://www.aclweb.org/anthology/Q15-1016)\n",
    "- [Evaluation methods for unsupervised word embeddings](http://www.aclweb.org/anthology/D15-1036)\n",
    "\n",
    "## Reference:\n",
    "The above content is covered in more detail on [Standford Cs224d Deep learning for NLP](http://web.stanford.edu/class/cs224n/lectures/cs224n-2017-lecture2.pdf)"
   ]
  },
  {
   "cell_type": "code",
   "execution_count": 7,
   "metadata": {
    "collapsed": false
   },
   "outputs": [
    {
     "name": "stdout",
     "output_type": "stream",
     "text": [
      "Input for word2vec:\n"
     ]
    },
    {
     "data": {
      "text/plain": [
       "[[u'dog', u'run'],\n",
       " [u'cat', u'run'],\n",
       " [u'dog', u'sleep'],\n",
       " [u'cat', u'sleep'],\n",
       " [u'dog', u'bark'],\n",
       " [u'cat', u'meows'],\n",
       " [u'bird', u'fly'],\n",
       " [u'bird', u'sleep']]"
      ]
     },
     "metadata": {},
     "output_type": "display_data"
    },
    {
     "name": "stdout",
     "output_type": "stream",
     "text": [
      "Training word2vec ...\n",
      "\n",
      "Attributes in word2vec model:\n"
     ]
    },
    {
     "data": {
      "text/plain": [
       "{'alpha': 0.025,\n",
       " 'batch_words': 10000,\n",
       " 'cbow_mean': 1,\n",
       " 'corpus_count': 8,\n",
       " 'cum_table': array([ 370789616,  741579233, 1112368849, 1385932959, 1659497069,\n",
       "        1822159261, 1984821454, 2147483647], dtype=uint32),\n",
       " 'hashfxn': <function hash>,\n",
       " 'hs': 0,\n",
       " 'index2word': [u'dog',\n",
       "  u'cat',\n",
       "  u'sleep',\n",
       "  u'run',\n",
       "  u'bird',\n",
       "  u'fly',\n",
       "  u'meows',\n",
       "  u'bark'],\n",
       " 'iter': 5,\n",
       " 'layer1_size': 2,\n",
       " 'max_vocab_size': None,\n",
       " 'min_alpha': 0.0001,\n",
       " 'min_count': 1,\n",
       " 'negative': 5,\n",
       " 'null_word': 0,\n",
       " 'random': <mtrand.RandomState at 0x1eacadc8>,\n",
       " 'raw_vocab': defaultdict(int, {}),\n",
       " 'sample': 0.001,\n",
       " 'seed': 1,\n",
       " 'sg': 1,\n",
       " 'sorted_vocab': 1,\n",
       " 'syn0': array([[ 0.18050483,  0.09861663],\n",
       "        [ 0.08727898, -0.03335002],\n",
       "        [-0.04235737, -0.19968219],\n",
       "        [ 0.14245959, -0.05026545],\n",
       "        [-0.14987873, -0.19993468],\n",
       "        [-0.18128334,  0.22444636],\n",
       "        [ 0.04830213, -0.23783977],\n",
       "        [-0.20259045,  0.24417111]], dtype=float32),\n",
       " 'syn0_lockf': array([ 1.,  1.,  1.,  1.,  1.,  1.,  1.,  1.], dtype=float32),\n",
       " 'syn0norm': None,\n",
       " 'syn1neg': array([[ 0.        ,  0.        ],\n",
       "        [ 0.00072447, -0.00022407],\n",
       "        [-0.00457837,  0.00164679],\n",
       "        [ 0.00110354, -0.00042169],\n",
       "        [-0.00282994,  0.00102987],\n",
       "        [ 0.        ,  0.        ],\n",
       "        [ 0.        ,  0.        ],\n",
       "        [-0.00107737,  0.00041169]], dtype=float32),\n",
       " 'total_train_time': 0.0009988387248682784,\n",
       " 'train_count': 1,\n",
       " 'vector_size': 2,\n",
       " 'vocab': {u'bark': <gensim.models.word2vec.Vocab at 0x1eaeb240>,\n",
       "  u'bird': <gensim.models.word2vec.Vocab at 0x1eaeb2b0>,\n",
       "  u'cat': <gensim.models.word2vec.Vocab at 0x1eaeb198>,\n",
       "  u'dog': <gensim.models.word2vec.Vocab at 0x1eab0e48>,\n",
       "  u'fly': <gensim.models.word2vec.Vocab at 0x1eab0710>,\n",
       "  u'meows': <gensim.models.word2vec.Vocab at 0x1eaeb278>,\n",
       "  u'run': <gensim.models.word2vec.Vocab at 0x1eab0ef0>,\n",
       "  u'sleep': <gensim.models.word2vec.Vocab at 0x1eaeb2e8>},\n",
       " 'window': 3,\n",
       " 'workers': 3}"
      ]
     },
     "metadata": {},
     "output_type": "display_data"
    },
    {
     "data": {
      "image/png": "[encoded data removed]",
      "text/plain": [
       "<matplotlib.figure.Figure at 0x48b1c88>"
      ]
     },
     "metadata": {},
     "output_type": "display_data"
    }
   ],
   "source": [
    "# Assume this is our data.\n",
    "documents = [\n",
    "    'the dog run.',\n",
    "    'the cat run.',\n",
    "    'the dog sleep.',\n",
    "    'the cat sleep.',\n",
    "    'the dog bark.',\n",
    "    'the cat meows.',\n",
    "    'the bird fly.',\n",
    "    'the bird sleep.'\n",
    "]\n",
    "\n",
    "# Clean text.\n",
    "documents = [clean_text(doc) for doc in documents]\n",
    "# Prepare input format for training word2vec.\n",
    "documents = [doc.split() for doc in documents]\n",
    "print('Input for word2vec:')\n",
    "display(documents)\n",
    "\n",
    "# Start to train word2vec.\n",
    "\"\"\"\n",
    "    @param `sg`: sg defines the training algorithm (skip-gram). By default (sg=0), CBOW is used. Otherwise (sg=1).\n",
    "    @param `size`: number of dimension of the feature vectors.\n",
    "    @param `window`: maximum distance between the current and predicted word within a sentence.\n",
    "    @param `min_count`: ignore all words with total frequency lower than this.\n",
    "    @param `negative`: Specifies how many “noise words” should be drawn (usually between 5-20). (Default=5).\n",
    "                       5–20 are useful for small training datasets, while for large datasets the k can be as\n",
    "                       small as 2–5\n",
    "    More detail on: https://radimrehurek.com/gensim/models/word2vec.html\n",
    "\"\"\"\n",
    "print('Training word2vec ...\\n')\n",
    "model_w2v = gensim.models.Word2Vec(documents, sg=1, size=2, window=3, min_count=1, negative=5)\n",
    "\n",
    "print('Attributes in word2vec model:')\n",
    "display(vars(model_w2v))\n",
    "\n",
    "# Visualize word vectors.\n",
    "min_x = np.min(model_w2v.syn0[:, 0]) - 0.1\n",
    "max_x = np.max(model_w2v.syn0[:, 0]) + 0.1\n",
    "min_y = np.min(model_w2v.syn0[:, 1]) - 0.1\n",
    "max_y = np.max(model_w2v.syn0[:, 1]) + 0.1\n",
    "\n",
    "fig = plt.figure()\n",
    "ax = fig.add_subplot(111)\n",
    "ax.axis([min_x, max_x, min_y, max_y])\n",
    "for word in model_w2v.index2word:\n",
    "    vec = model_w2v[word]\n",
    "    ax.text(vec[0], vec[1], word, alpha=0.5, fontsize=20)\n",
    "plt.show()"
   ]
  },
  {
   "cell_type": "code",
   "execution_count": 8,
   "metadata": {
    "collapsed": false
   },
   "outputs": [
    {
     "name": "stdout",
     "output_type": "stream",
     "text": [
      "Most similar word to \"dog\":\n"
     ]
    },
    {
     "data": {
      "text/plain": [
       "[(u'run', 0.6680361032485962),\n",
       " (u'cat', 0.6486285328865051),\n",
       " (u'fly', -0.17842534184455872),\n",
       " (u'bark', -0.19137904047966003),\n",
       " (u'meows', -0.2952004671096802)]"
      ]
     },
     "metadata": {},
     "output_type": "display_data"
    },
    {
     "name": "stdout",
     "output_type": "stream",
     "text": [
      "Most similar word to \"cat\":\n"
     ]
    },
    {
     "data": {
      "text/plain": [
       "[(u'run', 0.9996675848960876),\n",
       " (u'dog', 0.6486285328865051),\n",
       " (u'meows', 0.5357112288475037),\n",
       " (u'sleep', 0.15533089637756348),\n",
       " (u'bird', -0.27470389008522034)]"
      ]
     },
     "metadata": {},
     "output_type": "display_data"
    },
    {
     "name": "stdout",
     "output_type": "stream",
     "text": [
      "Most similar word to \"bird\":\n"
     ]
    },
    {
     "data": {
      "text/plain": [
       "[(u'sleep', 0.9071882963180542),\n",
       " (u'meows', 0.6647541522979736),\n",
       " (u'bark', -0.23277723789215088),\n",
       " (u'fly', -0.2455756664276123),\n",
       " (u'cat', -0.27470389008522034)]"
      ]
     },
     "metadata": {},
     "output_type": "display_data"
    }
   ],
   "source": [
    "# You can use `most_similar()` to explore the top-5 similar words.\n",
    "# Cosine similarity has a range of [-1, 1]\n",
    "# You could interpret negative scores as \"opposite meaning\".\n",
    "print('Most similar word to \"dog\":')\n",
    "display(model_w2v.most_similar('dog', topn=5))\n",
    "\n",
    "print('Most similar word to \"cat\":')\n",
    "display(model_w2v.most_similar('cat', topn=5))\n",
    "\n",
    "print('Most similar word to \"bird\":')\n",
    "display(model_w2v.most_similar('bird', topn=5))"
   ]
  },
  {
   "cell_type": "markdown",
   "metadata": {},
   "source": [
    "# Lab 8: Revisit Movie Review Sentiment Classifcation: Use Word2vec!"
   ]
  },
  {
   "cell_type": "markdown",
   "metadata": {},
   "source": [
    "### Load our movie review dataset"
   ]
  },
  {
   "cell_type": "code",
   "execution_count": 9,
   "metadata": {
    "collapsed": true
   },
   "outputs": [],
   "source": [
    "folder_path = 'movie_review/'\n",
    "dataset = load_files(container_path=folder_path, shuffle=False)"
   ]
  },
  {
   "cell_type": "code",
   "execution_count": 10,
   "metadata": {
    "collapsed": false,
    "scrolled": false
   },
   "outputs": [
    {
     "name": "stdout",
     "output_type": "stream",
     "text": [
      "['target_names', 'data', 'target', 'DESCR', 'filenames']\n",
      "[0 0 0 ..., 1 1 1]\n",
      "(2000L,)\n"
     ]
    }
   ],
   "source": [
    "\"\"\" Print some information about the dataset \"\"\"\n",
    "print(dataset.keys())\n",
    "print(dataset.target)\n",
    "print(dataset.target.shape)"
   ]
  },
  {
   "cell_type": "code",
   "execution_count": 11,
   "metadata": {
    "collapsed": false,
    "scrolled": true
   },
   "outputs": [
    {
     "data": {
      "text/plain": [
       "'plot : two teen couples go to a church party , drink and then drive . \\nthey get into an accident . \\none of the guys dies , but his girlfriend continues to see him in her life , and has nightmares . \\nwhat\\'s the deal ? \\nwatch the movie and \" sorta \" find out . . . \\ncritique : a mind-fuck movie for the teen generation that touches on a very cool idea , but presents it in a very bad package . \\nwhich is what makes this review an even harder one to write , since i generally applaud films which attempt to break the mold , mess with your head and such ( lost highway & memento ) , but there are good and bad ways of making all types of films , and these folks just didn\\'t snag this one correctly . \\nthey seem to have taken this pretty neat concept , but executed it terribly . \\nso what are the problems with the movie ? \\nwell , its main problem is that it\\'s simply too jumbled . \\nit starts off \" normal \" but then downshifts into this \" fantasy \" world in which you , as an audience member , have no idea what\\'s going on . \\nthere are dreams , there are characters coming back from the dead , there are others who look like the dead , there are strange apparitions , there are disappearances , there are a looooot of chase scenes , there are tons of weird things that happen , and most of it is simply not explained . \\nnow i personally don\\'t mind trying to unravel a film every now and then , but when all it does is give me the same clue over and over again , i get kind of fed up after a while , which is this film\\'s biggest problem . \\nit\\'s obviously got this big secret to hide , but it seems to want to hide it completely until its final five minutes . \\nand do they make things entertaining , thrilling or even engaging , in the meantime ? \\nnot really . \\nthe sad part is that the arrow and i both dig on flicks like this , so we actually figured most of it out by the half-way point , so all of the strangeness after that did start to make a little bit of sense , but it still didn\\'t the make the film all that more entertaining . \\ni guess the bottom line with movies like this is that you should always make sure that the audience is \" into it \" even before they are given the secret password to enter your world of understanding . \\ni mean , showing melissa sagemiller running away from visions for about 20 minutes throughout the movie is just plain lazy ! ! \\nokay , we get it . . . there \\nare people chasing her and we don\\'t know who they are . \\ndo we really need to see it over and over again ? \\nhow about giving us different scenes offering further insight into all of the strangeness going down in the movie ? \\napparently , the studio took this film away from its director and chopped it up themselves , and it shows . \\nthere might\\'ve been a pretty decent teen mind-fuck movie in here somewhere , but i guess \" the suits \" decided that turning it into a music video with little edge , would make more sense . \\nthe actors are pretty good for the most part , although wes bentley just seemed to be playing the exact same character that he did in american beauty , only in a new neighborhood . \\nbut my biggest kudos go out to sagemiller , who holds her own throughout the entire film , and actually has you feeling her character\\'s unraveling . \\noverall , the film doesn\\'t stick because it doesn\\'t entertain , it\\'s confusing , it rarely excites and it feels pretty redundant for most of its runtime , despite a pretty cool ending and explanation to all of the craziness that came before it . \\noh , and by the way , this is not a horror or teen slasher flick . . . it\\'s \\njust packaged to look that way because someone is apparently assuming that the genre is still hot with the kids . \\nit also wrapped production two years ago and has been sitting on the shelves ever since . \\nwhatever . . . skip \\nit ! \\nwhere\\'s joblo coming from ? \\na nightmare of elm street 3 ( 7/10 ) - blair witch 2 ( 7/10 ) - the crow ( 9/10 ) - the crow : salvation ( 4/10 ) - lost highway ( 10/10 ) - memento ( 10/10 ) - the others ( 9/10 ) - stir of echoes ( 8/10 ) \\n'"
      ]
     },
     "execution_count": 11,
     "metadata": {},
     "output_type": "execute_result"
    }
   ],
   "source": [
    "\"\"\" Uncleaned data \"\"\"\n",
    "dataset.data[0] # Print one of all movie reviews"
   ]
  },
  {
   "cell_type": "markdown",
   "metadata": {},
   "source": [
    "### Do classification with word2vec!\n",
    "This is just a example of using TF-IDF features as model input.\n",
    "\n",
    "Please train your own word2vec model on the movie review dataset,\n",
    "and use word2vec features as model input.\n",
    "\n",
    "Try to tweek word2vec hyper-parameters to get good performance."
   ]
  },
  {
   "cell_type": "code",
   "execution_count": 12,
   "metadata": {
    "collapsed": false,
    "scrolled": true
   },
   "outputs": [
    {
     "name": "stdout",
     "output_type": "stream",
     "text": [
      "             precision    recall  f1-score   support\n",
      "\n",
      "          0       0.87      0.85      0.86       259\n",
      "          1       0.84      0.87      0.85       241\n",
      "\n",
      "avg / total       0.86      0.86      0.86       500\n",
      "\n"
     ]
    }
   ],
   "source": [
    "# Feature transform\n",
    "vectorizer = TfidfVectorizer(preprocessor=clean_text, analyzer='word', ngram_range=(1, 1))\n",
    "X = vectorizer.fit_transform(dataset.data)\n",
    "y = dataset.target\n",
    "\n",
    "# Split training set and testing set\n",
    "X_train, X_test, y_train, y_test = train_test_split(X, y, test_size=0.25, random_state=None)\n",
    "\n",
    "# Perform classification with linear SVM\n",
    "svc = LinearSVC(C=1.0, max_iter=10000)\n",
    "svc = svc.fit(X=X_train, y=y_train)\n",
    "\n",
    "y_pred = svc.predict(X=X_test)\n",
    "print(classification_report(y_test, y_pred))"
   ]
  },
  {
   "cell_type": "code",
   "execution_count": 132,
   "metadata": {
    "collapsed": false
   },
   "outputs": [
    {
     "data": {
      "text/plain": [
       "array([-0.37685826,  0.06033698, -0.24850231,  0.15766107, -0.08450709,\n",
       "        0.32412264, -0.11311457, -0.14899988, -0.16866352, -0.08493064,\n",
       "        0.47031724, -0.6816324 , -0.02698175, -0.47675958,  0.13052413,\n",
       "        0.01077058, -0.24178688, -0.40936303,  0.19377889,  0.22782187,\n",
       "       -0.15980528, -0.19688235,  0.50443721, -0.14058986,  0.37168491,\n",
       "        0.26178017, -0.37566543,  0.08670595,  0.13668872, -0.4738847 ,\n",
       "       -0.3380931 ,  0.04142014, -0.75335473, -0.09258734, -0.18168569,\n",
       "       -0.12377918, -0.28688344, -0.21622771,  0.22342014, -0.23962077,\n",
       "       -0.51334292,  0.16873397,  0.00434067, -0.24235821, -0.21819264,\n",
       "        0.16241951,  0.0137586 , -0.34996718,  0.13646173,  0.23357682], dtype=float32)"
      ]
     },
     "execution_count": 132,
     "metadata": {},
     "output_type": "execute_result"
    }
   ],
   "source": [
    "documents = dataset.data\n",
    "\n",
    "# Clean text.\n",
    "documents = [clean_text(doc) for doc in documents]\n",
    "# Prepare input format for training word2vec.\n",
    "documents = [doc.split() for doc in documents]\n",
    "model_w2v = gensim.models.Word2Vec(documents, sg=5, size=50, window=10, min_count=5, negative=5)\n",
    "model_w2v[\"dog\"]"
   ]
  },
  {
   "cell_type": "markdown",
   "metadata": {},
   "source": [
    "### Using average word2vec to represent a article"
   ]
  },
  {
   "cell_type": "code",
   "execution_count": 134,
   "metadata": {
    "collapsed": false
   },
   "outputs": [],
   "source": [
    "average_doc2vec = []\n",
    "documents_cleaned = [clean_text(doc) for doc in documents]\n",
    "for article in documents_cleaned:\n",
    "    article_vector = []\n",
    "    for word in article.split():\n",
    "        try:\n",
    "            article_vector.append(model_w2v[word])\n",
    "        except:\n",
    "            article_vector.append(np.random.rand(50))\n",
    "    average_doc2vec.append(np.array(article_vector).mean(axis = 0))"
   ]
  },
  {
   "cell_type": "code",
   "execution_count": 135,
   "metadata": {
    "collapsed": false
   },
   "outputs": [
    {
     "name": "stdout",
     "output_type": "stream",
     "text": [
      "             precision    recall  f1-score   support\n",
      "\n",
      "          0       0.69      0.73      0.71       255\n",
      "          1       0.70      0.66      0.68       245\n",
      "\n",
      "avg / total       0.69      0.69      0.69       500\n",
      "\n"
     ]
    }
   ],
   "source": [
    "X = average_doc2vec\n",
    "y = dataset.target\n",
    "\n",
    "# Split training set and testing set\n",
    "X_train, X_test, y_train, y_test = train_test_split(X, y, test_size=0.25, random_state=None)\n",
    "\n",
    "# Perform classification with linear SVM\n",
    "svc = LinearSVC(C=1, max_iter=10000)\n",
    "svc = svc.fit(X=X_train, y=y_train)\n",
    "\n",
    "y_pred = svc.predict(X=X_test)\n",
    "print(classification_report(y_test, y_pred))"
   ]
  },
  {
   "cell_type": "markdown",
   "metadata": {},
   "source": [
    "### Bonus:  Perform complete experiment on word2vec weighted by TF-IDF, GloVe or other embeddings is encouraged!!!"
   ]
  },
  {
   "cell_type": "code",
   "execution_count": 13,
   "metadata": {
    "collapsed": false
   },
   "outputs": [],
   "source": [
    "# Using GloVe 100 dim\n",
    "with open('C:/Users/tsunh/Downloads/glove.6B/glove.6B.200d.txt') as f:\n",
    "    glove100 = f.read()"
   ]
  },
  {
   "cell_type": "code",
   "execution_count": null,
   "metadata": {
    "collapsed": false
   },
   "outputs": [
    {
     "data": {
      "text/plain": [
       "'the -0.071549 0.093459 0.023738 -0.090339 0.056123 0.32547 -0.39796 -0.092139 0.061181 -0.1895 0.13061 0.14349 0.011479 0.38158 0.5403 -0.14088 0.24315 0.23036 -0.55339 0.048154 0.45662 3.2338 0.020199 0.049019 -0.014132 0.076017 -0.11527 0.2006 -0.077657 0.24328 0.16368 -0.34118 -0.06607 0.10152 0.038232 -0.17668 -0.88153 -0.33895 -0.035481 -0.55095 -0.016899 -0.43982 0.039004 0.40447 -0.2588 0.64594 0.26641 0.28009 -0.024625 0.63302 -0.317 0.10271 0.30886 0.097792 -0.38227 0.086552 0.047075 0.23511 -0.32127 -0.28538 0.1667 -0.0049707 -0.62714 -0.24904 0.29713 0.14379 -0.12325 -0.058178 -0.001029 -0.082126 0.36935 -0.00058442 0.34286 0.28426 -0.068599 0.65747 -0.029087 0.16184 0.073672 -0.30343 0.095733 -0.5286 -0.22898 0.064079 0.015218 0.34921 -0.4396 -0.43983 0.77515 -0.87767 -0.087504 0.39598 0.62362 -0.26211 -0.30539 -0.022964 0.30567 0.06766 0.15383 -0.11211 -0.09154 0.082562 0.16897 -0.032952 -0.28775 -0.2232 -0.090426 1.2407 -0.18244 -0.0075219 -0.041388 -0.011083 0.078186 0.38511 0.23334 0.14414 -0.0009107 -0.26388 -0.20481 0.10099 0.14076 0.28834 -0.045429 0.37247 0.13645 -0.67457 0.22786 0.12599 0.029091 0.030428 -0.13028 0.19408 0.49014 -0.39121 -0.075952 0.074731 0.18902 -0.16922 -0.26019 -0.039771 -0.24153 0.10875 0.30434 0.036009 1.4264 0.12759 -0.073811 -0.20418 0.0080016 0.15381 0.20223 0.28274 0.096206 -0.33634 0.50983 0.32625 -0.26535 0.374 -0.30388 -0.40033 -0.04291 -0.067897 -0.29332 0.10978 -0.045365 0.23222 -0.31134 -0.28983 -0.66687 0.53097 0.19461 0.3667 0.26185 -0.65187 0.10266 0.11363 -0.12953 -0.68246 -0.18751 0.1476 1.0765 -0.22908 -0.0093435 -0.20651 -0.35225 -0.2672 -0.0034307 0.25906 0.21759 0.66158 0.1218 0.19957 -0.20303 0.34474 -0.24328 0.13139 -0.0088767 0.33617 0.030591 0.25577'"
      ]
     },
     "execution_count": 14,
     "metadata": {},
     "output_type": "execute_result"
    }
   ],
   "source": [
    "glove100 = glove100.split(\"\\n\")\n",
    "glove100[0]"
   ]
  },
  {
   "cell_type": "code",
   "execution_count": null,
   "metadata": {
    "collapsed": false
   },
   "outputs": [],
   "source": [
    "from collections import defaultdict\n",
    "glove_dict = defaultdict(list)\n",
    "for i in glove100:\n",
    "    try:\n",
    "        sp = i.split()\n",
    "        vector = []\n",
    "        for strin in sp[1:101]:\n",
    "            vector.append(np.float32(strin))\n",
    "        \n",
    "        glove_dict[sp[0]] = vector\n",
    "    except:\n",
    "        sp = i.split()\n",
    "        print sp"
   ]
  },
  {
   "cell_type": "code",
   "execution_count": null,
   "metadata": {
    "collapsed": false
   },
   "outputs": [],
   "source": [
    "average_doc2vec_glove = []\n",
    "documents_cleaned = [clean_text(doc) for doc in documents]\n",
    "for article in documents_cleaned:\n",
    "    article_vector = []\n",
    "    for word in article.split():\n",
    "        if np.array(glove_dict[word]) != []:\n",
    "            article_vector.append(np.array(glove_dict[word]))\n",
    "    average_doc2vec_glove.append(np.array(article_vector).mean(axis = 0))"
   ]
  },
  {
   "cell_type": "code",
   "execution_count": null,
   "metadata": {
    "collapsed": false
   },
   "outputs": [],
   "source": [
    "X = average_doc2vec_glove\n",
    "y = dataset.target\n",
    "\n",
    "# Split training set and testing set\n",
    "X_train, X_test, y_train, y_test = train_test_split(X, y, test_size=0.25, random_state=None)\n",
    "\n",
    "# Perform classification with linear SVM\n",
    "svc = LinearSVC(C=1, max_iter=10000)\n",
    "svc = svc.fit(X=X_train, y=y_train)\n",
    "\n",
    "y_pred = svc.predict(X=X_test)\n",
    "print(classification_report(y_test, y_pred))"
   ]
  },
  {
   "cell_type": "code",
   "execution_count": 95,
   "metadata": {
    "collapsed": false
   },
   "outputs": [
    {
     "name": "stdout",
     "output_type": "stream",
     "text": [
      "<type 'numpy.float32'>\n"
     ]
    }
   ],
   "source": [
    "print type(model_w2v[\"word\"][0])"
   ]
  },
  {
   "cell_type": "code",
   "execution_count": 96,
   "metadata": {
    "collapsed": false
   },
   "outputs": [
    {
     "name": "stdout",
     "output_type": "stream",
     "text": [
      "<type 'float'>\n"
     ]
    }
   ],
   "source": [
    "print type(glove_dict[\"word\"][0])"
   ]
  },
  {
   "cell_type": "code",
   "execution_count": 107,
   "metadata": {
    "collapsed": false
   },
   "outputs": [
    {
     "name": "stdout",
     "output_type": "stream",
     "text": [
      "[]\n",
      "[]\n"
     ]
    }
   ],
   "source": [
    "for i in article_vector:\n",
    "    if len(i) != 100:\n",
    "        print i"
   ]
  },
  {
   "cell_type": "code",
   "execution_count": null,
   "metadata": {
    "collapsed": true
   },
   "outputs": [],
   "source": []
  }
 ],
 "metadata": {
  "anaconda-cloud": {},
  "kernelspec": {
   "display_name": "Python 2",
   "language": "python",
   "name": "python2"
  },
  "language_info": {
   "codemirror_mode": {
    "name": "ipython",
    "version": 2
   },
   "file_extension": ".py",
   "mimetype": "text/x-python",
   "name": "python",
   "nbconvert_exporter": "python",
   "pygments_lexer": "ipython2",
   "version": "2.7.11"
  }
 },
 "nbformat": 4,
 "nbformat_minor": 2
}
