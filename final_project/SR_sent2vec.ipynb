{
 "cells": [
  {
   "cell_type": "code",
   "execution_count": 164,
   "metadata": {
    "collapsed": false
   },
   "outputs": [],
   "source": [
    "from os import listdir\n",
    "import pandas as pd\n",
    "import numpy as np\n",
    "from sklearn.metrics.pairwise import cosine_similarity\n",
    "import jieba.analyse\n",
    "import jieba\n",
    "from joblib import Parallel, delayed\n",
    "import spacy\n",
    "import gensim\n",
    "from operator import itemgetter"
   ]
  },
  {
   "cell_type": "markdown",
   "metadata": {},
   "source": [
    "### word embedding 給每一個回覆一條100維的向量"
   ]
  },
  {
   "cell_type": "code",
   "execution_count": 155,
   "metadata": {
    "collapsed": false
   },
   "outputs": [],
   "source": [
    "import csv\n",
    "from collections import defaultdict\n",
    "i = 0\n",
    "word2vec_dict = defaultdict(list)\n",
    "with open('/home/thtang/wiki/wiki_wordvector_utf8.csv', 'r') as csvfile:\n",
    "    csvreader = csv.reader(csvfile)\n",
    "    for row in csvreader:\n",
    "        if i != 0:\n",
    "            word2vec_dict[row[0]] = [float(vec) for vec in row[1:]]\n",
    "        else:\n",
    "            i+=1"
   ]
  },
  {
   "cell_type": "code",
   "execution_count": 3,
   "metadata": {
    "collapsed": false
   },
   "outputs": [
    {
     "name": "stdout",
     "output_type": "stream",
     "text": [
      "[-0.640565067529678, 0.0336354076862335, 0.41335366666317, 0.00131717324256897, 0.401215046644211, -0.0728204697370529, -0.295356702059507, 1.00522550940514, -0.186934519559145, 0.215594366192818, 0.354477480053902, -0.29464964941144, 1.07662945985794, -0.255227833986282, 0.322038024663925, 0.345483627170324, -0.525648951530457, 0.417509458959103, -0.414625212550163, 0.694221533834934, 0.000262320041656494, -0.845286443829536, -0.210743393748999, -0.315229117870331, 0.0938564464449883, -0.0996764749288559, 0.0564160943031311, 0.197931192815304, 0.63549841940403, 0.0057162344455719, -0.133438780903816, -0.612654864788055, -0.921924591064453, -0.329988323152065, -0.666794568300247, 0.156572330743074, -0.151711627840996, -0.445782423019409, -0.606352776288986, -0.129780882969499, -0.788617819547653, 0.525231793522835, 0.42589770257473, 0.350618302822113, -0.40019042044878, 0.379319651052356, -0.285997875034809, -0.497089222073555, 0.662290655076504, -0.0544864535331726, 0.454254500567913, 0.480045720934868, -0.01983343064785, 0.875766962766647, -0.306615008041263, 0.0489368438720703, -0.974399417638779, -0.142389081418514, -0.111855655908585, 0.340371433645487, -0.586190611124039, -1.07126396894455, 0.294062599539757, -0.776908367872238, 1.08209162950516, 0.242396252695471, 0.297999494709074, -0.309644274413586, 0.717207327485085, 0.300897538661957, -0.738200224936008, 0.260567754507065, -0.171226032078266, -0.704521119594574, -0.366803258657455, -0.227164760231972, 0.107173278927803, 0.1789765432477, -0.885004580020905, 0.367263361811638, -0.186270475387573, 0.136961489915848, 0.543539896607399, 0.253738202154636, 0.876761481165886, -0.493394151329994, 0.190986657515168, 0.227256581187248, -0.205661192536354, -0.419217973947525, 0.196000505238771, -0.29453406482935, -0.734108507633209, 0.0798432230949402, 0.706463187932968, -0.47546074539423, -0.280216868966818, -0.0675749909132719, -0.103507578372955, 0.0717670023441315]\n"
     ]
    }
   ],
   "source": [
    "print(word2vec_dict[\"gobies\"])"
   ]
  },
  {
   "cell_type": "code",
   "execution_count": 197,
   "metadata": {
    "collapsed": true
   },
   "outputs": [],
   "source": [
    "seg_folder_dir = \"/home/thtang/preprocessing_45_900/preprocessing_45_900/\"\n",
    "seg_path = [ seg_folder_dir + path for path in listdir(seg_folder_dir) ]\n",
    "seg_name = listdir(seg_folder_dir)"
   ]
  },
  {
   "cell_type": "code",
   "execution_count": 17,
   "metadata": {
    "collapsed": false
   },
   "outputs": [],
   "source": [
    "text_file = open(\"chat_corpus.txt\", \"w\")\n",
    "text_file.write(big_string)\n",
    "text_file.close()"
   ]
  },
  {
   "cell_type": "code",
   "execution_count": 157,
   "metadata": {
    "collapsed": false
   },
   "outputs": [],
   "source": [
    "import logging\n",
    "from gensim.corpora import WikiCorpus\n",
    "from gensim.models import Word2Vec\n",
    "from gensim.models.word2vec import LineSentence"
   ]
  },
  {
   "cell_type": "code",
   "execution_count": 158,
   "metadata": {
    "collapsed": false
   },
   "outputs": [],
   "source": [
    "#load word2vec model\n",
    "model = Word2Vec.load_word2vec_format(\"/home/thtang/chat_w2v\")"
   ]
  },
  {
   "cell_type": "code",
   "execution_count": 159,
   "metadata": {
    "collapsed": false
   },
   "outputs": [
    {
     "data": {
      "text/plain": [
       "[('line', 0.855745792388916),\n",
       " ('Line', 0.8464864492416382),\n",
       " ('LINE', 0.8412118554115295),\n",
       " ('我賴', 0.8075134754180908),\n",
       " ('的賴', 0.801491916179657),\n",
       " ('賴啊', 0.794263482093811),\n",
       " ('用賴', 0.791531503200531),\n",
       " ('你賴', 0.7817888855934143),\n",
       " ('賴吧', 0.7787739038467407),\n",
       " ('賴呢', 0.7736353278160095)]"
      ]
     },
     "execution_count": 159,
     "metadata": {},
     "output_type": "execute_result"
    }
   ],
   "source": [
    "model.most_similar(\"賴\")"
   ]
  },
  {
   "cell_type": "code",
   "execution_count": 198,
   "metadata": {
    "collapsed": true
   },
   "outputs": [],
   "source": [
    "column_name = [\"v\"+str(i) for i in range(1,101)]\n",
    "def create_d2v_file(path,name):\n",
    "    df = pd.read_csv(path)\n",
    "    vec_frame = []\n",
    "    for row in range(df.shape[0]):\n",
    "        word2vec2doc = []\n",
    "        \n",
    "        for word in df.loc[row,\"seg_text\"].split(\" \"):\n",
    "            try:\n",
    "                wv = model[word]\n",
    "                word2vec2doc.append(wv)\n",
    "            except:\n",
    "                word2vec2doc.append(np.zeros(100))\n",
    "        vec_frame.append(np.mean(np.array(word2vec2doc),axis = 0))\n",
    "\n",
    "    frame_with_DocVec = pd.concat([df, pd.DataFrame(np.array(vec_frame),columns=column_name)], axis=1)\n",
    "    frame_with_DocVec.to_csv(\"/home/thtang/sr_chat_data_DV_v4/\"+name,\n",
    "                          index = False,\n",
    "                         encoding=\"utf8\")"
   ]
  },
  {
   "cell_type": "code",
   "execution_count": 199,
   "metadata": {
    "collapsed": false
   },
   "outputs": [],
   "source": [
    "create_d2v_file(seg_path[1],seg_name[1])"
   ]
  },
  {
   "cell_type": "code",
   "execution_count": 200,
   "metadata": {
    "collapsed": false,
    "scrolled": true
   },
   "outputs": [
    {
     "name": "stderr",
     "output_type": "stream",
     "text": [
      "Process ForkPoolWorker-95:\n",
      "Process ForkPoolWorker-93:\n",
      "Process ForkPoolWorker-81:\n",
      "Process ForkPoolWorker-80:\n",
      "Process ForkPoolWorker-97:\n",
      "Process ForkPoolWorker-101:\n",
      "Process ForkPoolWorker-102:\n",
      "Process ForkPoolWorker-78:\n",
      "Process ForkPoolWorker-88:\n",
      "Process ForkPoolWorker-83:\n",
      "Process ForkPoolWorker-103:\n",
      "Process ForkPoolWorker-89:\n",
      "Process ForkPoolWorker-77:\n",
      "Process ForkPoolWorker-90:\n",
      "Process ForkPoolWorker-99:\n",
      "Traceback (most recent call last):\n",
      "Process ForkPoolWorker-106:\n",
      "Process ForkPoolWorker-100:\n",
      "Process ForkPoolWorker-105:\n",
      "Process ForkPoolWorker-79:\n",
      "Process ForkPoolWorker-94:\n",
      "Traceback (most recent call last):\n",
      "Process ForkPoolWorker-84:\n",
      "Process ForkPoolWorker-85:\n",
      "Traceback (most recent call last):\n",
      "Traceback (most recent call last):\n",
      "Traceback (most recent call last):\n",
      "Traceback (most recent call last):\n",
      "Traceback (most recent call last):\n",
      "Traceback (most recent call last):\n",
      "Traceback (most recent call last):\n",
      "Traceback (most recent call last):\n",
      "Traceback (most recent call last):\n",
      "Traceback (most recent call last):\n",
      "Traceback (most recent call last):\n",
      "Traceback (most recent call last):\n",
      "Traceback (most recent call last):\n",
      "Traceback (most recent call last):\n",
      "Traceback (most recent call last):\n",
      "Process ForkPoolWorker-92:\n",
      "Traceback (most recent call last):\n",
      "Process ForkPoolWorker-91:\n",
      "Traceback (most recent call last):\n",
      "Traceback (most recent call last):\n",
      "Traceback (most recent call last):\n",
      "Traceback (most recent call last):\n",
      "Traceback (most recent call last):\n",
      "Traceback (most recent call last):\n",
      "  File \"/usr/lib/python3.4/multiprocessing/process.py\", line 254, in _bootstrap\n",
      "    self.run()\n",
      "  File \"/usr/lib/python3.4/multiprocessing/process.py\", line 254, in _bootstrap\n",
      "    self.run()\n",
      "  File \"/usr/lib/python3.4/multiprocessing/process.py\", line 254, in _bootstrap\n",
      "    self.run()\n",
      "  File \"/usr/lib/python3.4/multiprocessing/process.py\", line 254, in _bootstrap\n",
      "    self.run()\n",
      "  File \"/usr/lib/python3.4/multiprocessing/process.py\", line 254, in _bootstrap\n",
      "    self.run()\n",
      "  File \"/usr/lib/python3.4/multiprocessing/process.py\", line 254, in _bootstrap\n",
      "    self.run()\n",
      "  File \"/usr/lib/python3.4/multiprocessing/process.py\", line 254, in _bootstrap\n",
      "    self.run()\n",
      "  File \"/usr/lib/python3.4/multiprocessing/process.py\", line 254, in _bootstrap\n",
      "    self.run()\n",
      "  File \"/usr/lib/python3.4/multiprocessing/process.py\", line 254, in _bootstrap\n",
      "    self.run()\n",
      "  File \"/usr/lib/python3.4/multiprocessing/process.py\", line 254, in _bootstrap\n",
      "    self.run()\n",
      "  File \"/usr/lib/python3.4/multiprocessing/process.py\", line 254, in _bootstrap\n",
      "    self.run()\n",
      "  File \"/usr/lib/python3.4/multiprocessing/process.py\", line 254, in _bootstrap\n",
      "    self.run()\n",
      "  File \"/usr/lib/python3.4/multiprocessing/process.py\", line 254, in _bootstrap\n",
      "    self.run()\n",
      "  File \"/usr/lib/python3.4/multiprocessing/process.py\", line 254, in _bootstrap\n",
      "    self.run()\n",
      "  File \"/usr/lib/python3.4/multiprocessing/process.py\", line 254, in _bootstrap\n",
      "    self.run()\n",
      "  File \"/usr/lib/python3.4/multiprocessing/process.py\", line 93, in run\n",
      "    self._target(*self._args, **self._kwargs)\n",
      "  File \"/usr/lib/python3.4/multiprocessing/process.py\", line 254, in _bootstrap\n",
      "    self.run()\n",
      "  File \"/usr/lib/python3.4/multiprocessing/process.py\", line 93, in run\n",
      "    self._target(*self._args, **self._kwargs)\n",
      "  File \"/usr/lib/python3.4/multiprocessing/process.py\", line 254, in _bootstrap\n",
      "    self.run()\n",
      "  File \"/usr/lib/python3.4/multiprocessing/process.py\", line 254, in _bootstrap\n",
      "    self.run()\n",
      "  File \"/usr/lib/python3.4/multiprocessing/process.py\", line 93, in run\n",
      "    self._target(*self._args, **self._kwargs)\n",
      "  File \"/usr/lib/python3.4/multiprocessing/process.py\", line 254, in _bootstrap\n",
      "    self.run()\n",
      "  File \"/usr/lib/python3.4/multiprocessing/process.py\", line 254, in _bootstrap\n",
      "    self.run()\n",
      "  File \"/usr/lib/python3.4/multiprocessing/process.py\", line 93, in run\n",
      "    self._target(*self._args, **self._kwargs)\n",
      "  File \"/usr/lib/python3.4/multiprocessing/process.py\", line 93, in run\n",
      "    self._target(*self._args, **self._kwargs)\n",
      "  File \"/usr/lib/python3.4/multiprocessing/process.py\", line 254, in _bootstrap\n",
      "    self.run()\n",
      "  File \"/usr/lib/python3.4/multiprocessing/process.py\", line 93, in run\n",
      "    self._target(*self._args, **self._kwargs)\n",
      "  File \"/usr/lib/python3.4/multiprocessing/process.py\", line 254, in _bootstrap\n",
      "    self.run()\n",
      "  File \"/usr/lib/python3.4/multiprocessing/process.py\", line 254, in _bootstrap\n",
      "    self.run()\n",
      "  File \"/usr/lib/python3.4/multiprocessing/process.py\", line 93, in run\n",
      "    self._target(*self._args, **self._kwargs)\n",
      "  File \"/usr/lib/python3.4/multiprocessing/process.py\", line 93, in run\n",
      "    self._target(*self._args, **self._kwargs)\n",
      "  File \"/usr/lib/python3.4/multiprocessing/process.py\", line 93, in run\n",
      "    self._target(*self._args, **self._kwargs)\n",
      "  File \"/usr/lib/python3.4/multiprocessing/process.py\", line 93, in run\n",
      "    self._target(*self._args, **self._kwargs)\n",
      "  File \"/usr/lib/python3.4/multiprocessing/process.py\", line 254, in _bootstrap\n",
      "    self.run()\n",
      "  File \"/usr/lib/python3.4/multiprocessing/pool.py\", line 108, in worker\n",
      "    task = get()\n",
      "  File \"/usr/lib/python3.4/multiprocessing/process.py\", line 93, in run\n",
      "    self._target(*self._args, **self._kwargs)\n",
      "  File \"/usr/lib/python3.4/multiprocessing/process.py\", line 93, in run\n",
      "    self._target(*self._args, **self._kwargs)\n",
      "  File \"/usr/lib/python3.4/multiprocessing/process.py\", line 93, in run\n",
      "    self._target(*self._args, **self._kwargs)\n",
      "  File \"/usr/lib/python3.4/multiprocessing/process.py\", line 93, in run\n",
      "    self._target(*self._args, **self._kwargs)\n",
      "  File \"/usr/lib/python3.4/multiprocessing/process.py\", line 93, in run\n",
      "    self._target(*self._args, **self._kwargs)\n",
      "  File \"/usr/lib/python3.4/multiprocessing/pool.py\", line 108, in worker\n",
      "    task = get()\n",
      "  File \"/usr/lib/python3.4/multiprocessing/process.py\", line 93, in run\n",
      "    self._target(*self._args, **self._kwargs)\n",
      "  File \"/usr/lib/python3.4/multiprocessing/process.py\", line 93, in run\n",
      "    self._target(*self._args, **self._kwargs)\n",
      "  File \"/usr/lib/python3.4/multiprocessing/pool.py\", line 108, in worker\n",
      "    task = get()\n",
      "  File \"/usr/lib/python3.4/multiprocessing/process.py\", line 93, in run\n",
      "    self._target(*self._args, **self._kwargs)\n",
      "  File \"/usr/lib/python3.4/multiprocessing/process.py\", line 93, in run\n",
      "    self._target(*self._args, **self._kwargs)\n",
      "  File \"/usr/lib/python3.4/multiprocessing/pool.py\", line 108, in worker\n",
      "    task = get()\n",
      "  File \"/usr/lib/python3.4/multiprocessing/process.py\", line 93, in run\n",
      "    self._target(*self._args, **self._kwargs)\n",
      "  File \"/usr/lib/python3.4/multiprocessing/pool.py\", line 108, in worker\n",
      "    task = get()\n",
      "  File \"/usr/lib/python3.4/multiprocessing/process.py\", line 93, in run\n",
      "    self._target(*self._args, **self._kwargs)\n",
      "  File \"/usr/lib/python3.4/multiprocessing/pool.py\", line 108, in worker\n",
      "    task = get()\n",
      "  File \"/usr/lib/python3.4/multiprocessing/process.py\", line 93, in run\n",
      "    self._target(*self._args, **self._kwargs)\n",
      "  File \"/usr/lib/python3.4/multiprocessing/pool.py\", line 108, in worker\n",
      "    task = get()\n",
      "  File \"/usr/lib/python3.4/multiprocessing/pool.py\", line 108, in worker\n",
      "    task = get()\n",
      "  File \"/usr/lib/python3.4/multiprocessing/process.py\", line 93, in run\n",
      "    self._target(*self._args, **self._kwargs)\n",
      "  File \"/usr/lib/python3.4/multiprocessing/pool.py\", line 108, in worker\n",
      "    task = get()\n",
      "  File \"/usr/lib/python3.4/multiprocessing/pool.py\", line 108, in worker\n",
      "    task = get()\n",
      "  File \"/usr/lib/python3.4/multiprocessing/pool.py\", line 108, in worker\n",
      "    task = get()\n",
      "  File \"/usr/lib/python3.4/multiprocessing/pool.py\", line 108, in worker\n",
      "    task = get()\n",
      "  File \"/usr/lib/python3.4/multiprocessing/pool.py\", line 108, in worker\n",
      "    task = get()\n",
      "  File \"/usr/lib/python3.4/multiprocessing/process.py\", line 93, in run\n",
      "    self._target(*self._args, **self._kwargs)\n",
      "  File \"/usr/lib/python3.4/multiprocessing/pool.py\", line 108, in worker\n",
      "    task = get()\n",
      "  File \"/usr/lib/python3.4/multiprocessing/pool.py\", line 108, in worker\n",
      "    task = get()\n",
      "  File \"/usr/lib/python3.4/multiprocessing/pool.py\", line 108, in worker\n",
      "    task = get()\n",
      "  File \"/usr/lib/python3.4/multiprocessing/pool.py\", line 108, in worker\n",
      "    task = get()\n",
      "  File \"/usr/lib/python3.4/multiprocessing/pool.py\", line 108, in worker\n",
      "    task = get()\n",
      "  File \"/usr/lib/python3.4/multiprocessing/pool.py\", line 108, in worker\n",
      "    task = get()\n",
      "  File \"/usr/lib/python3.4/multiprocessing/pool.py\", line 108, in worker\n",
      "    task = get()\n",
      "  File \"/usr/lib/python3.4/multiprocessing/pool.py\", line 108, in worker\n",
      "    task = get()\n",
      "  File \"/usr/lib/python3.4/multiprocessing/pool.py\", line 108, in worker\n",
      "    task = get()\n",
      "  File \"/usr/lib/python3.4/multiprocessing/pool.py\", line 108, in worker\n",
      "    task = get()\n",
      "  File \"/usr/lib/python3.4/multiprocessing/pool.py\", line 108, in worker\n",
      "    task = get()\n",
      "  File \"/home/thtang/.local/lib/python3.4/site-packages/joblib/pool.py\", line 360, in get\n",
      "    racquire()\n",
      "  File \"/home/thtang/.local/lib/python3.4/site-packages/joblib/pool.py\", line 360, in get\n",
      "    racquire()\n",
      "  File \"/home/thtang/.local/lib/python3.4/site-packages/joblib/pool.py\", line 360, in get\n",
      "    racquire()\n",
      "  File \"/home/thtang/.local/lib/python3.4/site-packages/joblib/pool.py\", line 360, in get\n",
      "    racquire()\n",
      "  File \"/home/thtang/.local/lib/python3.4/site-packages/joblib/pool.py\", line 360, in get\n",
      "    racquire()\n",
      "  File \"/home/thtang/.local/lib/python3.4/site-packages/joblib/pool.py\", line 360, in get\n",
      "    racquire()\n",
      "  File \"/home/thtang/.local/lib/python3.4/site-packages/joblib/pool.py\", line 360, in get\n",
      "    racquire()\n",
      "  File \"/home/thtang/.local/lib/python3.4/site-packages/joblib/pool.py\", line 360, in get\n",
      "    racquire()\n",
      "  File \"/home/thtang/.local/lib/python3.4/site-packages/joblib/pool.py\", line 360, in get\n",
      "    racquire()\n",
      "  File \"/home/thtang/.local/lib/python3.4/site-packages/joblib/pool.py\", line 360, in get\n",
      "    racquire()\n",
      "  File \"/home/thtang/.local/lib/python3.4/site-packages/joblib/pool.py\", line 362, in get\n",
      "    return recv()\n",
      "  File \"/home/thtang/.local/lib/python3.4/site-packages/joblib/pool.py\", line 360, in get\n",
      "    racquire()\n",
      "  File \"/home/thtang/.local/lib/python3.4/site-packages/joblib/pool.py\", line 360, in get\n",
      "    racquire()\n",
      "  File \"/home/thtang/.local/lib/python3.4/site-packages/joblib/pool.py\", line 360, in get\n",
      "    racquire()\n",
      "  File \"/home/thtang/.local/lib/python3.4/site-packages/joblib/pool.py\", line 360, in get\n",
      "    racquire()\n",
      "  File \"/home/thtang/.local/lib/python3.4/site-packages/joblib/pool.py\", line 360, in get\n",
      "    racquire()\n",
      "  File \"/home/thtang/.local/lib/python3.4/site-packages/joblib/pool.py\", line 360, in get\n",
      "    racquire()\n",
      "  File \"/home/thtang/.local/lib/python3.4/site-packages/joblib/pool.py\", line 360, in get\n",
      "    racquire()\n",
      "KeyboardInterrupt\n",
      "  File \"/home/thtang/.local/lib/python3.4/site-packages/joblib/pool.py\", line 360, in get\n",
      "    racquire()\n",
      "  File \"/home/thtang/.local/lib/python3.4/site-packages/joblib/pool.py\", line 360, in get\n",
      "    racquire()\n",
      "  File \"/home/thtang/.local/lib/python3.4/site-packages/joblib/pool.py\", line 360, in get\n",
      "    racquire()\n",
      "  File \"/home/thtang/.local/lib/python3.4/site-packages/joblib/pool.py\", line 360, in get\n",
      "    racquire()\n",
      "  File \"/home/thtang/.local/lib/python3.4/site-packages/joblib/pool.py\", line 360, in get\n",
      "    racquire()\n",
      "  File \"/home/thtang/.local/lib/python3.4/site-packages/joblib/pool.py\", line 360, in get\n",
      "    racquire()\n",
      "KeyboardInterrupt\n"
     ]
    },
    {
     "ename": "KeyboardInterrupt",
     "evalue": "",
     "output_type": "error",
     "traceback": [
      "\u001b[0;31m---------------------------------------------------------------------------\u001b[0m",
      "\u001b[0;31mKeyboardInterrupt\u001b[0m                         Traceback (most recent call last)",
      "\u001b[0;32m<ipython-input-200-5b75a04b92b9>\u001b[0m in \u001b[0;36m<module>\u001b[0;34m()\u001b[0m\n\u001b[1;32m      1\u001b[0m \u001b[0;32mif\u001b[0m \u001b[0m__name__\u001b[0m \u001b[0;34m==\u001b[0m \u001b[0;34m'__main__'\u001b[0m\u001b[0;34m:\u001b[0m\u001b[0;34m\u001b[0m\u001b[0m\n\u001b[0;32m----> 2\u001b[0;31m     \u001b[0mParallel\u001b[0m\u001b[0;34m(\u001b[0m\u001b[0mn_jobs\u001b[0m\u001b[0;34m=\u001b[0m\u001b[0;36m24\u001b[0m\u001b[0;34m)\u001b[0m\u001b[0;34m(\u001b[0m\u001b[0mdelayed\u001b[0m\u001b[0;34m(\u001b[0m\u001b[0mcreate_d2v_file\u001b[0m\u001b[0;34m)\u001b[0m\u001b[0;34m(\u001b[0m\u001b[0mpath\u001b[0m\u001b[0;34m,\u001b[0m\u001b[0mname\u001b[0m\u001b[0;34m)\u001b[0m \u001b[0;32mfor\u001b[0m \u001b[0mpath\u001b[0m\u001b[0;34m,\u001b[0m \u001b[0mname\u001b[0m \u001b[0;32min\u001b[0m \u001b[0mzip\u001b[0m\u001b[0;34m(\u001b[0m\u001b[0mseg_path\u001b[0m\u001b[0;34m,\u001b[0m\u001b[0mseg_name\u001b[0m\u001b[0;34m)\u001b[0m\u001b[0;34m)\u001b[0m\u001b[0;34m\u001b[0m\u001b[0m\n\u001b[0m",
      "\u001b[0;32m/home/thtang/.local/lib/python3.4/site-packages/joblib/parallel.py\u001b[0m in \u001b[0;36m__call__\u001b[0;34m(self, iterable)\u001b[0m\n\u001b[1;32m    787\u001b[0m                 \u001b[0;31m# consumption.\u001b[0m\u001b[0;34m\u001b[0m\u001b[0;34m\u001b[0m\u001b[0m\n\u001b[1;32m    788\u001b[0m                 \u001b[0mself\u001b[0m\u001b[0;34m.\u001b[0m\u001b[0m_iterating\u001b[0m \u001b[0;34m=\u001b[0m \u001b[0;32mFalse\u001b[0m\u001b[0;34m\u001b[0m\u001b[0m\n\u001b[0;32m--> 789\u001b[0;31m             \u001b[0mself\u001b[0m\u001b[0;34m.\u001b[0m\u001b[0mretrieve\u001b[0m\u001b[0;34m(\u001b[0m\u001b[0;34m)\u001b[0m\u001b[0;34m\u001b[0m\u001b[0m\n\u001b[0m\u001b[1;32m    790\u001b[0m             \u001b[0;31m# Make sure that we get a last message telling us we are done\u001b[0m\u001b[0;34m\u001b[0m\u001b[0;34m\u001b[0m\u001b[0m\n\u001b[1;32m    791\u001b[0m             \u001b[0melapsed_time\u001b[0m \u001b[0;34m=\u001b[0m \u001b[0mtime\u001b[0m\u001b[0;34m.\u001b[0m\u001b[0mtime\u001b[0m\u001b[0;34m(\u001b[0m\u001b[0;34m)\u001b[0m \u001b[0;34m-\u001b[0m \u001b[0mself\u001b[0m\u001b[0;34m.\u001b[0m\u001b[0m_start_time\u001b[0m\u001b[0;34m\u001b[0m\u001b[0m\n",
      "\u001b[0;32m/home/thtang/.local/lib/python3.4/site-packages/joblib/parallel.py\u001b[0m in \u001b[0;36mretrieve\u001b[0;34m(self)\u001b[0m\n\u001b[1;32m    697\u001b[0m             \u001b[0;32mtry\u001b[0m\u001b[0;34m:\u001b[0m\u001b[0;34m\u001b[0m\u001b[0m\n\u001b[1;32m    698\u001b[0m                 \u001b[0;32mif\u001b[0m \u001b[0mgetattr\u001b[0m\u001b[0;34m(\u001b[0m\u001b[0mself\u001b[0m\u001b[0;34m.\u001b[0m\u001b[0m_backend\u001b[0m\u001b[0;34m,\u001b[0m \u001b[0;34m'supports_timeout'\u001b[0m\u001b[0;34m,\u001b[0m \u001b[0;32mFalse\u001b[0m\u001b[0;34m)\u001b[0m\u001b[0;34m:\u001b[0m\u001b[0;34m\u001b[0m\u001b[0m\n\u001b[0;32m--> 699\u001b[0;31m                     \u001b[0mself\u001b[0m\u001b[0;34m.\u001b[0m\u001b[0m_output\u001b[0m\u001b[0;34m.\u001b[0m\u001b[0mextend\u001b[0m\u001b[0;34m(\u001b[0m\u001b[0mjob\u001b[0m\u001b[0;34m.\u001b[0m\u001b[0mget\u001b[0m\u001b[0;34m(\u001b[0m\u001b[0mtimeout\u001b[0m\u001b[0;34m=\u001b[0m\u001b[0mself\u001b[0m\u001b[0;34m.\u001b[0m\u001b[0mtimeout\u001b[0m\u001b[0;34m)\u001b[0m\u001b[0;34m)\u001b[0m\u001b[0;34m\u001b[0m\u001b[0m\n\u001b[0m\u001b[1;32m    700\u001b[0m                 \u001b[0;32melse\u001b[0m\u001b[0;34m:\u001b[0m\u001b[0;34m\u001b[0m\u001b[0m\n\u001b[1;32m    701\u001b[0m                     \u001b[0mself\u001b[0m\u001b[0;34m.\u001b[0m\u001b[0m_output\u001b[0m\u001b[0;34m.\u001b[0m\u001b[0mextend\u001b[0m\u001b[0;34m(\u001b[0m\u001b[0mjob\u001b[0m\u001b[0;34m.\u001b[0m\u001b[0mget\u001b[0m\u001b[0;34m(\u001b[0m\u001b[0;34m)\u001b[0m\u001b[0;34m)\u001b[0m\u001b[0;34m\u001b[0m\u001b[0m\n",
      "\u001b[0;32m/usr/lib/python3.4/multiprocessing/pool.py\u001b[0m in \u001b[0;36mget\u001b[0;34m(self, timeout)\u001b[0m\n\u001b[1;32m    591\u001b[0m \u001b[0;34m\u001b[0m\u001b[0m\n\u001b[1;32m    592\u001b[0m     \u001b[0;32mdef\u001b[0m \u001b[0mget\u001b[0m\u001b[0;34m(\u001b[0m\u001b[0mself\u001b[0m\u001b[0;34m,\u001b[0m \u001b[0mtimeout\u001b[0m\u001b[0;34m=\u001b[0m\u001b[0;32mNone\u001b[0m\u001b[0;34m)\u001b[0m\u001b[0;34m:\u001b[0m\u001b[0;34m\u001b[0m\u001b[0m\n\u001b[0;32m--> 593\u001b[0;31m         \u001b[0mself\u001b[0m\u001b[0;34m.\u001b[0m\u001b[0mwait\u001b[0m\u001b[0;34m(\u001b[0m\u001b[0mtimeout\u001b[0m\u001b[0;34m)\u001b[0m\u001b[0;34m\u001b[0m\u001b[0m\n\u001b[0m\u001b[1;32m    594\u001b[0m         \u001b[0;32mif\u001b[0m \u001b[0;32mnot\u001b[0m \u001b[0mself\u001b[0m\u001b[0;34m.\u001b[0m\u001b[0mready\u001b[0m\u001b[0;34m(\u001b[0m\u001b[0;34m)\u001b[0m\u001b[0;34m:\u001b[0m\u001b[0;34m\u001b[0m\u001b[0m\n\u001b[1;32m    595\u001b[0m             \u001b[0;32mraise\u001b[0m \u001b[0mTimeoutError\u001b[0m\u001b[0;34m\u001b[0m\u001b[0m\n",
      "\u001b[0;32m/usr/lib/python3.4/multiprocessing/pool.py\u001b[0m in \u001b[0;36mwait\u001b[0;34m(self, timeout)\u001b[0m\n\u001b[1;32m    588\u001b[0m \u001b[0;34m\u001b[0m\u001b[0m\n\u001b[1;32m    589\u001b[0m     \u001b[0;32mdef\u001b[0m \u001b[0mwait\u001b[0m\u001b[0;34m(\u001b[0m\u001b[0mself\u001b[0m\u001b[0;34m,\u001b[0m \u001b[0mtimeout\u001b[0m\u001b[0;34m=\u001b[0m\u001b[0;32mNone\u001b[0m\u001b[0;34m)\u001b[0m\u001b[0;34m:\u001b[0m\u001b[0;34m\u001b[0m\u001b[0m\n\u001b[0;32m--> 590\u001b[0;31m         \u001b[0mself\u001b[0m\u001b[0;34m.\u001b[0m\u001b[0m_event\u001b[0m\u001b[0;34m.\u001b[0m\u001b[0mwait\u001b[0m\u001b[0;34m(\u001b[0m\u001b[0mtimeout\u001b[0m\u001b[0;34m)\u001b[0m\u001b[0;34m\u001b[0m\u001b[0m\n\u001b[0m\u001b[1;32m    591\u001b[0m \u001b[0;34m\u001b[0m\u001b[0m\n\u001b[1;32m    592\u001b[0m     \u001b[0;32mdef\u001b[0m \u001b[0mget\u001b[0m\u001b[0;34m(\u001b[0m\u001b[0mself\u001b[0m\u001b[0;34m,\u001b[0m \u001b[0mtimeout\u001b[0m\u001b[0;34m=\u001b[0m\u001b[0;32mNone\u001b[0m\u001b[0;34m)\u001b[0m\u001b[0;34m:\u001b[0m\u001b[0;34m\u001b[0m\u001b[0m\n",
      "\u001b[0;32m/usr/lib/python3.4/threading.py\u001b[0m in \u001b[0;36mwait\u001b[0;34m(self, timeout)\u001b[0m\n\u001b[1;32m    551\u001b[0m             \u001b[0msignaled\u001b[0m \u001b[0;34m=\u001b[0m \u001b[0mself\u001b[0m\u001b[0;34m.\u001b[0m\u001b[0m_flag\u001b[0m\u001b[0;34m\u001b[0m\u001b[0m\n\u001b[1;32m    552\u001b[0m             \u001b[0;32mif\u001b[0m \u001b[0;32mnot\u001b[0m \u001b[0msignaled\u001b[0m\u001b[0;34m:\u001b[0m\u001b[0;34m\u001b[0m\u001b[0m\n\u001b[0;32m--> 553\u001b[0;31m                 \u001b[0msignaled\u001b[0m \u001b[0;34m=\u001b[0m \u001b[0mself\u001b[0m\u001b[0;34m.\u001b[0m\u001b[0m_cond\u001b[0m\u001b[0;34m.\u001b[0m\u001b[0mwait\u001b[0m\u001b[0;34m(\u001b[0m\u001b[0mtimeout\u001b[0m\u001b[0;34m)\u001b[0m\u001b[0;34m\u001b[0m\u001b[0m\n\u001b[0m\u001b[1;32m    554\u001b[0m             \u001b[0;32mreturn\u001b[0m \u001b[0msignaled\u001b[0m\u001b[0;34m\u001b[0m\u001b[0m\n\u001b[1;32m    555\u001b[0m         \u001b[0;32mfinally\u001b[0m\u001b[0;34m:\u001b[0m\u001b[0;34m\u001b[0m\u001b[0m\n",
      "\u001b[0;32m/usr/lib/python3.4/threading.py\u001b[0m in \u001b[0;36mwait\u001b[0;34m(self, timeout)\u001b[0m\n\u001b[1;32m    288\u001b[0m         \u001b[0;32mtry\u001b[0m\u001b[0;34m:\u001b[0m    \u001b[0;31m# restore state no matter what (e.g., KeyboardInterrupt)\u001b[0m\u001b[0;34m\u001b[0m\u001b[0m\n\u001b[1;32m    289\u001b[0m             \u001b[0;32mif\u001b[0m \u001b[0mtimeout\u001b[0m \u001b[0;32mis\u001b[0m \u001b[0;32mNone\u001b[0m\u001b[0;34m:\u001b[0m\u001b[0;34m\u001b[0m\u001b[0m\n\u001b[0;32m--> 290\u001b[0;31m                 \u001b[0mwaiter\u001b[0m\u001b[0;34m.\u001b[0m\u001b[0macquire\u001b[0m\u001b[0;34m(\u001b[0m\u001b[0;34m)\u001b[0m\u001b[0;34m\u001b[0m\u001b[0m\n\u001b[0m\u001b[1;32m    291\u001b[0m                 \u001b[0mgotit\u001b[0m \u001b[0;34m=\u001b[0m \u001b[0;32mTrue\u001b[0m\u001b[0;34m\u001b[0m\u001b[0m\n\u001b[1;32m    292\u001b[0m             \u001b[0;32melse\u001b[0m\u001b[0;34m:\u001b[0m\u001b[0;34m\u001b[0m\u001b[0m\n",
      "\u001b[0;31mKeyboardInterrupt\u001b[0m: "
     ]
    }
   ],
   "source": [
    "if __name__ == '__main__':\n",
    "    Parallel(n_jobs=24)(delayed(create_d2v_file)(path,name) for path, name in zip(seg_path,seg_name))"
   ]
  },
  {
   "cell_type": "markdown",
   "metadata": {},
   "source": [
    "### all_chat 是已經把所有csv file 併成一張 csv"
   ]
  },
  {
   "cell_type": "code",
   "execution_count": 201,
   "metadata": {
    "collapsed": false
   },
   "outputs": [],
   "source": [
    "huge_df = pd.read_csv(\"/home/thtang/all_chat_v3.csv\")"
   ]
  },
  {
   "cell_type": "code",
   "execution_count": 169,
   "metadata": {
    "collapsed": true
   },
   "outputs": [],
   "source": [
    "import re\n",
    "def natural_keys(text):\n",
    "    '''\n",
    "    alist.sort(key=natural_keys) sorts in human order\n",
    "    http://nedbatchelder.com/blog/200712/human_sorting.html\n",
    "    (See Toothy's implementation in the comments)\n",
    "    '''\n",
    "    def atoi(text):\n",
    "        return int(text) if text.isdigit() else text\n",
    "\n",
    "    return [atoi(c) for c in re.split('(\\d+)', text)]\n",
    "huge_df = huge_df.reindex(columns=sorted(huge_df.columns, key=natural_keys))"
   ]
  },
  {
   "cell_type": "code",
   "execution_count": 210,
   "metadata": {
    "collapsed": false,
    "scrolled": true
   },
   "outputs": [
    {
     "data": {
      "text/html": [
       "<div>\n",
       "<table border=\"1\" class=\"dataframe\">\n",
       "  <thead>\n",
       "    <tr style=\"text-align: right;\">\n",
       "      <th></th>\n",
       "      <th>receiver</th>\n",
       "      <th>sender</th>\n",
       "      <th>text</th>\n",
       "      <th>time</th>\n",
       "      <th>type</th>\n",
       "      <th>sender_gender</th>\n",
       "      <th>seg_text</th>\n",
       "      <th>time_to_end</th>\n",
       "      <th>number_to_end</th>\n",
       "      <th>v1</th>\n",
       "      <th>...</th>\n",
       "      <th>v91</th>\n",
       "      <th>v92</th>\n",
       "      <th>v93</th>\n",
       "      <th>v94</th>\n",
       "      <th>v95</th>\n",
       "      <th>v96</th>\n",
       "      <th>v97</th>\n",
       "      <th>v98</th>\n",
       "      <th>v99</th>\n",
       "      <th>v100</th>\n",
       "    </tr>\n",
       "  </thead>\n",
       "  <tbody>\n",
       "    <tr>\n",
       "      <th>0</th>\n",
       "      <td>2fa890630b0a8d66c6fa3f849bc8df36</td>\n",
       "      <td>cd9bf5170bf4d5f44924b146ca66990a</td>\n",
       "      <td>超熱血</td>\n",
       "      <td>1482674730</td>\n",
       "      <td>0</td>\n",
       "      <td>m</td>\n",
       "      <td>超 熱血</td>\n",
       "      <td>1163</td>\n",
       "      <td>29</td>\n",
       "      <td>-0.384111</td>\n",
       "      <td>...</td>\n",
       "      <td>-0.620131</td>\n",
       "      <td>-2.010258</td>\n",
       "      <td>0.578868</td>\n",
       "      <td>2.108860</td>\n",
       "      <td>0.080509</td>\n",
       "      <td>1.939397</td>\n",
       "      <td>-0.931447</td>\n",
       "      <td>1.629769</td>\n",
       "      <td>-1.094416</td>\n",
       "      <td>1.727571</td>\n",
       "    </tr>\n",
       "    <tr>\n",
       "      <th>1</th>\n",
       "      <td>2fa890630b0a8d66c6fa3f849bc8df36</td>\n",
       "      <td>cd9bf5170bf4d5f44924b146ca66990a</td>\n",
       "      <td>我大一追過大二被拉去追 再來就累了哈哈</td>\n",
       "      <td>1482674748</td>\n",
       "      <td>0</td>\n",
       "      <td>m</td>\n",
       "      <td>我大一 追過 大二 被拉去 追   再來 就 累 了 哈哈</td>\n",
       "      <td>1145</td>\n",
       "      <td>28</td>\n",
       "      <td>0.166754</td>\n",
       "      <td>...</td>\n",
       "      <td>0.213204</td>\n",
       "      <td>-0.256830</td>\n",
       "      <td>-0.011289</td>\n",
       "      <td>-0.688967</td>\n",
       "      <td>-0.207733</td>\n",
       "      <td>0.305439</td>\n",
       "      <td>0.323035</td>\n",
       "      <td>-0.089427</td>\n",
       "      <td>-0.075220</td>\n",
       "      <td>-0.338135</td>\n",
       "    </tr>\n",
       "    <tr>\n",
       "      <th>2</th>\n",
       "      <td>cd9bf5170bf4d5f44924b146ca66990a</td>\n",
       "      <td>2fa890630b0a8d66c6fa3f849bc8df36</td>\n",
       "      <td>哈哈哈你現在還是學生嗎</td>\n",
       "      <td>1482674796</td>\n",
       "      <td>0</td>\n",
       "      <td>f</td>\n",
       "      <td>哈哈哈 你 現在 還 是 學生 嗎</td>\n",
       "      <td>1097</td>\n",
       "      <td>27</td>\n",
       "      <td>-0.732348</td>\n",
       "      <td>...</td>\n",
       "      <td>2.575363</td>\n",
       "      <td>-0.277841</td>\n",
       "      <td>0.561258</td>\n",
       "      <td>-0.243333</td>\n",
       "      <td>-0.280847</td>\n",
       "      <td>0.813071</td>\n",
       "      <td>1.837095</td>\n",
       "      <td>-1.013224</td>\n",
       "      <td>0.205161</td>\n",
       "      <td>1.326574</td>\n",
       "    </tr>\n",
       "    <tr>\n",
       "      <th>3</th>\n",
       "      <td>2fa890630b0a8d66c6fa3f849bc8df36</td>\n",
       "      <td>cd9bf5170bf4d5f44924b146ca66990a</td>\n",
       "      <td>看起來像嗎~</td>\n",
       "      <td>1482674894</td>\n",
       "      <td>0</td>\n",
       "      <td>m</td>\n",
       "      <td>看起來 像 嗎 ~</td>\n",
       "      <td>999</td>\n",
       "      <td>26</td>\n",
       "      <td>-0.686480</td>\n",
       "      <td>...</td>\n",
       "      <td>1.226083</td>\n",
       "      <td>-1.667297</td>\n",
       "      <td>2.167985</td>\n",
       "      <td>0.263293</td>\n",
       "      <td>0.226742</td>\n",
       "      <td>0.752650</td>\n",
       "      <td>2.432409</td>\n",
       "      <td>0.200486</td>\n",
       "      <td>0.457095</td>\n",
       "      <td>0.267751</td>\n",
       "    </tr>\n",
       "    <tr>\n",
       "      <th>4</th>\n",
       "      <td>cd9bf5170bf4d5f44924b146ca66990a</td>\n",
       "      <td>2fa890630b0a8d66c6fa3f849bc8df36</td>\n",
       "      <td>23是不是應該畢業了😂</td>\n",
       "      <td>1482674919</td>\n",
       "      <td>0</td>\n",
       "      <td>f</td>\n",
       "      <td>23 是不是 應該 畢業 了 Emoji</td>\n",
       "      <td>974</td>\n",
       "      <td>25</td>\n",
       "      <td>0.073007</td>\n",
       "      <td>...</td>\n",
       "      <td>1.296548</td>\n",
       "      <td>0.385033</td>\n",
       "      <td>0.324573</td>\n",
       "      <td>-0.428501</td>\n",
       "      <td>0.131169</td>\n",
       "      <td>0.108278</td>\n",
       "      <td>0.891503</td>\n",
       "      <td>-0.321148</td>\n",
       "      <td>-0.036188</td>\n",
       "      <td>0.099926</td>\n",
       "    </tr>\n",
       "  </tbody>\n",
       "</table>\n",
       "<p>5 rows × 109 columns</p>\n",
       "</div>"
      ],
      "text/plain": [
       "                           receiver                            sender  \\\n",
       "0  2fa890630b0a8d66c6fa3f849bc8df36  cd9bf5170bf4d5f44924b146ca66990a   \n",
       "1  2fa890630b0a8d66c6fa3f849bc8df36  cd9bf5170bf4d5f44924b146ca66990a   \n",
       "2  cd9bf5170bf4d5f44924b146ca66990a  2fa890630b0a8d66c6fa3f849bc8df36   \n",
       "3  2fa890630b0a8d66c6fa3f849bc8df36  cd9bf5170bf4d5f44924b146ca66990a   \n",
       "4  cd9bf5170bf4d5f44924b146ca66990a  2fa890630b0a8d66c6fa3f849bc8df36   \n",
       "\n",
       "                  text        time  type sender_gender  \\\n",
       "0                  超熱血  1482674730     0             m   \n",
       "1  我大一追過大二被拉去追 再來就累了哈哈  1482674748     0             m   \n",
       "2          哈哈哈你現在還是學生嗎  1482674796     0             f   \n",
       "3               看起來像嗎~  1482674894     0             m   \n",
       "4          23是不是應該畢業了😂  1482674919     0             f   \n",
       "\n",
       "                        seg_text  time_to_end  number_to_end        v1  \\\n",
       "0                           超 熱血         1163             29 -0.384111   \n",
       "1  我大一 追過 大二 被拉去 追   再來 就 累 了 哈哈         1145             28  0.166754   \n",
       "2              哈哈哈 你 現在 還 是 學生 嗎         1097             27 -0.732348   \n",
       "3                      看起來 像 嗎 ~          999             26 -0.686480   \n",
       "4         23 是不是 應該 畢業 了 Emoji            974             25  0.073007   \n",
       "\n",
       "     ...          v91       v92       v93       v94       v95       v96  \\\n",
       "0    ...    -0.620131 -2.010258  0.578868  2.108860  0.080509  1.939397   \n",
       "1    ...     0.213204 -0.256830 -0.011289 -0.688967 -0.207733  0.305439   \n",
       "2    ...     2.575363 -0.277841  0.561258 -0.243333 -0.280847  0.813071   \n",
       "3    ...     1.226083 -1.667297  2.167985  0.263293  0.226742  0.752650   \n",
       "4    ...     1.296548  0.385033  0.324573 -0.428501  0.131169  0.108278   \n",
       "\n",
       "        v97       v98       v99      v100  \n",
       "0 -0.931447  1.629769 -1.094416  1.727571  \n",
       "1  0.323035 -0.089427 -0.075220 -0.338135  \n",
       "2  1.837095 -1.013224  0.205161  1.326574  \n",
       "3  2.432409  0.200486  0.457095  0.267751  \n",
       "4  0.891503 -0.321148 -0.036188  0.099926  \n",
       "\n",
       "[5 rows x 109 columns]"
      ]
     },
     "execution_count": 210,
     "metadata": {},
     "output_type": "execute_result"
    }
   ],
   "source": [
    "huge_df.head()"
   ]
  },
  {
   "cell_type": "code",
   "execution_count": 207,
   "metadata": {
    "collapsed": false,
    "scrolled": true
   },
   "outputs": [
    {
     "name": "stdout",
     "output_type": "stream",
     "text": [
      "[(0, 0.166754004856), (1, 0.74361856654300007), (2, -0.58624049213999996), (3, -0.24511358219500001), (4, 0.158006097501), (5, -0.61738209240099995), (6, 0.080508412516800007), (7, -0.046822994326599997), (8, 0.0049045910321499995), (9, 0.80816132311399991), (10, -0.52057742389499995), (11, 0.077357927802999993), (12, 0.033097495945799998), (13, -0.15317015163600001), (14, 0.114019262294), (15, -1.22344960396), (16, -0.48620601246799999), (17, -0.11560733243799999), (18, -0.0184087567031), (19, 0.985859900713), (20, 0.34488398954300004), (21, 0.65259150850299996), (22, 0.59494175327299992), (23, -0.13418324633199999), (24, 0.83612358818499999), (25, 0.77140982697400007), (26, -0.41129357991099996), (27, -0.010468840599100001), (28, 1.02357957419), (29, 0.28247641523700001), (30, 0.34372025030299996), (31, -0.10842883090199999), (32, -0.96311250701499995), (33, 0.30250199387499999), (34, -0.18411026212099998), (35, -0.18523673356199999), (36, 0.60052333151299997), (37, -0.91557883005600005), (38, 0.56366242840899994), (39, -0.51920291203199997), (40, -0.46661133039700003), (41, -0.66371057803400002), (42, 0.38517099681), (43, 0.94157176402700005), (44, 0.46691859265199998), (45, 0.48603924208600002), (46, -0.69125073961899997), (47, -0.24974126306699998), (48, -0.030791835548999998), (49, -0.77255825003800005), (50, -0.14527990669000002), (51, -0.62836565201499994), (52, 0.069943073516100004), (53, -0.455793163429), (54, 0.81293832588300008), (55, 0.75712616493300011), (56, 0.11882391478900001), (57, 0.18700958819400001), (58, -0.155016249046), (59, -0.50347782795599993), (60, -0.19895933506400001), (61, -0.25576207538400003), (62, 0.29218783353799999), (63, 0.14895824343), (64, -0.69311800971599991), (65, -0.17012592280900002), (66, 0.59837492244900004), (67, 0.0870617534965), (68, -0.65826507781900001), (69, -0.113841655354), (70, -0.46359125835199999), (71, 0.48663974780399999), (72, 0.138163678969), (73, -0.56750292330999996), (74, -0.24959908581000001), (75, -0.21801407728300001), (76, 0.55858257475000006), (77, -0.49420934915499998), (78, 0.18064384115899998), (79, 0.30797667553000002), (80, -0.053343927487699998), (81, -0.62361659202699993), (82, -0.83270864312800008), (83, -0.64334557453800001), (84, -0.73813625363000002), (85, 0.28487841909099998), (86, -1.03420293828), (87, 0.45217907386100004), (88, -0.49081940700599996), (89, -0.287953244833), (90, 0.21320448505399997), (91, -0.25682975134500002), (92, -0.011288919175700001), (93, -0.68896706526500007), (94, -0.20773323190699999), (95, 0.30543941694000004), (96, 0.32303533889399999), (97, -0.089427173913800007), (98, -0.075220419714800008), (99, -0.33813459550300001)]\n"
     ]
    }
   ],
   "source": [
    "print (gensim.matutils.any2sparse(huge_df.iloc[1,9:109].values)) #transform the dense matrix to 2-tuple format"
   ]
  },
  {
   "cell_type": "code",
   "execution_count": 208,
   "metadata": {
    "collapsed": false,
    "scrolled": true
   },
   "outputs": [
    {
     "name": "stdout",
     "output_type": "stream",
     "text": [
      "0\n",
      "100000\n",
      "200000\n"
     ]
    }
   ],
   "source": [
    "#test_df = huge_df.head(10)\n",
    "row_num = huge_df.shape[0]\n",
    "huge_matrix = []\n",
    "for i in range(row_num):\n",
    "    row_vector =gensim.matutils.any2sparse(huge_df.iloc[i,9:109].values)\n",
    "    huge_matrix.append(row_vector)\n",
    "    if i %100000 ==0:\n",
    "        print (i)"
   ]
  },
  {
   "cell_type": "markdown",
   "metadata": {},
   "source": [
    "### create similarity matrix and store it"
   ]
  },
  {
   "cell_type": "code",
   "execution_count": 211,
   "metadata": {
    "collapsed": false
   },
   "outputs": [],
   "source": [
    "import gensim\n",
    "index = gensim.similarities.MatrixSimilarity(corpus=huge_matrix)\n",
    "index.save('all_chat_vec_v3.index')"
   ]
  },
  {
   "cell_type": "markdown",
   "metadata": {},
   "source": [
    "# main function"
   ]
  },
  {
   "cell_type": "code",
   "execution_count": 212,
   "metadata": {
    "collapsed": false
   },
   "outputs": [],
   "source": [
    "def query_sent(string):\n",
    "    string_list = jieba.lcut(string)\n",
    "    sent_matrix = []\n",
    "    for word in string_list:\n",
    "        try:\n",
    "            wv = model[word]\n",
    "            sent_matrix.append(wv)\n",
    "        except:\n",
    "            sent_matrix.append(np.zeros(100))\n",
    "    q_vector = np.mean(np.array(sent_matrix),axis = 0)\n",
    "    return(q_vector)\n",
    "\n",
    "sims = index[query_sent(\"你住哪裡?\")]\n"
   ]
  },
  {
   "cell_type": "code",
   "execution_count": 213,
   "metadata": {
    "collapsed": false
   },
   "outputs": [
    {
     "name": "stdout",
     "output_type": "stream",
     "text": [
      "剛下班好累\n"
     ]
    },
    {
     "data": {
      "text/plain": [
       "[('剛下班哦', '今天過的好嗎！', 210),\n",
       " ('剛下班嗎！', '對啊', 184),\n",
       " ('不好意思剛下班＊～＊', '不會啦', 171),\n",
       " ('我也剛回家啊！今天忙比較晚囉！（昏', '辛苦了', 142),\n",
       " ('我也剛下班', '辛苦了', 94),\n",
       " ('剛下班 還是...', '還沒睡', 93),\n",
       " ('剛下班', '這麼辛苦～', 89),\n",
       " ('好啊～我剛下班', '你作啥的', 88),\n",
       " ('剛下班', '恩', 78),\n",
       " ('下班都好累', '那要打屁股了', 65)]"
      ]
     },
     "execution_count": 213,
     "metadata": {},
     "output_type": "execute_result"
    }
   ],
   "source": [
    "q_string = input()\n",
    "sims = index[query_sent(q_string)]  #將 query餵入 index 這個 model，他算出 query 與 那些回覆 的相似度\n",
    "np_sort = np.argsort(sims) #照相似度排序\n",
    "sims_top = np_sort[::-1][:50] #取前五十個像的\n",
    "output_tup = []\n",
    "for sim in sims_top:\n",
    "    #找到像的句子後，去找那句的下一個回覆，即是我們要推薦的\n",
    "    try:                                                    \n",
    "        if huge_df.loc[sim,\"sender_gender\"] != huge_df.loc[sim+1,\"sender_gender\"]:  #篩掉連續兩個回覆都同一個人打的句子\n",
    "            output_tup.append((huge_df.loc[sim,\"text\"],huge_df.loc[sim+1,\"text\"], huge_df.loc[sim+1,\"number_to_end\"]))\n",
    "    except:\n",
    "        print(sim)\n",
    "sorted(output_tup , key=lambda item: -item[2])[:10]"
   ]
  },
  {
   "cell_type": "markdown",
   "metadata": {},
   "source": [
    "output格式(sort by number_to_end) : (與query相\n",
    "似的句子 , 其它人的回覆 ,number to end )"
   ]
  },
  {
   "cell_type": "code",
   "execution_count": null,
   "metadata": {
    "collapsed": true
   },
   "outputs": [],
   "source": []
  }
 ],
 "metadata": {
  "kernelspec": {
   "display_name": "Python 3",
   "language": "python",
   "name": "python3"
  },
  "language_info": {
   "codemirror_mode": {
    "name": "ipython",
    "version": 3
   },
   "file_extension": ".py",
   "mimetype": "text/x-python",
   "name": "python",
   "nbconvert_exporter": "python",
   "pygments_lexer": "ipython3",
   "version": "3.4.3"
  }
 },
 "nbformat": 4,
 "nbformat_minor": 2
}
