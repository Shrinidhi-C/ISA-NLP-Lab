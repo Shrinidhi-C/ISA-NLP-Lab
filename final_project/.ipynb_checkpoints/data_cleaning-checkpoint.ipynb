{
 "cells": [
  {
   "cell_type": "code",
   "execution_count": 67,
   "metadata": {
    "collapsed": false
   },
   "outputs": [],
   "source": [
    "from os import listdir\n",
    "import pandas as pd\n",
    "import numpy as np\n",
    "from sklearn.metrics.pairwise import cosine_similarity\n",
    "import jieba.analyse\n",
    "import jieba\n"
   ]
  },
  {
   "cell_type": "code",
   "execution_count": 83,
   "metadata": {
    "collapsed": false
   },
   "outputs": [
    {
     "name": "stdout",
     "output_type": "stream",
     "text": [
      "['C:/Users/tsunh/Desktop/Schoolwork/NLPlab/sr_chat_data/sr_chat_data/chat_0003e590ac9f414a51c1245bc02f17eb.csv', 'C:/Users/tsunh/Desktop/Schoolwork/NLPlab/sr_chat_data/sr_chat_data/chat_000403321513e40db8000af807ec7f96.csv', 'C:/Users/tsunh/Desktop/Schoolwork/NLPlab/sr_chat_data/sr_chat_data/chat_00067296c7b74fec845c2368964f430c.csv']\n",
      "['chat_0003e590ac9f414a51c1245bc02f17eb.csv', 'chat_000403321513e40db8000af807ec7f96.csv', 'chat_00067296c7b74fec845c2368964f430c.csv']\n"
     ]
    }
   ],
   "source": [
    "folder_dir = \"C:/Users/tsunh/Desktop/Schoolwork/NLPlab/sr_chat_data/sr_chat_data\"\n",
    "file_path = [ folder_dir +\"/\"+ path for path in listdir(folder_dir) ]\n",
    "file_name = listdir(folder_dir)\n",
    "print file_path[:3]\n",
    "print file_name[:3]"
   ]
  },
  {
   "cell_type": "code",
   "execution_count": 70,
   "metadata": {
    "collapsed": false
   },
   "outputs": [
    {
     "data": {
      "text/html": [
       "<div>\n",
       "<table border=\"1\" class=\"dataframe\">\n",
       "  <thead>\n",
       "    <tr style=\"text-align: right;\">\n",
       "      <th></th>\n",
       "      <th>receiver</th>\n",
       "      <th>sender</th>\n",
       "      <th>text</th>\n",
       "      <th>time</th>\n",
       "      <th>type</th>\n",
       "      <th>sender_gender</th>\n",
       "    </tr>\n",
       "  </thead>\n",
       "  <tbody>\n",
       "    <tr>\n",
       "      <th>0</th>\n",
       "      <td>0003e590ac9f414a51c1245bc02f17eb</td>\n",
       "      <td>0b39d793a34f41903319898f24737bc8</td>\n",
       "      <td>Hello..妳好...I am Thomas...希望有機會與妳聊聊...更希望彼此是彼此...</td>\n",
       "      <td>1464245603</td>\n",
       "      <td>7</td>\n",
       "      <td>m</td>\n",
       "    </tr>\n",
       "    <tr>\n",
       "      <th>1</th>\n",
       "      <td>0003e590ac9f414a51c1245bc02f17eb</td>\n",
       "      <td>0b39d793a34f41903319898f24737bc8</td>\n",
       "      <td>希望有機會與Sake聊聊</td>\n",
       "      <td>1464245617</td>\n",
       "      <td>0</td>\n",
       "      <td>m</td>\n",
       "    </tr>\n",
       "    <tr>\n",
       "      <th>2</th>\n",
       "      <td>0b39d793a34f41903319898f24737bc8</td>\n",
       "      <td>0003e590ac9f414a51c1245bc02f17eb</td>\n",
       "      <td>嗯嗯 我在上班 下班晚點可以聊聊</td>\n",
       "      <td>1464245695</td>\n",
       "      <td>0</td>\n",
       "      <td>f</td>\n",
       "    </tr>\n",
       "    <tr>\n",
       "      <th>3</th>\n",
       "      <td>0b39d793a34f41903319898f24737bc8</td>\n",
       "      <td>0003e590ac9f414a51c1245bc02f17eb</td>\n",
       "      <td>^_^</td>\n",
       "      <td>1464245696</td>\n",
       "      <td>0</td>\n",
       "      <td>f</td>\n",
       "    </tr>\n",
       "    <tr>\n",
       "      <th>4</th>\n",
       "      <td>0003e590ac9f414a51c1245bc02f17eb</td>\n",
       "      <td>0b39d793a34f41903319898f24737bc8</td>\n",
       "      <td>好的</td>\n",
       "      <td>1464245716</td>\n",
       "      <td>0</td>\n",
       "      <td>m</td>\n",
       "    </tr>\n",
       "  </tbody>\n",
       "</table>\n",
       "</div>"
      ],
      "text/plain": [
       "                           receiver                            sender  \\\n",
       "0  0003e590ac9f414a51c1245bc02f17eb  0b39d793a34f41903319898f24737bc8   \n",
       "1  0003e590ac9f414a51c1245bc02f17eb  0b39d793a34f41903319898f24737bc8   \n",
       "2  0b39d793a34f41903319898f24737bc8  0003e590ac9f414a51c1245bc02f17eb   \n",
       "3  0b39d793a34f41903319898f24737bc8  0003e590ac9f414a51c1245bc02f17eb   \n",
       "4  0003e590ac9f414a51c1245bc02f17eb  0b39d793a34f41903319898f24737bc8   \n",
       "\n",
       "                                                text        time  type  \\\n",
       "0  Hello..妳好...I am Thomas...希望有機會與妳聊聊...更希望彼此是彼此...  1464245603     7   \n",
       "1                                       希望有機會與Sake聊聊  1464245617     0   \n",
       "2                                   嗯嗯 我在上班 下班晚點可以聊聊  1464245695     0   \n",
       "3                                                ^_^  1464245696     0   \n",
       "4                                                 好的  1464245716     0   \n",
       "\n",
       "  sender_gender  \n",
       "0             m  \n",
       "1             m  \n",
       "2             f  \n",
       "3             f  \n",
       "4             m  "
      ]
     },
     "execution_count": 70,
     "metadata": {},
     "output_type": "execute_result"
    }
   ],
   "source": [
    "chat_frame = pd.read_csv(file_path[0])\n",
    "chat_frame.head()"
   ]
  },
  {
   "cell_type": "markdown",
   "metadata": {},
   "source": [
    "### 斷詞"
   ]
  },
  {
   "cell_type": "code",
   "execution_count": 68,
   "metadata": {
    "collapsed": true
   },
   "outputs": [],
   "source": [
    "#customize dictionary\n",
    "jieba.set_dictionary('C:\\\\Python27\\\\Lib\\\\site-packages\\\\jieba\\\\dict.txt.big.txt')\n",
    "jieba.analyse.set_stop_words(\"C:\\\\Python27\\\\Lib\\\\site-packages\\\\jieba\\\\stop_words.txt\")\n",
    "jieba.analyse.set_idf_path(\"C:\\\\Python27\\\\Lib\\\\site-packages\\\\jieba\\\\idf.txt.big.txt\")"
   ]
  },
  {
   "cell_type": "code",
   "execution_count": 76,
   "metadata": {
    "collapsed": false
   },
   "outputs": [
    {
     "name": "stderr",
     "output_type": "stream",
     "text": [
      "Building prefix dict from C:\\Python27\\Lib\\site-packages\\jieba\\dict.txt.big.txt ...\n",
      "Loading model from cache c:\\users\\tsunh\\appdata\\local\\temp\\jieba.u7ecb02fee068d7d39e5500de2047abc1.cache\n",
      "Loading model cost 0.740 seconds.\n",
      "Prefix dict has been built succesfully.\n"
     ]
    }
   ],
   "source": [
    "for i in range(chat_frame.shape[0]):\n",
    "    text = chat_frame.loc[i,\"text\"]\n",
    "    chat_frame.loc[i,\"seg_text\"] = \" \".join(jieba.cut(text))"
   ]
  },
  {
   "cell_type": "code",
   "execution_count": 79,
   "metadata": {
    "collapsed": false
   },
   "outputs": [
    {
     "name": "stdout",
     "output_type": "stream",
     "text": [
      "希望 有 機會 與 Sake 聊聊\n"
     ]
    }
   ],
   "source": [
    "print chat_frame[\"seg_text\"][1]"
   ]
  },
  {
   "cell_type": "markdown",
   "metadata": {},
   "source": [
    "### batch word segment and save it"
   ]
  },
  {
   "cell_type": "code",
   "execution_count": 86,
   "metadata": {
    "collapsed": false
   },
   "outputs": [
    {
     "ename": "AttributeError",
     "evalue": "'float' object has no attribute 'decode'",
     "output_type": "error",
     "traceback": [
      "\u001b[1;31m---------------------------------------------------------------------------\u001b[0m",
      "\u001b[1;31mAttributeError\u001b[0m                            Traceback (most recent call last)",
      "\u001b[1;32m<ipython-input-86-bff513a72e17>\u001b[0m in \u001b[0;36m<module>\u001b[1;34m()\u001b[0m\n\u001b[0;32m      3\u001b[0m     \u001b[1;32mfor\u001b[0m \u001b[0mrow\u001b[0m \u001b[1;32min\u001b[0m \u001b[0mrange\u001b[0m\u001b[1;33m(\u001b[0m\u001b[0mchat_frame\u001b[0m\u001b[1;33m.\u001b[0m\u001b[0mshape\u001b[0m\u001b[1;33m[\u001b[0m\u001b[1;36m0\u001b[0m\u001b[1;33m]\u001b[0m\u001b[1;33m)\u001b[0m\u001b[1;33m:\u001b[0m\u001b[1;33m\u001b[0m\u001b[0m\n\u001b[0;32m      4\u001b[0m         \u001b[0mtext\u001b[0m \u001b[1;33m=\u001b[0m \u001b[0mchat_frame\u001b[0m\u001b[1;33m.\u001b[0m\u001b[0mloc\u001b[0m\u001b[1;33m[\u001b[0m\u001b[0mrow\u001b[0m\u001b[1;33m,\u001b[0m\u001b[1;34m\"text\"\u001b[0m\u001b[1;33m]\u001b[0m\u001b[1;33m\u001b[0m\u001b[0m\n\u001b[1;32m----> 5\u001b[1;33m         \u001b[0mchat_frame\u001b[0m\u001b[1;33m.\u001b[0m\u001b[0mloc\u001b[0m\u001b[1;33m[\u001b[0m\u001b[0mrow\u001b[0m\u001b[1;33m,\u001b[0m\u001b[1;34m\"seg_text\"\u001b[0m\u001b[1;33m]\u001b[0m \u001b[1;33m=\u001b[0m \u001b[1;34m\" \"\u001b[0m\u001b[1;33m.\u001b[0m\u001b[0mjoin\u001b[0m\u001b[1;33m(\u001b[0m\u001b[0mjieba\u001b[0m\u001b[1;33m.\u001b[0m\u001b[0mcut\u001b[0m\u001b[1;33m(\u001b[0m\u001b[0mtext\u001b[0m\u001b[1;33m)\u001b[0m\u001b[1;33m)\u001b[0m\u001b[1;33m\u001b[0m\u001b[0m\n\u001b[0m\u001b[0;32m      6\u001b[0m     chat_frame.to_csv(\"C:/Users/tsunh/Desktop/Schoolwork/NLPlab/sr_chat_data/sr_chat_data_seg/\"+name,\n\u001b[0;32m      7\u001b[0m                       \u001b[0mindex\u001b[0m \u001b[1;33m=\u001b[0m \u001b[0mFalse\u001b[0m\u001b[1;33m,\u001b[0m\u001b[1;33m\u001b[0m\u001b[0m\n",
      "\u001b[1;32mc:\\python27\\lib\\site-packages\\jieba\\__init__.pyc\u001b[0m in \u001b[0;36mcut\u001b[1;34m(self, sentence, cut_all, HMM)\u001b[0m\n\u001b[0;32m    280\u001b[0m             \u001b[1;33m-\u001b[0m \u001b[0mHMM\u001b[0m\u001b[1;33m:\u001b[0m \u001b[0mWhether\u001b[0m \u001b[0mto\u001b[0m \u001b[0muse\u001b[0m \u001b[0mthe\u001b[0m \u001b[0mHidden\u001b[0m \u001b[0mMarkov\u001b[0m \u001b[0mModel\u001b[0m\u001b[1;33m.\u001b[0m\u001b[1;33m\u001b[0m\u001b[0m\n\u001b[0;32m    281\u001b[0m         '''\n\u001b[1;32m--> 282\u001b[1;33m         \u001b[0msentence\u001b[0m \u001b[1;33m=\u001b[0m \u001b[0mstrdecode\u001b[0m\u001b[1;33m(\u001b[0m\u001b[0msentence\u001b[0m\u001b[1;33m)\u001b[0m\u001b[1;33m\u001b[0m\u001b[0m\n\u001b[0m\u001b[0;32m    283\u001b[0m \u001b[1;33m\u001b[0m\u001b[0m\n\u001b[0;32m    284\u001b[0m         \u001b[1;32mif\u001b[0m \u001b[0mcut_all\u001b[0m\u001b[1;33m:\u001b[0m\u001b[1;33m\u001b[0m\u001b[0m\n",
      "\u001b[1;32mc:\\python27\\lib\\site-packages\\jieba\\_compat.pyc\u001b[0m in \u001b[0;36mstrdecode\u001b[1;34m(sentence)\u001b[0m\n\u001b[0;32m     35\u001b[0m     \u001b[1;32mif\u001b[0m \u001b[1;32mnot\u001b[0m \u001b[0misinstance\u001b[0m\u001b[1;33m(\u001b[0m\u001b[0msentence\u001b[0m\u001b[1;33m,\u001b[0m \u001b[0mtext_type\u001b[0m\u001b[1;33m)\u001b[0m\u001b[1;33m:\u001b[0m\u001b[1;33m\u001b[0m\u001b[0m\n\u001b[0;32m     36\u001b[0m         \u001b[1;32mtry\u001b[0m\u001b[1;33m:\u001b[0m\u001b[1;33m\u001b[0m\u001b[0m\n\u001b[1;32m---> 37\u001b[1;33m             \u001b[0msentence\u001b[0m \u001b[1;33m=\u001b[0m \u001b[0msentence\u001b[0m\u001b[1;33m.\u001b[0m\u001b[0mdecode\u001b[0m\u001b[1;33m(\u001b[0m\u001b[1;34m'utf-8'\u001b[0m\u001b[1;33m)\u001b[0m\u001b[1;33m\u001b[0m\u001b[0m\n\u001b[0m\u001b[0;32m     38\u001b[0m         \u001b[1;32mexcept\u001b[0m \u001b[0mUnicodeDecodeError\u001b[0m\u001b[1;33m:\u001b[0m\u001b[1;33m\u001b[0m\u001b[0m\n\u001b[0;32m     39\u001b[0m             \u001b[0msentence\u001b[0m \u001b[1;33m=\u001b[0m \u001b[0msentence\u001b[0m\u001b[1;33m.\u001b[0m\u001b[0mdecode\u001b[0m\u001b[1;33m(\u001b[0m\u001b[1;34m'gbk'\u001b[0m\u001b[1;33m,\u001b[0m \u001b[1;34m'ignore'\u001b[0m\u001b[1;33m)\u001b[0m\u001b[1;33m\u001b[0m\u001b[0m\n",
      "\u001b[1;31mAttributeError\u001b[0m: 'float' object has no attribute 'decode'"
     ]
    }
   ],
   "source": [
    "for path, name in zip(file_path,file_name):\n",
    "    chat_frame = pd.read_csv(path)\n",
    "    for row in range(chat_frame.shape[0]):\n",
    "        text = chat_frame.loc[row,\"text\"]\n",
    "        try:\n",
    "            chat_frame.loc[row,\"seg_text\"] = \" \".join(jieba.cut(text))\n",
    "        except:\n",
    "            chat_frame.loc[row,\"seg_text\"] = \" \"\n",
    "    chat_frame.to_csv(\"C:/Users/tsunh/Desktop/Schoolwork/NLPlab/sr_chat_data/sr_chat_data_seg/\"+name,\n",
    "                      index = False,\n",
    "                     encoding=\"utf8\")"
   ]
  },
  {
   "cell_type": "code",
   "execution_count": 14,
   "metadata": {
    "collapsed": false
   },
   "outputs": [],
   "source": [
    "#load chinese word2vec model\n",
    "word2vec = pd.read_csv(\"c:/Users/tsunh/Desktop/Schoolwork/NLPlab/wiki_wordvector_utf8.csv\",index_col = 0)"
   ]
  },
  {
   "cell_type": "code",
   "execution_count": 15,
   "metadata": {
    "collapsed": false
   },
   "outputs": [
    {
     "data": {
      "text/html": [
       "<div>\n",
       "<table border=\"1\" class=\"dataframe\">\n",
       "  <thead>\n",
       "    <tr style=\"text-align: right;\">\n",
       "      <th></th>\n",
       "      <th>V1</th>\n",
       "      <th>V2</th>\n",
       "      <th>V3</th>\n",
       "      <th>V4</th>\n",
       "      <th>V5</th>\n",
       "      <th>V6</th>\n",
       "      <th>V7</th>\n",
       "      <th>V8</th>\n",
       "      <th>V9</th>\n",
       "      <th>V10</th>\n",
       "      <th>...</th>\n",
       "      <th>V91</th>\n",
       "      <th>V92</th>\n",
       "      <th>V93</th>\n",
       "      <th>V94</th>\n",
       "      <th>V95</th>\n",
       "      <th>V96</th>\n",
       "      <th>V97</th>\n",
       "      <th>V98</th>\n",
       "      <th>V99</th>\n",
       "      <th>V100</th>\n",
       "    </tr>\n",
       "  </thead>\n",
       "  <tbody>\n",
       "    <tr>\n",
       "      <th>gobies</th>\n",
       "      <td>-0.640565</td>\n",
       "      <td>0.033635</td>\n",
       "      <td>0.413354</td>\n",
       "      <td>0.001317</td>\n",
       "      <td>0.401215</td>\n",
       "      <td>-0.072820</td>\n",
       "      <td>-0.295357</td>\n",
       "      <td>1.005226</td>\n",
       "      <td>-0.186935</td>\n",
       "      <td>0.215594</td>\n",
       "      <td>...</td>\n",
       "      <td>0.196001</td>\n",
       "      <td>-0.294534</td>\n",
       "      <td>-0.734109</td>\n",
       "      <td>0.079843</td>\n",
       "      <td>0.706463</td>\n",
       "      <td>-0.475461</td>\n",
       "      <td>-0.280217</td>\n",
       "      <td>-0.067575</td>\n",
       "      <td>-0.103508</td>\n",
       "      <td>0.071767</td>\n",
       "    </tr>\n",
       "    <tr>\n",
       "      <th>Gorsuch</th>\n",
       "      <td>-0.267785</td>\n",
       "      <td>0.249702</td>\n",
       "      <td>-0.087891</td>\n",
       "      <td>-0.568892</td>\n",
       "      <td>0.344263</td>\n",
       "      <td>-0.252007</td>\n",
       "      <td>-0.730565</td>\n",
       "      <td>0.439203</td>\n",
       "      <td>0.282937</td>\n",
       "      <td>-0.585860</td>\n",
       "      <td>...</td>\n",
       "      <td>0.949666</td>\n",
       "      <td>-0.311173</td>\n",
       "      <td>-0.281239</td>\n",
       "      <td>0.430901</td>\n",
       "      <td>0.382697</td>\n",
       "      <td>-0.381894</td>\n",
       "      <td>0.151197</td>\n",
       "      <td>0.962285</td>\n",
       "      <td>-0.618023</td>\n",
       "      <td>0.688148</td>\n",
       "    </tr>\n",
       "    <tr>\n",
       "      <th>由奧恰</th>\n",
       "      <td>0.010707</td>\n",
       "      <td>0.175031</td>\n",
       "      <td>-0.574771</td>\n",
       "      <td>0.530207</td>\n",
       "      <td>0.146367</td>\n",
       "      <td>-0.002879</td>\n",
       "      <td>-0.008207</td>\n",
       "      <td>-0.573806</td>\n",
       "      <td>0.449668</td>\n",
       "      <td>0.985068</td>\n",
       "      <td>...</td>\n",
       "      <td>0.393548</td>\n",
       "      <td>-0.425076</td>\n",
       "      <td>0.473486</td>\n",
       "      <td>-0.124235</td>\n",
       "      <td>0.068624</td>\n",
       "      <td>0.631609</td>\n",
       "      <td>0.641269</td>\n",
       "      <td>-0.575997</td>\n",
       "      <td>-0.397369</td>\n",
       "      <td>-0.693963</td>\n",
       "    </tr>\n",
       "    <tr>\n",
       "      <th>朝義著</th>\n",
       "      <td>-0.425897</td>\n",
       "      <td>-0.019429</td>\n",
       "      <td>-0.340932</td>\n",
       "      <td>0.088261</td>\n",
       "      <td>-0.585137</td>\n",
       "      <td>-0.280552</td>\n",
       "      <td>0.031831</td>\n",
       "      <td>-0.265396</td>\n",
       "      <td>-0.211374</td>\n",
       "      <td>-0.132702</td>\n",
       "      <td>...</td>\n",
       "      <td>-0.059611</td>\n",
       "      <td>-0.648249</td>\n",
       "      <td>-0.707557</td>\n",
       "      <td>0.224414</td>\n",
       "      <td>0.688562</td>\n",
       "      <td>0.134534</td>\n",
       "      <td>-0.808125</td>\n",
       "      <td>0.879801</td>\n",
       "      <td>-0.356066</td>\n",
       "      <td>0.401297</td>\n",
       "    </tr>\n",
       "    <tr>\n",
       "      <th>calabai</th>\n",
       "      <td>0.295467</td>\n",
       "      <td>-0.605804</td>\n",
       "      <td>0.100886</td>\n",
       "      <td>0.134296</td>\n",
       "      <td>-0.275335</td>\n",
       "      <td>-0.487929</td>\n",
       "      <td>-0.092787</td>\n",
       "      <td>-0.483964</td>\n",
       "      <td>-0.285548</td>\n",
       "      <td>-0.504646</td>\n",
       "      <td>...</td>\n",
       "      <td>0.853770</td>\n",
       "      <td>0.038695</td>\n",
       "      <td>0.309583</td>\n",
       "      <td>0.751271</td>\n",
       "      <td>-0.084114</td>\n",
       "      <td>-0.082777</td>\n",
       "      <td>0.148701</td>\n",
       "      <td>0.175883</td>\n",
       "      <td>0.858911</td>\n",
       "      <td>-0.589927</td>\n",
       "    </tr>\n",
       "  </tbody>\n",
       "</table>\n",
       "<p>5 rows × 100 columns</p>\n",
       "</div>"
      ],
      "text/plain": [
       "               V1        V2        V3        V4        V5        V6        V7  \\\n",
       "gobies  -0.640565  0.033635  0.413354  0.001317  0.401215 -0.072820 -0.295357   \n",
       "Gorsuch -0.267785  0.249702 -0.087891 -0.568892  0.344263 -0.252007 -0.730565   \n",
       "由奧恰      0.010707  0.175031 -0.574771  0.530207  0.146367 -0.002879 -0.008207   \n",
       "朝義著     -0.425897 -0.019429 -0.340932  0.088261 -0.585137 -0.280552  0.031831   \n",
       "calabai  0.295467 -0.605804  0.100886  0.134296 -0.275335 -0.487929 -0.092787   \n",
       "\n",
       "               V8        V9       V10    ...          V91       V92       V93  \\\n",
       "gobies   1.005226 -0.186935  0.215594    ...     0.196001 -0.294534 -0.734109   \n",
       "Gorsuch  0.439203  0.282937 -0.585860    ...     0.949666 -0.311173 -0.281239   \n",
       "由奧恰     -0.573806  0.449668  0.985068    ...     0.393548 -0.425076  0.473486   \n",
       "朝義著     -0.265396 -0.211374 -0.132702    ...    -0.059611 -0.648249 -0.707557   \n",
       "calabai -0.483964 -0.285548 -0.504646    ...     0.853770  0.038695  0.309583   \n",
       "\n",
       "              V94       V95       V96       V97       V98       V99      V100  \n",
       "gobies   0.079843  0.706463 -0.475461 -0.280217 -0.067575 -0.103508  0.071767  \n",
       "Gorsuch  0.430901  0.382697 -0.381894  0.151197  0.962285 -0.618023  0.688148  \n",
       "由奧恰     -0.124235  0.068624  0.631609  0.641269 -0.575997 -0.397369 -0.693963  \n",
       "朝義著      0.224414  0.688562  0.134534 -0.808125  0.879801 -0.356066  0.401297  \n",
       "calabai  0.751271 -0.084114 -0.082777  0.148701  0.175883  0.858911 -0.589927  \n",
       "\n",
       "[5 rows x 100 columns]"
      ]
     },
     "execution_count": 15,
     "metadata": {},
     "output_type": "execute_result"
    }
   ],
   "source": [
    "word2vec.head()"
   ]
  },
  {
   "cell_type": "code",
   "execution_count": 16,
   "metadata": {
    "collapsed": false
   },
   "outputs": [
    {
     "data": {
      "text/plain": [
       "(268569, 100)"
      ]
     },
     "execution_count": 16,
     "metadata": {},
     "output_type": "execute_result"
    }
   ],
   "source": [
    "word2vec.shape"
   ]
  },
  {
   "cell_type": "code",
   "execution_count": 80,
   "metadata": {
    "collapsed": false
   },
   "outputs": [
    {
     "name": "stdout",
     "output_type": "stream",
     "text": [
      "[[-0.23036394]]\n",
      "[[ 0.52460531]]\n",
      "[[ 0.67427972]]\n"
     ]
    }
   ],
   "source": [
    "def vector_sim(x,y):\n",
    "    return cosine_similarity(np.array(x).reshape(1,-1),np.array(y).reshape(1,-1))\n",
    "print vector_sim(word2vec.loc[\"新竹\"],word2vec.loc[\"桃園\"])\n",
    "print vector_sim(word2vec.loc[\"雲林\"],word2vec.loc[\"桃園\"])\n",
    "print vector_sim(word2vec.loc[\"雲林\"],word2vec.loc[\"嘉義\"])"
   ]
  },
  {
   "cell_type": "code",
   "execution_count": null,
   "metadata": {
    "collapsed": true
   },
   "outputs": [],
   "source": [
    "#document repreented by word2vec average (median) "
   ]
  }
 ],
 "metadata": {
  "kernelspec": {
   "display_name": "Python 2",
   "language": "python",
   "name": "python2"
  },
  "language_info": {
   "codemirror_mode": {
    "name": "ipython",
    "version": 2
   },
   "file_extension": ".py",
   "mimetype": "text/x-python",
   "name": "python",
   "nbconvert_exporter": "python",
   "pygments_lexer": "ipython2",
   "version": "2.7.11"
  }
 },
 "nbformat": 4,
 "nbformat_minor": 0
}
