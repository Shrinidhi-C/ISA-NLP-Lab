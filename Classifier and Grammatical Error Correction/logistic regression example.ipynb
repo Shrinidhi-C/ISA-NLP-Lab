{
 "cells": [
  {
   "cell_type": "code",
   "execution_count": 1,
   "metadata": {
    "collapsed": false,
    "deletable": true,
    "editable": true,
    "scrolled": true
   },
   "outputs": [],
   "source": [
    "from __future__ import division\n",
    "import nltk\n",
    "import random\n",
    "import string"
   ]
  },
  {
   "cell_type": "code",
   "execution_count": 2,
   "metadata": {
    "collapsed": true
   },
   "outputs": [],
   "source": [
    "names_with_gender = ([(name.lower(), 'male') for name in nltk.corpus.names.words('male.txt')] \n",
    "         + [(name.lower(), 'female') for name in nltk.corpus.names.words('female.txt')])\n",
    "random.shuffle(names_with_gender)"
   ]
  },
  {
   "cell_type": "code",
   "execution_count": 3,
   "metadata": {
    "collapsed": false,
    "deletable": true,
    "editable": true,
    "scrolled": true
   },
   "outputs": [
    {
     "data": {
      "text/plain": [
       "{'a': False,\n",
       " 'b': False,\n",
       " 'c': True,\n",
       " 'count(a)': 0,\n",
       " 'count(b)': 0,\n",
       " 'count(c)': 1,\n",
       " 'count(d)': 0,\n",
       " 'count(e)': 0,\n",
       " 'count(f)': 0,\n",
       " 'count(g)': 0,\n",
       " 'count(h)': 0,\n",
       " 'count(i)': 0,\n",
       " 'count(j)': 2,\n",
       " 'count(k)': 0,\n",
       " 'count(l)': 0,\n",
       " 'count(m)': 0,\n",
       " 'count(n)': 0,\n",
       " 'count(o)': 0,\n",
       " 'count(p)': 0,\n",
       " 'count(q)': 0,\n",
       " 'count(r)': 0,\n",
       " 'count(s)': 0,\n",
       " 'count(t)': 0,\n",
       " 'count(u)': 0,\n",
       " 'count(v)': 0,\n",
       " 'count(w)': 0,\n",
       " 'count(x)': 0,\n",
       " 'count(y)': 0,\n",
       " 'count(z)': 0,\n",
       " 'd': False,\n",
       " 'e': False,\n",
       " 'endswith': 'c',\n",
       " 'f': False,\n",
       " 'g': False,\n",
       " 'h': False,\n",
       " 'i': False,\n",
       " 'j': True,\n",
       " 'k': False,\n",
       " 'l': False,\n",
       " 'm': False,\n",
       " 'n': False,\n",
       " 'o': False,\n",
       " 'p': False,\n",
       " 'q': False,\n",
       " 'r': False,\n",
       " 's': False,\n",
       " 'startswith': 'j',\n",
       " 't': False,\n",
       " 'u': False,\n",
       " 'v': False,\n",
       " 'w': False,\n",
       " 'x': False,\n",
       " 'y': False,\n",
       " 'z': False}"
      ]
     },
     "execution_count": 3,
     "metadata": {},
     "output_type": "execute_result"
    }
   ],
   "source": [
    "def gender_features(word):\n",
    "    word = word.lower()\n",
    "    features = {char: char in word for char in string.ascii_lowercase}\n",
    "    features.update({'count({})'.format(char): word.count(char) for char in string.ascii_lowercase})\n",
    "    features.update({'startswith': word[0], 'endswith': word[-1]})\n",
    "    return features\n",
    "gender_features('JJC')"
   ]
  },
  {
   "cell_type": "code",
   "execution_count": 4,
   "metadata": {
    "collapsed": false,
    "deletable": true,
    "editable": true
   },
   "outputs": [],
   "source": [
    "featuresets = [(gender_features(name), gender) for name, gender in names_with_gender]\n",
    "split_point = len(featuresets)*9//10\n",
    "train_set, test_set = featuresets[:split_point], featuresets[split_point:]"
   ]
  },
  {
   "cell_type": "code",
   "execution_count": 5,
   "metadata": {
    "collapsed": false,
    "deletable": true,
    "editable": true
   },
   "outputs": [
    {
     "name": "stdout",
     "output_type": "stream",
     "text": [
      "Wall time: 432 ms\n"
     ]
    }
   ],
   "source": [
    "from nltk.classify import SklearnClassifier \n",
    "from sklearn.linear_model import LogisticRegression\n",
    "%time sklearn_classifier = SklearnClassifier(LogisticRegression()).train(train_set)"
   ]
  },
  {
   "cell_type": "code",
   "execution_count": 6,
   "metadata": {
    "collapsed": false,
    "deletable": true,
    "editable": true,
    "scrolled": true
   },
   "outputs": [
    {
     "name": "stdout",
     "output_type": "stream",
     "text": [
      "  ==> Training (100 iterations)\n",
      "\n",
      "      Iteration    Log Likelihood    Accuracy\n",
      "      ---------------------------------------\n",
      "             1          -0.69315        0.371\n",
      "             2          -0.61363        0.629\n",
      "             3          -0.59874        0.629\n",
      "             4          -0.58566        0.630\n",
      "             5          -0.57337        0.637\n",
      "             6          -0.56182        0.652\n",
      "             7          -0.55096        0.670\n",
      "             8          -0.54077        0.686\n",
      "             9          -0.53120        0.704\n",
      "            10          -0.52221        0.714\n",
      "            11          -0.51376        0.723\n",
      "            12          -0.50582        0.734\n",
      "            13          -0.49834        0.742\n",
      "            14          -0.49130        0.749\n",
      "            15          -0.48466        0.753\n",
      "            16          -0.47839        0.757\n",
      "            17          -0.47246        0.760\n",
      "            18          -0.46686        0.765\n",
      "            19          -0.46155        0.766\n",
      "            20          -0.45653        0.769\n",
      "            21          -0.45175        0.770\n",
      "            22          -0.44722        0.771\n",
      "            23          -0.44292        0.775\n",
      "            24          -0.43882        0.776\n",
      "            25          -0.43491        0.778\n",
      "            26          -0.43119        0.779\n",
      "            27          -0.42764        0.781\n",
      "            28          -0.42425        0.782\n",
      "            29          -0.42101        0.784\n",
      "            30          -0.41791        0.785\n",
      "            31          -0.41494        0.786\n",
      "            32          -0.41210        0.786\n",
      "            33          -0.40938        0.787\n",
      "            34          -0.40676        0.788\n",
      "            35          -0.40426        0.788\n",
      "            36          -0.40185        0.788\n",
      "            37          -0.39953        0.789\n",
      "            38          -0.39731        0.790\n",
      "            39          -0.39517        0.791\n",
      "            40          -0.39310        0.792\n",
      "            41          -0.39112        0.792\n",
      "            42          -0.38920        0.792\n",
      "            43          -0.38736        0.792\n",
      "            44          -0.38558        0.793\n",
      "            45          -0.38386        0.793\n",
      "            46          -0.38220        0.793\n",
      "            47          -0.38060        0.793\n",
      "            48          -0.37905        0.794\n",
      "            49          -0.37755        0.794\n",
      "            50          -0.37610        0.795\n",
      "            51          -0.37470        0.795\n",
      "            52          -0.37334        0.795\n",
      "            53          -0.37202        0.796\n",
      "            54          -0.37075        0.796\n",
      "            55          -0.36951        0.797\n",
      "            56          -0.36831        0.797\n",
      "            57          -0.36715        0.798\n",
      "            58          -0.36602        0.799\n",
      "            59          -0.36493        0.799\n",
      "            60          -0.36387        0.799\n",
      "            61          -0.36284        0.799\n",
      "            62          -0.36183        0.800\n",
      "            63          -0.36086        0.800\n",
      "            64          -0.35991        0.800\n",
      "            65          -0.35899        0.800\n",
      "            66          -0.35809        0.800\n",
      "            67          -0.35722        0.800\n",
      "            68          -0.35637        0.801\n",
      "            69          -0.35555        0.801\n",
      "            70          -0.35474        0.801\n",
      "            71          -0.35396        0.801\n",
      "            72          -0.35320        0.801\n",
      "            73          -0.35245        0.802\n",
      "            74          -0.35173        0.802\n",
      "            75          -0.35102        0.802\n",
      "            76          -0.35033        0.802\n",
      "            77          -0.34966        0.802\n",
      "            78          -0.34900        0.802\n",
      "            79          -0.34836        0.802\n",
      "            80          -0.34774        0.802\n",
      "            81          -0.34713        0.802\n",
      "            82          -0.34653        0.802\n",
      "            83          -0.34595        0.802\n",
      "            84          -0.34538        0.803\n",
      "            85          -0.34482        0.803\n",
      "            86          -0.34428        0.803\n",
      "            87          -0.34375        0.802\n",
      "            88          -0.34323        0.803\n",
      "            89          -0.34272        0.803\n",
      "            90          -0.34222        0.802\n",
      "            91          -0.34174        0.802\n",
      "            92          -0.34126        0.802\n",
      "            93          -0.34080        0.802\n",
      "            94          -0.34034        0.802\n",
      "            95          -0.33990        0.802\n",
      "            96          -0.33946        0.802\n",
      "            97          -0.33903        0.802\n",
      "            98          -0.33862        0.802\n",
      "            99          -0.33821        0.802\n",
      "         Final          -0.33780        0.802\n",
      "Wall time: 7min\n"
     ]
    }
   ],
   "source": [
    "from nltk.classify import MaxentClassifier\n",
    "%time nltk_classifier = MaxentClassifier.train(train_set, nltk.classify.MaxentClassifier.ALGORITHMS[0])"
   ]
  },
  {
   "cell_type": "code",
   "execution_count": 56,
   "metadata": {
    "collapsed": false,
    "deletable": true,
    "editable": true
   },
   "outputs": [
    {
     "name": "stdout",
     "output_type": "stream",
     "text": [
      "== SkLearn MaxEnt ==\n",
      "male\n",
      "0.8075471698113208\n",
      "\n",
      "== NLTK MaxEnt ==\n",
      "male\n",
      "0.8062893081761007\n",
      "  -4.134 endswith=='a' and label is 'male'\n",
      "  -2.901 endswith=='k' and label is 'female'\n",
      "  -2.878 endswith=='p' and label is 'female'\n",
      "  -2.502 count(v)==2 and label is 'male'\n",
      "   2.310 count(j)==2 and label is 'female'\n",
      "  -2.159 endswith=='f' and label is 'female'\n",
      "  -1.929 endswith=='v' and label is 'female'\n",
      "  -1.469 endswith=='d' and label is 'female'\n",
      "  -1.431 endswith=='i' and label is 'male'\n",
      "   1.396 endswith=='c' and label is 'male'\n",
      "None\n"
     ]
    }
   ],
   "source": [
    "print('== SkLearn MaxEnt ==')\n",
    "print(sklearn_classifier.classify(gender_features('mark')))\n",
    "print(nltk.classify.accuracy(sklearn_classifier, test_set))\n",
    "print()\n",
    "print('== NLTK MaxEnt ==')\n",
    "print(nltk_classifier.classify(gender_features('mark')))\n",
    "print(nltk.classify.accuracy(nltk_classifier, test_set))\n",
    "print(nltk_classifier.show_most_informative_features(10))\n"
   ]
  },
  {
   "cell_type": "code",
   "execution_count": 50,
   "metadata": {
    "collapsed": false,
    "deletable": true,
    "editable": true
   },
   "outputs": [
    {
     "data": {
      "text/plain": [
       "'female'"
      ]
     },
     "execution_count": 50,
     "metadata": {},
     "output_type": "execute_result"
    }
   ],
   "source": [
    "sklearn_classifier.classify(gender_features('JhihJie'))"
   ]
  },
  {
   "cell_type": "code",
   "execution_count": null,
   "metadata": {
    "collapsed": true
   },
   "outputs": [],
   "source": []
  }
 ],
 "metadata": {
  "kernelspec": {
   "display_name": "Python 2",
   "language": "python",
   "name": "python2"
  },
  "language_info": {
   "codemirror_mode": {
    "name": "ipython",
    "version": 2
   },
   "file_extension": ".py",
   "mimetype": "text/x-python",
   "name": "python",
   "nbconvert_exporter": "python",
   "pygments_lexer": "ipython2",
   "version": "2.7.11"
  }
 },
 "nbformat": 4,
 "nbformat_minor": 0
}
