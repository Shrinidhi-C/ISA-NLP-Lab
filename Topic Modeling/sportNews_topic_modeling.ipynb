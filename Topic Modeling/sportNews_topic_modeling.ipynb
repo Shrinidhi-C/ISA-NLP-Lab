{
 "cells": [
  {
   "cell_type": "code",
   "execution_count": 1,
   "metadata": {
    "collapsed": true
   },
   "outputs": [],
   "source": [
    "from gensim.models import Word2Vec\n",
    "from gensim.models.word2vec import LineSentence\n",
    "from gensim import corpora, models, similarities, matutils"
   ]
  },
  {
   "cell_type": "code",
   "execution_count": 10,
   "metadata": {
    "collapsed": false
   },
   "outputs": [],
   "source": [
    "#load data\n",
    "file_folder = 'C:/Users/tsunh/Desktop/Schoolwork/NLPlab/ISA-NLP-Lab/Topic Modeling/sports_news/sports'"
   ]
  },
  {
   "cell_type": "code",
   "execution_count": 14,
   "metadata": {
    "collapsed": false
   },
   "outputs": [],
   "source": [
    "from os import listdir\n",
    "from os.path import isfile, join\n",
    "onlyfiles = [join(file_folder, f) for f in listdir(file_folder) if isfile(join(file_folder, f))]"
   ]
  },
  {
   "cell_type": "code",
   "execution_count": 23,
   "metadata": {
    "collapsed": false
   },
   "outputs": [],
   "source": [
    "doc_list = []\n",
    "for i in onlyfiles:\n",
    "    f = open(i)\n",
    "    text = f.read()\n",
    "    doc_list.append(text)"
   ]
  },
  {
   "cell_type": "code",
   "execution_count": 35,
   "metadata": {
    "collapsed": false
   },
   "outputs": [
    {
     "name": "stdout",
     "output_type": "stream",
     "text": [
      "綠委:問題不在球衣出在單項協會的運作原視2017年5月2日【綜合報導】2017-05-02世界羽球球后戴資穎亞錦賽摘金，但球衣不合身，讓她打得很辛苦。日前體育署公布體育單項協會訪評結果，羽球...完整新聞報導\n"
     ]
    }
   ],
   "source": [
    "print doc_list[1].replace(\"\\t\",\"\").replace(\"\\n\",\"\").replace(\"\\t\\n\",\"\").replace(\" \",\"\")"
   ]
  },
  {
   "cell_type": "code",
   "execution_count": 36,
   "metadata": {
    "collapsed": true
   },
   "outputs": [],
   "source": [
    "import jieba.analyse\n",
    "import jieba\n",
    "jieba.set_dictionary('C:\\\\Python27\\\\Lib\\\\site-packages\\\\jieba\\\\dict.txt.big.txt')\n",
    "jieba.analyse.set_stop_words(\"C:\\\\Python27\\\\Lib\\\\site-packages\\\\jieba\\\\stop_words.txt\")\n",
    "jieba.analyse.set_idf_path(\"C:\\\\Python27\\\\Lib\\\\site-packages\\\\jieba\\\\idf.txt.big.txt\")\n"
   ]
  },
  {
   "cell_type": "code",
   "execution_count": 39,
   "metadata": {
    "collapsed": false
   },
   "outputs": [],
   "source": [
    "doc_seg_list = []\n",
    "for doc in doc_list:\n",
    "    word_list = jieba.lcut(doc.replace(\"\\t\",\"\").replace(\"\\n\",\"\").replace(\"\\t\\n\",\"\").replace(\" \",\"\"))\n",
    "    doc_seg_list.append(word_list)"
   ]
  },
  {
   "cell_type": "code",
   "execution_count": 43,
   "metadata": {
    "collapsed": false
   },
   "outputs": [],
   "source": [
    "texts = [[ k for k in i] for i in doc_seg_list]\n",
    "\n",
    "dictionary = corpora.Dictionary(texts)\n",
    "# print (dictionary)\n",
    "# print (dictionary.token2id)\n",
    "corpus = [dictionary.doc2bow(text) for text in texts]\n",
    "# print (corpus)\n",
    "tfidf = models.TfidfModel(corpus)\n",
    "corpus_tfidf = tfidf[corpus]"
   ]
  },
  {
   "cell_type": "code",
   "execution_count": 45,
   "metadata": {
    "collapsed": false
   },
   "outputs": [],
   "source": [
    "lda = models.LdaModel(corpus_tfidf, id2word=dictionary, num_topics=10)\n",
    "corpus_lda = lda[corpus_tfidf]"
   ]
  },
  {
   "cell_type": "code",
   "execution_count": 49,
   "metadata": {
    "collapsed": false
   },
   "outputs": [
    {
     "name": "stdout",
     "output_type": "stream",
     "text": [
      "0.002*戴資穎 + 0.001*羽球 + 0.001*亞錦賽 + 0.001*世界 + 0.001*她 + 0.001*兄弟 + 0.001*中央社 + 0.001*桿 + 0.001*選手 + 0.001*台灣\n",
      "0.001*偉殷 + 0.001*陳 + 0.001*他 + 0.001*聯盟 + 0.001*桿 + 0.001*局 + 0.001*投 + 0.001*3 + 0.001*分 + 0.001*中央社\n",
      "0.001*○ + 0.001*麵 + 0.001*全國 + 0.001*授旗 + 0.001*苗栗 + 0.000*及 + 0.000*中等學校 + 0.000*苗栗縣 + 0.000*選手 + 0.000*台南市\n",
      "0.002*中央社 + 0.001*桃猿 + 0.001*猿隊 + 0.001*分 + 0.001*圖 + 0.001*Lamigo + 0.001*106 + 0.001*桃猿隊 + 0.001*兄弟 + 0.001*季後賽\n",
      "0.001*花蓮 + 0.000*鐵人三項 + 0.000*科維奇 + 0.000*選手 + 0.000*疊杯 + 0.000*陳 + 0.000*、 + 0.000*偉殷 + 0.000*分 + 0.000*公斤\n",
      "0.002*李宗賢 + 0.001*統一 + 0.001*胡金 + 0.001*悍將 + 0.001*・ + 0.001*敲出 + 0.001*兄弟 + 0.001*崴 + 0.001*他 + 0.001*打\n",
      "0.002*桃猿 + 0.002*統一 + 0.002*富邦 + 0.001*悍將 + 0.001*兄弟 + 0.001*中央社 + 0.001*Lamigo + 0.001*分 + 0.001*圖 + 0.001*中華\n",
      "0.001*盧彥 + 0.001*宿舍 + 0.001*勳 + 0.001*富邦 + 0.001*淡水 + 0.001*選手 + 0.001*中信 + 0.001*兄弟 + 0.001*中央社 + 0.001*整修\n",
      "0.001*自閉症 + 0.001*分 + 0.001*布魯斯 + 0.000*玗 + 0.000*） + 0.000*（ + 0.000*邱 + 0.000*選手 + 0.000*中央社 + 0.000*他\n",
      "0.001*全中運 + 0.001*國 + 0.001*金牌 + 0.001*王宇佐 + 0.001*全國 + 0.001*彰化縣 + 0.001*高中 + 0.001*江美慧 + 0.001*台中市 + 0.001*運動會\n"
     ]
    }
   ],
   "source": [
    "for topic in lda.print_topics(10):\n",
    "    print topic[1]"
   ]
  },
  {
   "cell_type": "code",
   "execution_count": null,
   "metadata": {
    "collapsed": true
   },
   "outputs": [],
   "source": []
  }
 ],
 "metadata": {
  "kernelspec": {
   "display_name": "Python 2",
   "language": "python",
   "name": "python2"
  },
  "language_info": {
   "codemirror_mode": {
    "name": "ipython",
    "version": 2
   },
   "file_extension": ".py",
   "mimetype": "text/x-python",
   "name": "python",
   "nbconvert_exporter": "python",
   "pygments_lexer": "ipython2",
   "version": "2.7.11"
  }
 },
 "nbformat": 4,
 "nbformat_minor": 0
}
