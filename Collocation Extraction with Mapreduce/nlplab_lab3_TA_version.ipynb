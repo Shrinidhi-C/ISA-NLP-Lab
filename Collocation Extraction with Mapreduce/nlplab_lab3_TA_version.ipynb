{
 "cells": [
  {
   "cell_type": "markdown",
   "metadata": {
    "button": false,
    "deletable": true,
    "editable": true,
    "run_control": {
     "read_only": false
    }
   },
   "source": [
    "-----\n",
    "\n",
    "# Lab3\n",
    "\n",
    "# word tokenize\n",
    "- 使用 nltk, pattern 或 textblob 做 word tokenize。\n",
    "- 資料取原始檔案的前 50000 行"
   ]
  },
  {
   "cell_type": "markdown",
   "metadata": {
    "button": false,
    "deletable": true,
    "editable": true,
    "run_control": {
     "read_only": false
    }
   },
   "source": [
    "# 計算 skip bigram \n",
    "\n",
    "- $p_j^i$ \n",
    "- ngram 任何位置不包含符號\n",
    "- skip bigram 不包含 stop words 與數字"
   ]
  },
  {
   "cell_type": "code",
   "execution_count": 1,
   "metadata": {
    "button": false,
    "collapsed": false,
    "deletable": true,
    "editable": true,
    "run_control": {
     "read_only": false
    }
   },
   "outputs": [],
   "source": [
    "from __future__ import division\n",
    "\n",
    "k0 = 1\n",
    "k1 = 1\n",
    "U0 = 10\n",
    "max_distance = 5"
   ]
  },
  {
   "cell_type": "code",
   "execution_count": 2,
   "metadata": {
    "button": false,
    "collapsed": false,
    "deletable": true,
    "editable": true,
    "run_control": {
     "read_only": false
    }
   },
   "outputs": [],
   "source": [
    "from nltk.tokenize import word_tokenize, wordpunct_tokenize\n",
    "from nltk.corpus import stopwords \n",
    "from collections import defaultdict, Counter\n",
    "from math import sqrt\n",
    "import numpy"
   ]
  },
  {
   "cell_type": "code",
   "execution_count": 3,
   "metadata": {
    "button": false,
    "collapsed": false,
    "deletable": true,
    "editable": true,
    "run_control": {
     "read_only": false
    }
   },
   "outputs": [],
   "source": [
    "def to_ngrams(words, length):\n",
    "    return zip(*[words[i:] for i in range(length)])\n",
    "\n",
    "def to_skipbigrams(words, distance):\n",
    "    return zip(*[words, words[distance:]])"
   ]
  },
  {
   "cell_type": "markdown",
   "metadata": {
    "deletable": true,
    "editable": true
   },
   "source": [
    "One way to validate ngram"
   ]
  },
  {
   "cell_type": "code",
   "execution_count": 4,
   "metadata": {
    "collapsed": true,
    "deletable": true,
    "editable": true
   },
   "outputs": [],
   "source": [
    "eng_stopwords = set(stopwords.words('english'))\n",
    "eng_symbols = set('{}\"\\'()[].,:;+!?-*/&|<>=~$')\n",
    "def ngram_is_valid(ngram):\n",
    "    first, last = ngram[0], ngram[-1]\n",
    "    if first in eng_stopwords or last in eng_stopwords: return False\n",
    "    if any( num in first or num in last for num in '0123456789'): return False\n",
    "    if any( eng_symbol in word for word in ngram for eng_symbol in eng_symbols): return False\n",
    "    return True"
   ]
  },
  {
   "cell_type": "markdown",
   "metadata": {
    "deletable": true,
    "editable": true
   },
   "source": [
    "Anothor way of validating an ngram"
   ]
  },
  {
   "cell_type": "code",
   "execution_count": 5,
   "metadata": {
    "collapsed": true,
    "deletable": true,
    "editable": true
   },
   "outputs": [],
   "source": [
    "import string\n",
    "eng_stopwords = set(stopwords.words('english') + list(string.punctuation))\n",
    "eng_symbols = list(string.punctuation)\n",
    "eng_symbols.remove('-')\n",
    "def ngram_is_valid(ngram):\n",
    "    first, last = ngram[0], ngram[-1]\n",
    "    if first in eng_stopwords or last in eng_stopwords:\n",
    "        return False\n",
    "    if any(num in first or num in last for num in '0123456789'):\n",
    "        return False\n",
    "    if any(eng_symbol in word for word in ngram for eng_symbol in eng_symbols):\n",
    "        return False\n",
    "    return True"
   ]
  },
  {
   "cell_type": "markdown",
   "metadata": {
    "deletable": true,
    "editable": true
   },
   "source": [
    "### skip bigrams"
   ]
  },
  {
   "cell_type": "code",
   "execution_count": 6,
   "metadata": {
    "collapsed": false,
    "deletable": true,
    "editable": true
   },
   "outputs": [
    {
     "name": "stdout",
     "output_type": "stream",
     "text": [
      "CPU times: user 32.4 s, sys: 561 ms, total: 33 s\n",
      "Wall time: 33.4 s\n"
     ]
    }
   ],
   "source": [
    "%%time\n",
    "skipbigrams = defaultdict(lambda: defaultdict(Counter))\n",
    "with open('citeseerx_descriptions_sents.txt.50000') as text_file:\n",
    "    for line in text_file:\n",
    "        words = wordpunct_tokenize(line.strip())\n",
    "        # words = wordpun_tokenize(line.strip())\n",
    "        for n in range(1, max_distance+1):\n",
    "            for ngram in filter(ngram_is_valid, to_ngrams(words, n + 1)):\n",
    "                first, last = ngram[0], ngram[-1]\n",
    "                skipbigrams[first][last][n] += 1\n",
    "                skipbigrams[last][first][-n] += 1"
   ]
  },
  {
   "cell_type": "markdown",
   "metadata": {
    "button": false,
    "deletable": true,
    "editable": true,
    "run_control": {
     "read_only": false
    }
   },
   "source": [
    "### 階段檢查資料"
   ]
  },
  {
   "cell_type": "code",
   "execution_count": 9,
   "metadata": {
    "collapsed": false,
    "deletable": true,
    "editable": true
   },
   "outputs": [
    {
     "data": {
      "text/plain": [
       "[('user', Counter({-2: 1})),\n",
       " ('video', Counter({2: 1})),\n",
       " ('allow', Counter({-4: 1})),\n",
       " ('frames', Counter({-5: 1})),\n",
       " ('corresponding', Counter({5: 1}))]"
      ]
     },
     "execution_count": 9,
     "metadata": {},
     "output_type": "execute_result"
    }
   ],
   "source": [
    "list(skipbigrams['play'].items())[:5]"
   ]
  },
  {
   "cell_type": "code",
   "execution_count": 10,
   "metadata": {
    "collapsed": false,
    "deletable": true,
    "editable": true
   },
   "outputs": [
    {
     "data": {
      "text/plain": [
       "[('aspects', Counter({-2: 1})),\n",
       " ('important', Counter({-5: 1, -3: 2, -1: 39})),\n",
       " ('hierarchy', Counter({1: 2})),\n",
       " ('concept', Counter({-5: 1, -2: 1, 1: 1, 4: 1})),\n",
       " ('suggestion', Counter({-2: 1}))]"
      ]
     },
     "execution_count": 10,
     "metadata": {},
     "output_type": "execute_result"
    }
   ],
   "source": [
    "list(skipbigrams['role'].items())[:5]"
   ]
  },
  {
   "cell_type": "markdown",
   "metadata": {
    "button": false,
    "deletable": true,
    "editable": true,
    "run_control": {
     "read_only": false
    }
   },
   "source": [
    "# 計算 skip bigram 的各種統計資訊 \n",
    "$freq,\\ \\bar{f},\\ \\sigma,\\ u_i,\\ \\bar{p_i}$"
   ]
  },
  {
   "cell_type": "code",
   "execution_count": 11,
   "metadata": {
    "button": false,
    "collapsed": false,
    "deletable": true,
    "editable": true,
    "run_control": {
     "read_only": false
    }
   },
   "outputs": [],
   "source": [
    "class Collocate:\n",
    "    def __init__(self, collocation):\n",
    "        self.collocation = dict(collocation)\n",
    "        values = list(self.collocation.values())\n",
    "        self.freq = sum(values)\n",
    "        self.spread = numpy.var(values + [0] * (max_distance * 2 - len(values)))\n",
    "        self.peak = self.freq / float(max_distance * 2) + k1 * sqrt(self.spread)\n",
    "    def __getitem__(self, key):\n",
    "        return self.collocation[key]\n",
    "    def __repr__(self):\n",
    "        return 'Collocates(freq={}, strength={}, spread={}, peak={}, {})'.format(self.freq, self.strength, self.spread, self.peak, self.collocation)\n",
    "    def keys(self):\n",
    "        return self.collocation.keys()\n",
    "    def values(self):\n",
    "        return self.collocation.values()\n",
    "    def items(self):\n",
    "        return self.collocation.items()\n",
    "    def compute(self, avg_freq, dev):\n",
    "        self.strength = (self.freq - avg_freq) / dev if dev else 0\n",
    "    def prune_collocation(self):\n",
    "        self.collocation = {index: freq for index, freq in self.items() if freq > self.peak}\n",
    "        return len(self.collocation) > 0"
   ]
  },
  {
   "cell_type": "code",
   "execution_count": 12,
   "metadata": {
    "button": false,
    "collapsed": true,
    "deletable": true,
    "editable": true,
    "run_control": {
     "read_only": false
    }
   },
   "outputs": [],
   "source": [
    "class BaseWord:\n",
    "    def __init__(self, base_word_str):\n",
    "        self.collocates = {coll: Collocate(value) for coll, value in skipbigrams[base_word_str].items()}\n",
    "        # compute_statistical_info\n",
    "        freqs = [collocate.freq for collocate in self.collocates.values()]\n",
    "        self.avg_freq = numpy.mean(freqs)\n",
    "        self.dev = numpy.std(freqs)\n",
    "        for collocate in self.collocates.values():\n",
    "            collocate.compute(self.avg_freq, self.dev)\n",
    "        self.filter_collocates()\n",
    "    def __getitem__(self, key):\n",
    "        return self.collocates[key]\n",
    "    def __repr__(self):\n",
    "        return 'BaseWord(avg_freq={}, dev={},\\n{}\\n}})'.format(self.avg_freq, self.dev, self.collocates)\n",
    "    def values(self):\n",
    "        return self.collocates.values()\n",
    "    def items(self):\n",
    "        return self.collocates.items()\n",
    "    def filter_collocates(self):\n",
    "        # Smadja's filtering skip-bigrams C1, C2\n",
    "        self.collocates = {word: collocate for word, collocate in self.collocates.items() \\\n",
    "                           if collocate.strength > k0 and collocate.spread > U0}\n",
    "        # Smadja's filtering skip-bigrams C3\n",
    "        self.collocates = {word: collocate for word, collocate in self.collocates.items() \\\n",
    "                           if collocate.prune_collocation()}\n"
   ]
  },
  {
   "cell_type": "code",
   "execution_count": 13,
   "metadata": {
    "collapsed": true,
    "deletable": true,
    "editable": true
   },
   "outputs": [],
   "source": [
    "class SkipgramDict(dict):\n",
    "    def __init__(self):\n",
    "        self.factory = BaseWord\n",
    "    def __missing__(self, key):\n",
    "        self[key] = self.factory(key)\n",
    "        return self[key]"
   ]
  },
  {
   "cell_type": "markdown",
   "metadata": {
    "button": false,
    "deletable": true,
    "editable": true,
    "run_control": {
     "read_only": false
    }
   },
   "source": [
    "### 階段檢查資料\n",
    "- $\\bar{f}$ : `avg_freq`\n",
    "- $\\sigma$ : `dev`\n",
    "- $u_i$ : `spread`\n",
    "- $freq$ : `freq`\n"
   ]
  },
  {
   "cell_type": "code",
   "execution_count": 14,
   "metadata": {
    "button": false,
    "collapsed": false,
    "deletable": true,
    "editable": true,
    "run_control": {
     "read_only": false
    }
   },
   "outputs": [],
   "source": [
    "iskip_bigram_info = SkipgramDict()"
   ]
  },
  {
   "cell_type": "code",
   "execution_count": 15,
   "metadata": {
    "collapsed": false,
    "deletable": true,
    "editable": true
   },
   "outputs": [
    {
     "data": {
      "text/plain": [
       "BaseWord(avg_freq=1.5247524752475248, dev=4.19710899889823,\n",
       "{'role': Collocates(freq=70, strength=16.314860429578477, spread=221.0, peak=21.866068747318508, {3: 51}), 'important': Collocates(freq=23, strength=5.116676152654095, spread=22.409999999999997, peak=7.033920151417849, {2: 16})}\n",
       "})"
      ]
     },
     "execution_count": 15,
     "metadata": {},
     "output_type": "execute_result"
    }
   ],
   "source": [
    "iskip_bigram_info['play']"
   ]
  },
  {
   "cell_type": "code",
   "execution_count": 16,
   "metadata": {
    "button": false,
    "collapsed": false,
    "deletable": true,
    "editable": true,
    "run_control": {
     "read_only": false
    }
   },
   "outputs": [
    {
     "data": {
      "text/plain": [
       "BaseWord(avg_freq=1.6712517193947731, dev=3.4258562842764286,\n",
       "{'important': Collocates(freq=42, strength=11.771873929943041, spread=134.95999999999998, peak=15.817228585166085, {-1: 39}), 'plays': Collocates(freq=27, strength=7.393406546811663, spread=34.010000000000005, peak=8.531809324729334, {-3: 20}), 'play': Collocates(freq=70, strength=19.945013045121613, spread=221.0, peak=21.866068747318508, {-3: 51}), 'central': Collocates(freq=13, strength=3.3068369892223775, spread=10.61, peak=4.557299494980466, {-1: 11}), 'The': Collocates(freq=19, strength=5.058223942474928, spread=19.490000000000002, peak=6.314748010928824, {-1: 15})}\n",
       "})"
      ]
     },
     "execution_count": 16,
     "metadata": {},
     "output_type": "execute_result"
    }
   ],
   "source": [
    "iskip_bigram_info['role']"
   ]
  },
  {
   "cell_type": "code",
   "execution_count": 17,
   "metadata": {
    "collapsed": false,
    "deletable": true,
    "editable": true
   },
   "outputs": [
    {
     "data": {
      "text/plain": [
       "[51, 5, 8, 2, 2, 1, 1]"
      ]
     },
     "execution_count": 17,
     "metadata": {},
     "output_type": "execute_result"
    }
   ],
   "source": [
    "list(skipbigrams['play']['role'].values())"
   ]
  },
  {
   "cell_type": "markdown",
   "metadata": {
    "button": false,
    "deletable": true,
    "editable": true,
    "run_control": {
     "read_only": false
    }
   },
   "source": [
    "## 使用 pandas 畫出 play role 的各距離數量"
   ]
  },
  {
   "cell_type": "code",
   "execution_count": 18,
   "metadata": {
    "button": false,
    "collapsed": false,
    "deletable": true,
    "editable": true,
    "run_control": {
     "read_only": false
    }
   },
   "outputs": [
    {
     "data": {
      "text/plain": [
       "<matplotlib.axes._subplots.AxesSubplot at 0x130277518>"
      ]
     },
     "execution_count": 18,
     "metadata": {},
     "output_type": "execute_result"
    },
    {
     "data": {
      "image/png": "[encoded data removed]",
      "text/plain": [
       "<matplotlib.figure.Figure at 0x1301c92b0>"
      ]
     },
     "metadata": {},
     "output_type": "display_data"
    }
   ],
   "source": [
    "import pandas \n",
    "%matplotlib inline\n",
    "play_role_distances_count = pandas.Series(list(skipbigrams['play']['role'].values()), index=list(skipbigrams['play']['role'].keys())).sort_index()\n",
    "play_role_distances_count.plot(kind='bar')"
   ]
  },
  {
   "cell_type": "markdown",
   "metadata": {
    "button": false,
    "deletable": true,
    "editable": true,
    "run_control": {
     "read_only": false
    }
   },
   "source": [
    "# 依據 Smadja’s 三個規則篩選 skip bigrams\n",
    "\n",
    "$$\\begin{cases} \n",
    "strength = \\frac{freq - \\bar{f}}{\\sigma} \\ge k_0 & (C_1)\\\\\n",
    "spread \\ge u_0 & (C_2) \\\\\n",
    "p_j^i \\ge \\bar{p_i} + (k_1 \\times \\sqrt{u_i}) & (C_3) \n",
    "\\end{cases}$$"
   ]
  },
  {
   "cell_type": "code",
   "execution_count": 19,
   "metadata": {
    "collapsed": false,
    "deletable": true,
    "editable": true,
    "scrolled": true
   },
   "outputs": [
    {
     "data": {
      "text/plain": [
       "BaseWord(avg_freq=1.5247524752475248, dev=4.19710899889823,\n",
       "{'role': Collocates(freq=70, strength=16.314860429578477, spread=221.0, peak=21.866068747318508, {3: 51}), 'important': Collocates(freq=23, strength=5.116676152654095, spread=22.409999999999997, peak=7.033920151417849, {2: 16})}\n",
       "})"
      ]
     },
     "execution_count": 19,
     "metadata": {},
     "output_type": "execute_result"
    }
   ],
   "source": [
    "iskip_bigram_info['play']"
   ]
  },
  {
   "cell_type": "code",
   "execution_count": 20,
   "metadata": {
    "collapsed": false,
    "deletable": true,
    "editable": true
   },
   "outputs": [
    {
     "name": "stderr",
     "output_type": "stream",
     "text": [
      "/usr/local/lib/python3.6/site-packages/ipykernel/__main__.py:19: RuntimeWarning: invalid value encountered in double_scalars\n"
     ]
    },
    {
     "name": "stdout",
     "output_type": "stream",
     "text": [
      "CPU times: user 53.8 s, sys: 745 ms, total: 54.5 s\n",
      "Wall time: 55.2 s\n"
     ]
    }
   ],
   "source": [
    "%%time\n",
    "for baseword in skipbigrams:\n",
    "    iskip_bigram_info[baseword]"
   ]
  },
  {
   "cell_type": "markdown",
   "metadata": {
    "button": false,
    "deletable": true,
    "editable": true,
    "run_control": {
     "read_only": false
    }
   },
   "source": [
    "## 使用 pandas Dataframe 整理與顯示資料"
   ]
  },
  {
   "cell_type": "code",
   "execution_count": 22,
   "metadata": {
    "button": false,
    "collapsed": false,
    "deletable": true,
    "editable": true,
    "run_control": {
     "read_only": false
    }
   },
   "outputs": [],
   "source": [
    "import pandas\n",
    "collocations = [(baseword, word, i, collocate.strength, collocate.spread, collocate.peak, freq)\n",
    "                for baseword, collocates in iskip_bigram_info.items()\n",
    "                for word, collocate in collocates.items()\n",
    "                for i, freq in collocate.items()]\n",
    "collocations_df = pandas.DataFrame(collocations,\n",
    "                                   columns = ['base word', 'collocate', 'distance', 'strength', 'spread', 'peak', 'p'])\n",
    "collocations_df = collocations_df.set_index(['base word', 'collocate', 'distance']).sort_index()"
   ]
  },
  {
   "cell_type": "markdown",
   "metadata": {
    "button": false,
    "deletable": true,
    "editable": true,
    "run_control": {
     "read_only": false
    }
   },
   "source": [
    "### 列出 collocation Dataframe"
   ]
  },
  {
   "cell_type": "code",
   "execution_count": 23,
   "metadata": {
    "button": false,
    "collapsed": false,
    "deletable": true,
    "editable": true,
    "run_control": {
     "read_only": false
    }
   },
   "outputs": [
    {
     "data": {
      "text/html": [
       "<div>\n",
       "<table border=\"1\" class=\"dataframe\">\n",
       "  <thead>\n",
       "    <tr style=\"text-align: right;\">\n",
       "      <th></th>\n",
       "      <th></th>\n",
       "      <th></th>\n",
       "      <th>strength</th>\n",
       "      <th>spread</th>\n",
       "      <th>peak</th>\n",
       "      <th>p</th>\n",
       "    </tr>\n",
       "    <tr>\n",
       "      <th>base word</th>\n",
       "      <th>collocate</th>\n",
       "      <th>distance</th>\n",
       "      <th></th>\n",
       "      <th></th>\n",
       "      <th></th>\n",
       "      <th></th>\n",
       "    </tr>\n",
       "  </thead>\n",
       "  <tbody>\n",
       "    <tr>\n",
       "      <th rowspan=\"30\" valign=\"top\">#</th>\n",
       "      <th rowspan=\"2\" valign=\"top\">#</th>\n",
       "      <th>-2</th>\n",
       "      <td>38.086420</td>\n",
       "      <td>506.56</td>\n",
       "      <td>87.706888</td>\n",
       "      <td>107</td>\n",
       "    </tr>\n",
       "    <tr>\n",
       "      <th>2</th>\n",
       "      <td>38.086420</td>\n",
       "      <td>506.56</td>\n",
       "      <td>87.706888</td>\n",
       "      <td>107</td>\n",
       "    </tr>\n",
       "    <tr>\n",
       "      <th rowspan=\"2\" valign=\"top\">The</th>\n",
       "      <th>-3</th>\n",
       "      <td>2.043375</td>\n",
       "      <td>13.16</td>\n",
       "      <td>7.427671</td>\n",
       "      <td>10</td>\n",
       "    </tr>\n",
       "    <tr>\n",
       "      <th>-2</th>\n",
       "      <td>2.043375</td>\n",
       "      <td>13.16</td>\n",
       "      <td>7.427671</td>\n",
       "      <td>8</td>\n",
       "    </tr>\n",
       "    <tr>\n",
       "      <th rowspan=\"2\" valign=\"top\">We</th>\n",
       "      <th>-5</th>\n",
       "      <td>1.338951</td>\n",
       "      <td>20.04</td>\n",
       "      <td>7.076606</td>\n",
       "      <td>8</td>\n",
       "    </tr>\n",
       "    <tr>\n",
       "      <th>-4</th>\n",
       "      <td>1.338951</td>\n",
       "      <td>20.04</td>\n",
       "      <td>7.076606</td>\n",
       "      <td>14</td>\n",
       "    </tr>\n",
       "    <tr>\n",
       "      <th>c</th>\n",
       "      <th>1</th>\n",
       "      <td>2.160779</td>\n",
       "      <td>114.20</td>\n",
       "      <td>14.686440</td>\n",
       "      <td>36</td>\n",
       "    </tr>\n",
       "    <tr>\n",
       "      <th>ciency</th>\n",
       "      <th>1</th>\n",
       "      <td>2.747799</td>\n",
       "      <td>178.60</td>\n",
       "      <td>18.364131</td>\n",
       "      <td>45</td>\n",
       "    </tr>\n",
       "    <tr>\n",
       "      <th>cient</th>\n",
       "      <th>1</th>\n",
       "      <td>8.852810</td>\n",
       "      <td>2043.44</td>\n",
       "      <td>60.604425</td>\n",
       "      <td>151</td>\n",
       "    </tr>\n",
       "    <tr>\n",
       "      <th>ciently</th>\n",
       "      <th>1</th>\n",
       "      <td>2.160779</td>\n",
       "      <td>128.60</td>\n",
       "      <td>15.340194</td>\n",
       "      <td>38</td>\n",
       "    </tr>\n",
       "    <tr>\n",
       "      <th>coe</th>\n",
       "      <th>-1</th>\n",
       "      <td>1.221547</td>\n",
       "      <td>43.04</td>\n",
       "      <td>8.960488</td>\n",
       "      <td>22</td>\n",
       "    </tr>\n",
       "    <tr>\n",
       "      <th>cult</th>\n",
       "      <th>1</th>\n",
       "      <td>1.867269</td>\n",
       "      <td>103.45</td>\n",
       "      <td>13.671037</td>\n",
       "      <td>34</td>\n",
       "    </tr>\n",
       "    <tr>\n",
       "      <th>di</th>\n",
       "      <th>-1</th>\n",
       "      <td>20.769322</td>\n",
       "      <td>9893.61</td>\n",
       "      <td>135.166628</td>\n",
       "      <td>334</td>\n",
       "    </tr>\n",
       "    <tr>\n",
       "      <th>e</th>\n",
       "      <th>-1</th>\n",
       "      <td>24.115337</td>\n",
       "      <td>11877.84</td>\n",
       "      <td>150.385504</td>\n",
       "      <td>368</td>\n",
       "    </tr>\n",
       "    <tr>\n",
       "      <th>ect</th>\n",
       "      <th>1</th>\n",
       "      <td>2.043375</td>\n",
       "      <td>115.36</td>\n",
       "      <td>14.540577</td>\n",
       "      <td>36</td>\n",
       "    </tr>\n",
       "    <tr>\n",
       "      <th>ective</th>\n",
       "      <th>1</th>\n",
       "      <td>3.158714</td>\n",
       "      <td>270.21</td>\n",
       "      <td>22.138066</td>\n",
       "      <td>55</td>\n",
       "    </tr>\n",
       "    <tr>\n",
       "      <th>ectively</th>\n",
       "      <th>1</th>\n",
       "      <td>1.162845</td>\n",
       "      <td>47.61</td>\n",
       "      <td>9.200000</td>\n",
       "      <td>23</td>\n",
       "    </tr>\n",
       "    <tr>\n",
       "      <th>ects</th>\n",
       "      <th>1</th>\n",
       "      <td>1.984673</td>\n",
       "      <td>109.21</td>\n",
       "      <td>14.150359</td>\n",
       "      <td>35</td>\n",
       "    </tr>\n",
       "    <tr>\n",
       "      <th>er</th>\n",
       "      <th>1</th>\n",
       "      <td>1.867269</td>\n",
       "      <td>96.85</td>\n",
       "      <td>13.341240</td>\n",
       "      <td>33</td>\n",
       "    </tr>\n",
       "    <tr>\n",
       "      <th>erent</th>\n",
       "      <th>1</th>\n",
       "      <td>12.492336</td>\n",
       "      <td>3617.24</td>\n",
       "      <td>81.743495</td>\n",
       "      <td>202</td>\n",
       "    </tr>\n",
       "    <tr>\n",
       "      <th>erential</th>\n",
       "      <th>1</th>\n",
       "      <td>1.456355</td>\n",
       "      <td>59.96</td>\n",
       "      <td>10.543384</td>\n",
       "      <td>26</td>\n",
       "    </tr>\n",
       "    <tr>\n",
       "      <th>ers</th>\n",
       "      <th>1</th>\n",
       "      <td>1.456355</td>\n",
       "      <td>59.96</td>\n",
       "      <td>10.543384</td>\n",
       "      <td>26</td>\n",
       "    </tr>\n",
       "    <tr>\n",
       "      <th rowspan=\"2\" valign=\"top\">n</th>\n",
       "      <th>-1</th>\n",
       "      <td>2.512991</td>\n",
       "      <td>24.44</td>\n",
       "      <td>9.543683</td>\n",
       "      <td>16</td>\n",
       "    </tr>\n",
       "    <tr>\n",
       "      <th>1</th>\n",
       "      <td>2.512991</td>\n",
       "      <td>24.44</td>\n",
       "      <td>9.543683</td>\n",
       "      <td>12</td>\n",
       "    </tr>\n",
       "    <tr>\n",
       "      <th>su</th>\n",
       "      <th>-1</th>\n",
       "      <td>2.865203</td>\n",
       "      <td>223.16</td>\n",
       "      <td>20.138541</td>\n",
       "      <td>50</td>\n",
       "    </tr>\n",
       "    <tr>\n",
       "      <th>tra</th>\n",
       "      <th>-1</th>\n",
       "      <td>1.749865</td>\n",
       "      <td>85.61</td>\n",
       "      <td>12.552567</td>\n",
       "      <td>31</td>\n",
       "    </tr>\n",
       "    <tr>\n",
       "      <th rowspan=\"2\" valign=\"top\">two</th>\n",
       "      <th>-2</th>\n",
       "      <td>1.808567</td>\n",
       "      <td>15.84</td>\n",
       "      <td>7.379950</td>\n",
       "      <td>13</td>\n",
       "    </tr>\n",
       "    <tr>\n",
       "      <th>3</th>\n",
       "      <td>1.808567</td>\n",
       "      <td>15.84</td>\n",
       "      <td>7.379950</td>\n",
       "      <td>8</td>\n",
       "    </tr>\n",
       "    <tr>\n",
       "      <th>usion</th>\n",
       "      <th>1</th>\n",
       "      <td>1.104143</td>\n",
       "      <td>43.56</td>\n",
       "      <td>8.800000</td>\n",
       "      <td>22</td>\n",
       "    </tr>\n",
       "    <tr>\n",
       "      <th>x</th>\n",
       "      <th>-1</th>\n",
       "      <td>2.571693</td>\n",
       "      <td>52.41</td>\n",
       "      <td>11.939475</td>\n",
       "      <td>24</td>\n",
       "    </tr>\n",
       "    <tr>\n",
       "      <th>...</th>\n",
       "      <th>...</th>\n",
       "      <th>...</th>\n",
       "      <td>...</td>\n",
       "      <td>...</td>\n",
       "      <td>...</td>\n",
       "      <td>...</td>\n",
       "    </tr>\n",
       "    <tr>\n",
       "      <th rowspan=\"15\" valign=\"top\">work</th>\n",
       "      <th>This</th>\n",
       "      <th>-1</th>\n",
       "      <td>18.888210</td>\n",
       "      <td>537.56</td>\n",
       "      <td>34.385340</td>\n",
       "      <td>79</td>\n",
       "    </tr>\n",
       "    <tr>\n",
       "      <th>contribution</th>\n",
       "      <th>-3</th>\n",
       "      <td>1.660808</td>\n",
       "      <td>10.76</td>\n",
       "      <td>4.480244</td>\n",
       "      <td>11</td>\n",
       "    </tr>\n",
       "    <tr>\n",
       "      <th rowspan=\"2\" valign=\"top\">done</th>\n",
       "      <th>1</th>\n",
       "      <td>4.072645</td>\n",
       "      <td>15.44</td>\n",
       "      <td>6.529377</td>\n",
       "      <td>8</td>\n",
       "    </tr>\n",
       "    <tr>\n",
       "      <th>3</th>\n",
       "      <td>4.072645</td>\n",
       "      <td>15.44</td>\n",
       "      <td>6.529377</td>\n",
       "      <td>11</td>\n",
       "    </tr>\n",
       "    <tr>\n",
       "      <th>earlier</th>\n",
       "      <th>-1</th>\n",
       "      <td>2.349904</td>\n",
       "      <td>17.24</td>\n",
       "      <td>5.752108</td>\n",
       "      <td>14</td>\n",
       "    </tr>\n",
       "    <tr>\n",
       "      <th>future</th>\n",
       "      <th>-1</th>\n",
       "      <td>4.244919</td>\n",
       "      <td>41.81</td>\n",
       "      <td>9.166065</td>\n",
       "      <td>22</td>\n",
       "    </tr>\n",
       "    <tr>\n",
       "      <th>main</th>\n",
       "      <th>-4</th>\n",
       "      <td>2.005356</td>\n",
       "      <td>12.64</td>\n",
       "      <td>4.955278</td>\n",
       "      <td>12</td>\n",
       "    </tr>\n",
       "    <tr>\n",
       "      <th rowspan=\"2\" valign=\"top\">paper</th>\n",
       "      <th>-4</th>\n",
       "      <td>6.484481</td>\n",
       "      <td>28.20</td>\n",
       "      <td>9.310367</td>\n",
       "      <td>13</td>\n",
       "    </tr>\n",
       "    <tr>\n",
       "      <th>-3</th>\n",
       "      <td>6.484481</td>\n",
       "      <td>28.20</td>\n",
       "      <td>9.310367</td>\n",
       "      <td>15</td>\n",
       "    </tr>\n",
       "    <tr>\n",
       "      <th rowspan=\"2\" valign=\"top\">present</th>\n",
       "      <th>-2</th>\n",
       "      <td>4.417193</td>\n",
       "      <td>11.56</td>\n",
       "      <td>6.200000</td>\n",
       "      <td>7</td>\n",
       "    </tr>\n",
       "    <tr>\n",
       "      <th>-1</th>\n",
       "      <td>4.417193</td>\n",
       "      <td>11.56</td>\n",
       "      <td>6.200000</td>\n",
       "      <td>11</td>\n",
       "    </tr>\n",
       "    <tr>\n",
       "      <th>previous</th>\n",
       "      <th>-1</th>\n",
       "      <td>13.547716</td>\n",
       "      <td>469.09</td>\n",
       "      <td>29.758486</td>\n",
       "      <td>73</td>\n",
       "    </tr>\n",
       "    <tr>\n",
       "      <th>progress</th>\n",
       "      <th>2</th>\n",
       "      <td>2.005356</td>\n",
       "      <td>12.64</td>\n",
       "      <td>4.955278</td>\n",
       "      <td>12</td>\n",
       "    </tr>\n",
       "    <tr>\n",
       "      <th>recent</th>\n",
       "      <th>-1</th>\n",
       "      <td>4.244919</td>\n",
       "      <td>60.41</td>\n",
       "      <td>10.472387</td>\n",
       "      <td>26</td>\n",
       "    </tr>\n",
       "    <tr>\n",
       "      <th>well</th>\n",
       "      <th>1</th>\n",
       "      <td>1.833082</td>\n",
       "      <td>10.61</td>\n",
       "      <td>4.557299</td>\n",
       "      <td>11</td>\n",
       "    </tr>\n",
       "    <tr>\n",
       "      <th>works</th>\n",
       "      <th>previous</th>\n",
       "      <th>-1</th>\n",
       "      <td>9.569996</td>\n",
       "      <td>14.84</td>\n",
       "      <td>5.452272</td>\n",
       "      <td>13</td>\n",
       "    </tr>\n",
       "    <tr>\n",
       "      <th rowspan=\"3\" valign=\"top\">world</th>\n",
       "      <th>data</th>\n",
       "      <th>1</th>\n",
       "      <td>5.351246</td>\n",
       "      <td>12.21</td>\n",
       "      <td>5.194281</td>\n",
       "      <td>12</td>\n",
       "    </tr>\n",
       "    <tr>\n",
       "      <th>real</th>\n",
       "      <th>-1</th>\n",
       "      <td>22.833347</td>\n",
       "      <td>390.81</td>\n",
       "      <td>26.468915</td>\n",
       "      <td>66</td>\n",
       "    </tr>\n",
       "    <tr>\n",
       "      <th>virtual</th>\n",
       "      <th>-1</th>\n",
       "      <td>3.952678</td>\n",
       "      <td>10.61</td>\n",
       "      <td>4.557299</td>\n",
       "      <td>11</td>\n",
       "    </tr>\n",
       "    <tr>\n",
       "      <th>worst</th>\n",
       "      <th>case</th>\n",
       "      <th>1</th>\n",
       "      <td>11.213565</td>\n",
       "      <td>43.21</td>\n",
       "      <td>8.873431</td>\n",
       "      <td>22</td>\n",
       "    </tr>\n",
       "    <tr>\n",
       "      <th rowspan=\"2\" valign=\"top\">would</th>\n",
       "      <th>allow</th>\n",
       "      <th>1</th>\n",
       "      <td>6.998167</td>\n",
       "      <td>10.76</td>\n",
       "      <td>4.480244</td>\n",
       "      <td>11</td>\n",
       "    </tr>\n",
       "    <tr>\n",
       "      <th>like</th>\n",
       "      <th>1</th>\n",
       "      <td>14.299831</td>\n",
       "      <td>31.81</td>\n",
       "      <td>7.940035</td>\n",
       "      <td>19</td>\n",
       "    </tr>\n",
       "    <tr>\n",
       "      <th rowspan=\"2\" valign=\"top\">x</th>\n",
       "      <th rowspan=\"2\" valign=\"top\">#</th>\n",
       "      <th>-1</th>\n",
       "      <td>10.766888</td>\n",
       "      <td>52.41</td>\n",
       "      <td>11.939475</td>\n",
       "      <td>12</td>\n",
       "    </tr>\n",
       "    <tr>\n",
       "      <th>1</th>\n",
       "      <td>10.766888</td>\n",
       "      <td>52.41</td>\n",
       "      <td>11.939475</td>\n",
       "      <td>24</td>\n",
       "    </tr>\n",
       "    <tr>\n",
       "      <th rowspan=\"6\" valign=\"top\">years</th>\n",
       "      <th>In</th>\n",
       "      <th>-2</th>\n",
       "      <td>8.225192</td>\n",
       "      <td>84.60</td>\n",
       "      <td>13.197826</td>\n",
       "      <td>31</td>\n",
       "    </tr>\n",
       "    <tr>\n",
       "      <th>ago</th>\n",
       "      <th>1</th>\n",
       "      <td>1.962656</td>\n",
       "      <td>10.89</td>\n",
       "      <td>4.400000</td>\n",
       "      <td>11</td>\n",
       "    </tr>\n",
       "    <tr>\n",
       "      <th>last</th>\n",
       "      <th>-2</th>\n",
       "      <td>8.009242</td>\n",
       "      <td>73.29</td>\n",
       "      <td>12.460958</td>\n",
       "      <td>28</td>\n",
       "    </tr>\n",
       "    <tr>\n",
       "      <th>many</th>\n",
       "      <th>-1</th>\n",
       "      <td>3.042404</td>\n",
       "      <td>20.04</td>\n",
       "      <td>6.076606</td>\n",
       "      <td>15</td>\n",
       "    </tr>\n",
       "    <tr>\n",
       "      <th>past</th>\n",
       "      <th>-2</th>\n",
       "      <td>8.441141</td>\n",
       "      <td>107.49</td>\n",
       "      <td>14.467738</td>\n",
       "      <td>35</td>\n",
       "    </tr>\n",
       "    <tr>\n",
       "      <th>recent</th>\n",
       "      <th>-1</th>\n",
       "      <td>13.623929</td>\n",
       "      <td>380.25</td>\n",
       "      <td>26.000000</td>\n",
       "      <td>65</td>\n",
       "    </tr>\n",
       "  </tbody>\n",
       "</table>\n",
       "<p>5568 rows × 4 columns</p>\n",
       "</div>"
      ],
      "text/plain": [
       "                                  strength    spread        peak    p\n",
       "base word collocate    distance                                      \n",
       "#         #            -2        38.086420    506.56   87.706888  107\n",
       "                        2        38.086420    506.56   87.706888  107\n",
       "          The          -3         2.043375     13.16    7.427671   10\n",
       "                       -2         2.043375     13.16    7.427671    8\n",
       "          We           -5         1.338951     20.04    7.076606    8\n",
       "                       -4         1.338951     20.04    7.076606   14\n",
       "          c             1         2.160779    114.20   14.686440   36\n",
       "          ciency        1         2.747799    178.60   18.364131   45\n",
       "          cient         1         8.852810   2043.44   60.604425  151\n",
       "          ciently       1         2.160779    128.60   15.340194   38\n",
       "          coe          -1         1.221547     43.04    8.960488   22\n",
       "          cult          1         1.867269    103.45   13.671037   34\n",
       "          di           -1        20.769322   9893.61  135.166628  334\n",
       "          e            -1        24.115337  11877.84  150.385504  368\n",
       "          ect           1         2.043375    115.36   14.540577   36\n",
       "          ective        1         3.158714    270.21   22.138066   55\n",
       "          ectively      1         1.162845     47.61    9.200000   23\n",
       "          ects          1         1.984673    109.21   14.150359   35\n",
       "          er            1         1.867269     96.85   13.341240   33\n",
       "          erent         1        12.492336   3617.24   81.743495  202\n",
       "          erential      1         1.456355     59.96   10.543384   26\n",
       "          ers           1         1.456355     59.96   10.543384   26\n",
       "          n            -1         2.512991     24.44    9.543683   16\n",
       "                        1         2.512991     24.44    9.543683   12\n",
       "          su           -1         2.865203    223.16   20.138541   50\n",
       "          tra          -1         1.749865     85.61   12.552567   31\n",
       "          two          -2         1.808567     15.84    7.379950   13\n",
       "                        3         1.808567     15.84    7.379950    8\n",
       "          usion         1         1.104143     43.56    8.800000   22\n",
       "          x            -1         2.571693     52.41   11.939475   24\n",
       "...                                    ...       ...         ...  ...\n",
       "work      This         -1        18.888210    537.56   34.385340   79\n",
       "          contribution -3         1.660808     10.76    4.480244   11\n",
       "          done          1         4.072645     15.44    6.529377    8\n",
       "                        3         4.072645     15.44    6.529377   11\n",
       "          earlier      -1         2.349904     17.24    5.752108   14\n",
       "          future       -1         4.244919     41.81    9.166065   22\n",
       "          main         -4         2.005356     12.64    4.955278   12\n",
       "          paper        -4         6.484481     28.20    9.310367   13\n",
       "                       -3         6.484481     28.20    9.310367   15\n",
       "          present      -2         4.417193     11.56    6.200000    7\n",
       "                       -1         4.417193     11.56    6.200000   11\n",
       "          previous     -1        13.547716    469.09   29.758486   73\n",
       "          progress      2         2.005356     12.64    4.955278   12\n",
       "          recent       -1         4.244919     60.41   10.472387   26\n",
       "          well          1         1.833082     10.61    4.557299   11\n",
       "works     previous     -1         9.569996     14.84    5.452272   13\n",
       "world     data          1         5.351246     12.21    5.194281   12\n",
       "          real         -1        22.833347    390.81   26.468915   66\n",
       "          virtual      -1         3.952678     10.61    4.557299   11\n",
       "worst     case          1        11.213565     43.21    8.873431   22\n",
       "would     allow         1         6.998167     10.76    4.480244   11\n",
       "          like          1        14.299831     31.81    7.940035   19\n",
       "x         #            -1        10.766888     52.41   11.939475   12\n",
       "                        1        10.766888     52.41   11.939475   24\n",
       "years     In           -2         8.225192     84.60   13.197826   31\n",
       "          ago           1         1.962656     10.89    4.400000   11\n",
       "          last         -2         8.009242     73.29   12.460958   28\n",
       "          many         -1         3.042404     20.04    6.076606   15\n",
       "          past         -2         8.441141    107.49   14.467738   35\n",
       "          recent       -1        13.623929    380.25   26.000000   65\n",
       "\n",
       "[5568 rows x 4 columns]"
      ]
     },
     "execution_count": 23,
     "metadata": {},
     "output_type": "execute_result"
    }
   ],
   "source": [
    "collocations_df"
   ]
  },
  {
   "cell_type": "markdown",
   "metadata": {
    "button": false,
    "deletable": true,
    "editable": true,
    "run_control": {
     "read_only": false
    }
   },
   "source": [
    "### 依據 strength 排序 collocation"
   ]
  },
  {
   "cell_type": "code",
   "execution_count": 24,
   "metadata": {
    "button": false,
    "collapsed": false,
    "deletable": true,
    "editable": true,
    "run_control": {
     "read_only": false
    }
   },
   "outputs": [
    {
     "data": {
      "text/html": [
       "<div>\n",
       "<table border=\"1\" class=\"dataframe\">\n",
       "  <thead>\n",
       "    <tr style=\"text-align: right;\">\n",
       "      <th></th>\n",
       "      <th></th>\n",
       "      <th></th>\n",
       "      <th>strength</th>\n",
       "      <th>spread</th>\n",
       "      <th>peak</th>\n",
       "      <th>p</th>\n",
       "    </tr>\n",
       "    <tr>\n",
       "      <th>base word</th>\n",
       "      <th>collocate</th>\n",
       "      <th>distance</th>\n",
       "      <th></th>\n",
       "      <th></th>\n",
       "      <th></th>\n",
       "      <th></th>\n",
       "    </tr>\n",
       "  </thead>\n",
       "  <tbody>\n",
       "    <tr>\n",
       "      <th>This</th>\n",
       "      <th>paper</th>\n",
       "      <th>1</th>\n",
       "      <td>48.524433</td>\n",
       "      <td>342586.69</td>\n",
       "      <td>782.409055</td>\n",
       "      <td>1953</td>\n",
       "    </tr>\n",
       "    <tr>\n",
       "      <th>also</th>\n",
       "      <th>We</th>\n",
       "      <th>-1</th>\n",
       "      <td>43.127860</td>\n",
       "      <td>13829.36</td>\n",
       "      <td>159.398299</td>\n",
       "      <td>394</td>\n",
       "    </tr>\n",
       "    <tr>\n",
       "      <th>In</th>\n",
       "      <th>paper</th>\n",
       "      <th>2</th>\n",
       "      <td>39.951056</td>\n",
       "      <td>288595.41</td>\n",
       "      <td>720.910769</td>\n",
       "      <td>1795</td>\n",
       "    </tr>\n",
       "    <tr>\n",
       "      <th rowspan=\"2\" valign=\"top\">#</th>\n",
       "      <th rowspan=\"2\" valign=\"top\">#</th>\n",
       "      <th>2</th>\n",
       "      <td>38.086420</td>\n",
       "      <td>506.56</td>\n",
       "      <td>87.706888</td>\n",
       "      <td>107</td>\n",
       "    </tr>\n",
       "    <tr>\n",
       "      <th>-2</th>\n",
       "      <td>38.086420</td>\n",
       "      <td>506.56</td>\n",
       "      <td>87.706888</td>\n",
       "      <td>107</td>\n",
       "    </tr>\n",
       "    <tr>\n",
       "      <th>present</th>\n",
       "      <th>We</th>\n",
       "      <th>-1</th>\n",
       "      <td>37.228588</td>\n",
       "      <td>43512.69</td>\n",
       "      <td>284.696956</td>\n",
       "      <td>700</td>\n",
       "    </tr>\n",
       "    <tr>\n",
       "      <th>order</th>\n",
       "      <th>In</th>\n",
       "      <th>-1</th>\n",
       "      <td>36.925210</td>\n",
       "      <td>3010.44</td>\n",
       "      <td>73.267477</td>\n",
       "      <td>183</td>\n",
       "    </tr>\n",
       "    <tr>\n",
       "      <th>show</th>\n",
       "      <th>We</th>\n",
       "      <th>-1</th>\n",
       "      <td>36.293592</td>\n",
       "      <td>13484.29</td>\n",
       "      <td>167.221876</td>\n",
       "      <td>388</td>\n",
       "    </tr>\n",
       "    <tr>\n",
       "      <th>paper</th>\n",
       "      <th>This</th>\n",
       "      <th>-1</th>\n",
       "      <td>35.929941</td>\n",
       "      <td>342586.69</td>\n",
       "      <td>782.409055</td>\n",
       "      <td>1953</td>\n",
       "    </tr>\n",
       "    <tr>\n",
       "      <th>The</th>\n",
       "      <th>paper</th>\n",
       "      <th>1</th>\n",
       "      <td>35.083989</td>\n",
       "      <td>7977.44</td>\n",
       "      <td>138.716516</td>\n",
       "      <td>295</td>\n",
       "    </tr>\n",
       "  </tbody>\n",
       "</table>\n",
       "</div>"
      ],
      "text/plain": [
       "                               strength     spread        peak     p\n",
       "base word collocate distance                                        \n",
       "This      paper      1        48.524433  342586.69  782.409055  1953\n",
       "also      We        -1        43.127860   13829.36  159.398299   394\n",
       "In        paper      2        39.951056  288595.41  720.910769  1795\n",
       "#         #          2        38.086420     506.56   87.706888   107\n",
       "                    -2        38.086420     506.56   87.706888   107\n",
       "present   We        -1        37.228588   43512.69  284.696956   700\n",
       "order     In        -1        36.925210    3010.44   73.267477   183\n",
       "show      We        -1        36.293592   13484.29  167.221876   388\n",
       "paper     This      -1        35.929941  342586.69  782.409055  1953\n",
       "The       paper      1        35.083989    7977.44  138.716516   295"
      ]
     },
     "execution_count": 24,
     "metadata": {},
     "output_type": "execute_result"
    }
   ],
   "source": [
    "collocations_df.sort_values(by='strength', ascending=False)[:10]"
   ]
  },
  {
   "cell_type": "markdown",
   "metadata": {
    "button": false,
    "deletable": true,
    "editable": true,
    "run_control": {
     "read_only": false
    }
   },
   "source": [
    "### collocation Dataframe 的各欄位統計數據"
   ]
  },
  {
   "cell_type": "code",
   "execution_count": 25,
   "metadata": {
    "button": false,
    "collapsed": false,
    "deletable": true,
    "editable": true,
    "run_control": {
     "read_only": false
    }
   },
   "outputs": [
    {
     "data": {
      "text/html": [
       "<div>\n",
       "<table border=\"1\" class=\"dataframe\">\n",
       "  <thead>\n",
       "    <tr style=\"text-align: right;\">\n",
       "      <th></th>\n",
       "      <th>strength</th>\n",
       "      <th>spread</th>\n",
       "      <th>peak</th>\n",
       "      <th>p</th>\n",
       "    </tr>\n",
       "  </thead>\n",
       "  <tbody>\n",
       "    <tr>\n",
       "      <th>count</th>\n",
       "      <td>5568.000000</td>\n",
       "      <td>5568.000000</td>\n",
       "      <td>5568.000000</td>\n",
       "      <td>5568.000000</td>\n",
       "    </tr>\n",
       "    <tr>\n",
       "      <th>mean</th>\n",
       "      <td>7.705839</td>\n",
       "      <td>386.690801</td>\n",
       "      <td>11.896456</td>\n",
       "      <td>24.915230</td>\n",
       "    </tr>\n",
       "    <tr>\n",
       "      <th>std</th>\n",
       "      <td>5.057564</td>\n",
       "      <td>8572.327215</td>\n",
       "      <td>24.475708</td>\n",
       "      <td>60.118164</td>\n",
       "    </tr>\n",
       "    <tr>\n",
       "      <th>min</th>\n",
       "      <td>1.010727</td>\n",
       "      <td>10.010000</td>\n",
       "      <td>4.400000</td>\n",
       "      <td>5.000000</td>\n",
       "    </tr>\n",
       "    <tr>\n",
       "      <th>25%</th>\n",
       "      <td>3.874649</td>\n",
       "      <td>14.050000</td>\n",
       "      <td>5.800000</td>\n",
       "      <td>12.000000</td>\n",
       "    </tr>\n",
       "    <tr>\n",
       "      <th>50%</th>\n",
       "      <td>6.719882</td>\n",
       "      <td>23.040000</td>\n",
       "      <td>7.576734</td>\n",
       "      <td>15.000000</td>\n",
       "    </tr>\n",
       "    <tr>\n",
       "      <th>75%</th>\n",
       "      <td>10.327578</td>\n",
       "      <td>51.840000</td>\n",
       "      <td>11.200000</td>\n",
       "      <td>23.000000</td>\n",
       "    </tr>\n",
       "    <tr>\n",
       "      <th>max</th>\n",
       "      <td>48.524433</td>\n",
       "      <td>342586.690000</td>\n",
       "      <td>782.409055</td>\n",
       "      <td>1953.000000</td>\n",
       "    </tr>\n",
       "  </tbody>\n",
       "</table>\n",
       "</div>"
      ],
      "text/plain": [
       "          strength         spread         peak            p\n",
       "count  5568.000000    5568.000000  5568.000000  5568.000000\n",
       "mean      7.705839     386.690801    11.896456    24.915230\n",
       "std       5.057564    8572.327215    24.475708    60.118164\n",
       "min       1.010727      10.010000     4.400000     5.000000\n",
       "25%       3.874649      14.050000     5.800000    12.000000\n",
       "50%       6.719882      23.040000     7.576734    15.000000\n",
       "75%      10.327578      51.840000    11.200000    23.000000\n",
       "max      48.524433  342586.690000   782.409055  1953.000000"
      ]
     },
     "execution_count": 25,
     "metadata": {},
     "output_type": "execute_result"
    }
   ],
   "source": [
    "collocations_df.describe()"
   ]
  },
  {
   "cell_type": "markdown",
   "metadata": {
    "button": false,
    "deletable": true,
    "editable": true,
    "run_control": {
     "read_only": false
    }
   },
   "source": [
    "### role 的相關 collocations"
   ]
  },
  {
   "cell_type": "code",
   "execution_count": 26,
   "metadata": {
    "button": false,
    "collapsed": false,
    "deletable": true,
    "editable": true,
    "run_control": {
     "read_only": false
    }
   },
   "outputs": [
    {
     "data": {
      "text/html": [
       "<div>\n",
       "<table border=\"1\" class=\"dataframe\">\n",
       "  <thead>\n",
       "    <tr style=\"text-align: right;\">\n",
       "      <th></th>\n",
       "      <th></th>\n",
       "      <th>strength</th>\n",
       "      <th>spread</th>\n",
       "      <th>peak</th>\n",
       "      <th>p</th>\n",
       "    </tr>\n",
       "    <tr>\n",
       "      <th>collocate</th>\n",
       "      <th>distance</th>\n",
       "      <th></th>\n",
       "      <th></th>\n",
       "      <th></th>\n",
       "      <th></th>\n",
       "    </tr>\n",
       "  </thead>\n",
       "  <tbody>\n",
       "    <tr>\n",
       "      <th>The</th>\n",
       "      <th>-1</th>\n",
       "      <td>5.058224</td>\n",
       "      <td>19.49</td>\n",
       "      <td>6.314748</td>\n",
       "      <td>15</td>\n",
       "    </tr>\n",
       "    <tr>\n",
       "      <th>central</th>\n",
       "      <th>-1</th>\n",
       "      <td>3.306837</td>\n",
       "      <td>10.61</td>\n",
       "      <td>4.557299</td>\n",
       "      <td>11</td>\n",
       "    </tr>\n",
       "    <tr>\n",
       "      <th>important</th>\n",
       "      <th>-1</th>\n",
       "      <td>11.771874</td>\n",
       "      <td>134.96</td>\n",
       "      <td>15.817229</td>\n",
       "      <td>39</td>\n",
       "    </tr>\n",
       "    <tr>\n",
       "      <th>play</th>\n",
       "      <th>-3</th>\n",
       "      <td>19.945013</td>\n",
       "      <td>221.00</td>\n",
       "      <td>21.866069</td>\n",
       "      <td>51</td>\n",
       "    </tr>\n",
       "    <tr>\n",
       "      <th>plays</th>\n",
       "      <th>-3</th>\n",
       "      <td>7.393407</td>\n",
       "      <td>34.01</td>\n",
       "      <td>8.531809</td>\n",
       "      <td>20</td>\n",
       "    </tr>\n",
       "  </tbody>\n",
       "</table>\n",
       "</div>"
      ],
      "text/plain": [
       "                     strength  spread       peak   p\n",
       "collocate distance                                  \n",
       "The       -1         5.058224   19.49   6.314748  15\n",
       "central   -1         3.306837   10.61   4.557299  11\n",
       "important -1        11.771874  134.96  15.817229  39\n",
       "play      -3        19.945013  221.00  21.866069  51\n",
       "plays     -3         7.393407   34.01   8.531809  20"
      ]
     },
     "execution_count": 26,
     "metadata": {},
     "output_type": "execute_result"
    }
   ],
   "source": [
    "collocations_df.loc['role']"
   ]
  },
  {
   "cell_type": "markdown",
   "metadata": {
    "button": false,
    "deletable": true,
    "editable": true,
    "run_control": {
     "read_only": false
    }
   },
   "source": [
    "### strength 的數據分佈"
   ]
  },
  {
   "cell_type": "code",
   "execution_count": 27,
   "metadata": {
    "button": false,
    "collapsed": false,
    "deletable": true,
    "editable": true,
    "run_control": {
     "read_only": false
    }
   },
   "outputs": [
    {
     "data": {
      "text/plain": [
       "<matplotlib.axes._subplots.AxesSubplot at 0x131681cc0>"
      ]
     },
     "execution_count": 27,
     "metadata": {},
     "output_type": "execute_result"
    },
    {
     "data": {
      "image/png": "[encoded data removed]",
      "text/plain": [
       "<matplotlib.figure.Figure at 0x131681e10>"
      ]
     },
     "metadata": {},
     "output_type": "display_data"
    }
   ],
   "source": [
    "collocations_df.strength.hist(bins=100, log=True)"
   ]
  },
  {
   "cell_type": "code",
   "execution_count": null,
   "metadata": {
    "collapsed": true,
    "deletable": true,
    "editable": true
   },
   "outputs": [],
   "source": []
  }
 ],
 "metadata": {
  "kernelspec": {
   "display_name": "Python 2",
   "language": "python",
   "name": "python2"
  },
  "language_info": {
   "codemirror_mode": {
    "name": "ipython",
    "version": 2
   },
   "file_extension": ".py",
   "mimetype": "text/x-python",
   "name": "python",
   "nbconvert_exporter": "python",
   "pygments_lexer": "ipython2",
   "version": "2.7.11"
  }
 },
 "nbformat": 4,
 "nbformat_minor": 0
}
